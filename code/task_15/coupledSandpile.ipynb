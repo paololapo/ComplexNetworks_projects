{
 "cells": [
  {
   "cell_type": "code",
   "execution_count": 12,
   "metadata": {
    "vscode": {
     "languageId": "r"
    }
   },
   "outputs": [],
   "source": [
    "library(ggplot2)\n",
    "library(igraph)\n",
    "library(dplyr)"
   ]
  },
  {
   "cell_type": "code",
   "execution_count": 13,
   "metadata": {
    "vscode": {
     "languageId": "r"
    }
   },
   "outputs": [
    {
     "data": {
      "text/html": [
       "<table class=\"dataframe\">\n",
       "<caption>A data.frame: 6 × 5</caption>\n",
       "<thead>\n",
       "\t<tr><th></th><th scope=col>p</th><th scope=col>iteration</th><th scope=col>started_in</th><th scope=col>A_0</th><th scope=col>A_1</th></tr>\n",
       "\t<tr><th></th><th scope=col>&lt;dbl&gt;</th><th scope=col>&lt;int&gt;</th><th scope=col>&lt;dbl&gt;</th><th scope=col>&lt;int&gt;</th><th scope=col>&lt;int&gt;</th></tr>\n",
       "</thead>\n",
       "<tbody>\n",
       "\t<tr><th scope=row>10833220</th><td>0.5</td><td>1999974</td><td>0</td><td>1</td><td>0</td></tr>\n",
       "\t<tr><th scope=row>10833221</th><td>0.5</td><td>1999977</td><td>0</td><td>1</td><td>0</td></tr>\n",
       "\t<tr><th scope=row>10833222</th><td>0.5</td><td>1999980</td><td>1</td><td>0</td><td>3</td></tr>\n",
       "\t<tr><th scope=row>10833223</th><td>0.5</td><td>1999984</td><td>0</td><td>4</td><td>2</td></tr>\n",
       "\t<tr><th scope=row>10833224</th><td>0.5</td><td>1999990</td><td>0</td><td>1</td><td>0</td></tr>\n",
       "\t<tr><th scope=row>10833225</th><td>0.5</td><td>1999994</td><td>0</td><td>2</td><td>0</td></tr>\n",
       "</tbody>\n",
       "</table>\n"
      ],
      "text/latex": [
       "A data.frame: 6 × 5\n",
       "\\begin{tabular}{r|lllll}\n",
       "  & p & iteration & started\\_in & A\\_0 & A\\_1\\\\\n",
       "  & <dbl> & <int> & <dbl> & <int> & <int>\\\\\n",
       "\\hline\n",
       "\t10833220 & 0.5 & 1999974 & 0 & 1 & 0\\\\\n",
       "\t10833221 & 0.5 & 1999977 & 0 & 1 & 0\\\\\n",
       "\t10833222 & 0.5 & 1999980 & 1 & 0 & 3\\\\\n",
       "\t10833223 & 0.5 & 1999984 & 0 & 4 & 2\\\\\n",
       "\t10833224 & 0.5 & 1999990 & 0 & 1 & 0\\\\\n",
       "\t10833225 & 0.5 & 1999994 & 0 & 2 & 0\\\\\n",
       "\\end{tabular}\n"
      ],
      "text/markdown": [
       "\n",
       "A data.frame: 6 × 5\n",
       "\n",
       "| <!--/--> | p &lt;dbl&gt; | iteration &lt;int&gt; | started_in &lt;dbl&gt; | A_0 &lt;int&gt; | A_1 &lt;int&gt; |\n",
       "|---|---|---|---|---|---|\n",
       "| 10833220 | 0.5 | 1999974 | 0 | 1 | 0 |\n",
       "| 10833221 | 0.5 | 1999977 | 0 | 1 | 0 |\n",
       "| 10833222 | 0.5 | 1999980 | 1 | 0 | 3 |\n",
       "| 10833223 | 0.5 | 1999984 | 0 | 4 | 2 |\n",
       "| 10833224 | 0.5 | 1999990 | 0 | 1 | 0 |\n",
       "| 10833225 | 0.5 | 1999994 | 0 | 2 | 0 |\n",
       "\n"
      ],
      "text/plain": [
       "         p   iteration started_in A_0 A_1\n",
       "10833220 0.5 1999974   0          1   0  \n",
       "10833221 0.5 1999977   0          1   0  \n",
       "10833222 0.5 1999980   1          0   3  \n",
       "10833223 0.5 1999984   0          4   2  \n",
       "10833224 0.5 1999990   0          1   0  \n",
       "10833225 0.5 1999994   0          2   0  "
      ]
     },
     "metadata": {},
     "output_type": "display_data"
    }
   ],
   "source": [
    "# Load the data\n",
    "data <- read.csv(\"./temp_data/coupled.csv\")\n",
    "\n",
    "tail(data)"
   ]
  },
  {
   "cell_type": "code",
   "execution_count": 14,
   "metadata": {
    "vscode": {
     "languageId": "r"
    }
   },
   "outputs": [
    {
     "data": {
      "text/html": [
       "81"
      ],
      "text/latex": [
       "81"
      ],
      "text/markdown": [
       "81"
      ],
      "text/plain": [
       "[1] 81"
      ]
     },
     "metadata": {},
     "output_type": "display_data"
    }
   ],
   "source": [
    "max(data$A_0)"
   ]
  },
  {
   "cell_type": "code",
   "execution_count": 18,
   "metadata": {
    "vscode": {
     "languageId": "r"
    }
   },
   "outputs": [],
   "source": [
    "d_aa <- data |>\n",
    "  filter(started_in == \"0\") |>\n",
    "  select(p, A_0) |>\n",
    "  filter(A_0 > 50) |>\n",
    "  group_by (p) |>\n",
    "  summarise (prob_A_0 = n()/nrow(data))\n",
    "\n",
    "d_ba <- data |>\n",
    "  filter(started_in == \"1\") |>\n",
    "  select(p, A_0) |>\n",
    "  filter(A_0 > 50) |>\n",
    "  group_by (p) |>\n",
    "  summarise (prob_A_0 = n()/nrow(data))"
   ]
  },
  {
   "cell_type": "code",
   "execution_count": 19,
   "metadata": {
    "vscode": {
     "languageId": "r"
    }
   },
   "outputs": [
    {
     "data": {
      "image/png": "[encoded data removed]",
      "text/plain": [
       "plot without title"
      ]
     },
     "metadata": {
      "image/png": {
       "height": 420,
       "width": 420
      }
     },
     "output_type": "display_data"
    }
   ],
   "source": [
    "# Plot\n",
    "ggplot() +\n",
    "  geom_point(data = d_aa, aes(x = p, y = prob_A_0), color = \"red\") +\n",
    "  geom_point(data = d_ba, aes(x = p, y = prob_A_0), color = \"blue\") +\n",
    "  theme_minimal() +\n",
    "  labs(title = \"Coupled\",\n",
    "       x = \"p\",\n",
    "       y = \"A_0\")"
   ]
  },
  {
   "cell_type": "code",
   "execution_count": 7,
   "metadata": {
    "vscode": {
     "languageId": "r"
    }
   },
   "outputs": [
    {
     "data": {
      "text/html": [
       "<table class=\"dataframe\">\n",
       "<caption>A data.frame: 0 × 2</caption>\n",
       "<thead>\n",
       "\t<tr><th scope=col>p</th><th scope=col>A_0</th></tr>\n",
       "\t<tr><th scope=col>&lt;dbl&gt;</th><th scope=col>&lt;int&gt;</th></tr>\n",
       "</thead>\n",
       "<tbody>\n",
       "</tbody>\n",
       "</table>\n"
      ],
      "text/latex": [
       "A data.frame: 0 × 2\n",
       "\\begin{tabular}{ll}\n",
       " p & A\\_0\\\\\n",
       " <dbl> & <int>\\\\\n",
       "\\hline\n",
       "\\end{tabular}\n"
      ],
      "text/markdown": [
       "\n",
       "A data.frame: 0 × 2\n",
       "\n",
       "| p &lt;dbl&gt; | A_0 &lt;int&gt; |\n",
       "|---|---|\n",
       "\n"
      ],
      "text/plain": [
       "     p A_0"
      ]
     },
     "metadata": {},
     "output_type": "display_data"
    }
   ],
   "source": [
    "d_ba"
   ]
  },
  {
   "cell_type": "code",
   "execution_count": null,
   "metadata": {
    "vscode": {
     "languageId": "r"
    }
   },
   "outputs": [],
   "source": []
  }
 ],
 "metadata": {
  "kernelspec": {
   "display_name": "R",
   "language": "R",
   "name": "ir"
  },
  "language_info": {
   "codemirror_mode": "r",
   "file_extension": ".r",
   "mimetype": "text/x-r-source",
   "name": "R",
   "pygments_lexer": "r",
   "version": "4.1.2"
  }
 },
 "nbformat": 4,
 "nbformat_minor": 2
}
