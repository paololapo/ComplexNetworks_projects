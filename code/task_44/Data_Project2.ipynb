{
 "cells": [
  {
   "cell_type": "markdown",
   "metadata": {},
   "source": [
    "well structured data determining the “friendship” between people living in two geographic areas. The data repository is here. \n",
    "\n",
    "The task is to build a network for the all countries in the world, where the nodes are GADM NUTS3 areas. Only countries with sufficient data coverage should be considered, and the task can be limited only the top 100 (excluding the USA). \n",
    "\n",
    "The output consists of two files: one for nodes *(nodeID,nodeLabel,latitude,longitude)* and one for edges list *(nodeID_from,nodeID_to,country_name,country_ISO3)*. \n",
    "\n",
    "A simplified network analysis to compare the networks is expected."
   ]
  },
  {
   "cell_type": "code",
   "execution_count": 1,
   "metadata": {
    "vscode": {
     "languageId": "r"
    }
   },
   "outputs": [
    {
     "name": "stderr",
     "output_type": "stream",
     "text": [
      "terra 1.7.78\n",
      "\n",
      "\n",
      "Attaching package: ‘dplyr’\n",
      "\n",
      "\n",
      "The following objects are masked from ‘package:terra’:\n",
      "\n",
      "    intersect, union\n",
      "\n",
      "\n",
      "The following objects are masked from ‘package:stats’:\n",
      "\n",
      "    filter, lag\n",
      "\n",
      "\n",
      "The following objects are masked from ‘package:base’:\n",
      "\n",
      "    intersect, setdiff, setequal, union\n",
      "\n",
      "\n",
      "Linking to GEOS 3.10.2, GDAL 3.4.1, PROJ 8.2.1; sf_use_s2() is TRUE\n",
      "\n",
      "here() starts at /home/lapo/Desktop/Uni\n",
      "\n"
     ]
    }
   ],
   "source": [
    "library(terra)\n",
    "library(geodata)\n",
    "library(dplyr)\n",
    "library(eurostat)\n",
    "library(sf)\n",
    "library(here)"
   ]
  },
  {
   "cell_type": "code",
   "execution_count": 2,
   "metadata": {
    "vscode": {
     "languageId": "r"
    }
   },
   "outputs": [],
   "source": [
    "# Define some hyperparameters of the analysis\n",
    "weight <- TRUE # If TRUE, edge list with the SCI as weights\n",
    "dropNodeCode <- FALSE # If TRUE, drop the node code from the edge list"
   ]
  },
  {
   "cell_type": "code",
   "execution_count": 2,
   "metadata": {
    "vscode": {
     "languageId": "r"
    }
   },
   "outputs": [],
   "source": [
    "# Import the data from meta\n",
    "path_data_fb <- \"../../data/meta/task44/gadm1_nuts3_counties-gadm1_nuts3_counties - FB Social Connectedness Index - October 2021.tsv\"\n",
    "df <- read.table(file = path_data_fb, sep = \"\\t\", header = TRUE)"
   ]
  },
  {
   "cell_type": "code",
   "execution_count": 3,
   "metadata": {
    "vscode": {
     "languageId": "r"
    }
   },
   "outputs": [
    {
     "data": {
      "text/html": [
       "<table class=\"dataframe\">\n",
       "<caption>A data.frame: 6 × 3</caption>\n",
       "<thead>\n",
       "\t<tr><th></th><th scope=col>user_loc</th><th scope=col>fr_loc</th><th scope=col>scaled_sci</th></tr>\n",
       "\t<tr><th></th><th scope=col>&lt;chr&gt;</th><th scope=col>&lt;chr&gt;</th><th scope=col>&lt;int&gt;</th></tr>\n",
       "</thead>\n",
       "<tbody>\n",
       "\t<tr><th scope=row>63824116</th><td>ZWE9</td><td>ZWE4</td><td>  318504</td></tr>\n",
       "\t<tr><th scope=row>63824117</th><td>ZWE9</td><td>ZWE5</td><td>  305709</td></tr>\n",
       "\t<tr><th scope=row>63824118</th><td>ZWE9</td><td>ZWE6</td><td>  365478</td></tr>\n",
       "\t<tr><th scope=row>63824119</th><td>ZWE9</td><td>ZWE7</td><td>  715880</td></tr>\n",
       "\t<tr><th scope=row>63824120</th><td>ZWE9</td><td>ZWE8</td><td>  722214</td></tr>\n",
       "\t<tr><th scope=row>63824121</th><td>ZWE9</td><td>ZWE9</td><td>15475362</td></tr>\n",
       "</tbody>\n",
       "</table>\n"
      ],
      "text/latex": [
       "A data.frame: 6 × 3\n",
       "\\begin{tabular}{r|lll}\n",
       "  & user\\_loc & fr\\_loc & scaled\\_sci\\\\\n",
       "  & <chr> & <chr> & <int>\\\\\n",
       "\\hline\n",
       "\t63824116 & ZWE9 & ZWE4 &   318504\\\\\n",
       "\t63824117 & ZWE9 & ZWE5 &   305709\\\\\n",
       "\t63824118 & ZWE9 & ZWE6 &   365478\\\\\n",
       "\t63824119 & ZWE9 & ZWE7 &   715880\\\\\n",
       "\t63824120 & ZWE9 & ZWE8 &   722214\\\\\n",
       "\t63824121 & ZWE9 & ZWE9 & 15475362\\\\\n",
       "\\end{tabular}\n"
      ],
      "text/markdown": [
       "\n",
       "A data.frame: 6 × 3\n",
       "\n",
       "| <!--/--> | user_loc &lt;chr&gt; | fr_loc &lt;chr&gt; | scaled_sci &lt;int&gt; |\n",
       "|---|---|---|---|\n",
       "| 63824116 | ZWE9 | ZWE4 |   318504 |\n",
       "| 63824117 | ZWE9 | ZWE5 |   305709 |\n",
       "| 63824118 | ZWE9 | ZWE6 |   365478 |\n",
       "| 63824119 | ZWE9 | ZWE7 |   715880 |\n",
       "| 63824120 | ZWE9 | ZWE8 |   722214 |\n",
       "| 63824121 | ZWE9 | ZWE9 | 15475362 |\n",
       "\n"
      ],
      "text/plain": [
       "         user_loc fr_loc scaled_sci\n",
       "63824116 ZWE9     ZWE4     318504  \n",
       "63824117 ZWE9     ZWE5     305709  \n",
       "63824118 ZWE9     ZWE6     365478  \n",
       "63824119 ZWE9     ZWE7     715880  \n",
       "63824120 ZWE9     ZWE8     722214  \n",
       "63824121 ZWE9     ZWE9   15475362  "
      ]
     },
     "metadata": {},
     "output_type": "display_data"
    }
   ],
   "source": [
    "tail(df)"
   ]
  },
  {
   "cell_type": "code",
   "execution_count": 5,
   "metadata": {
    "vscode": {
     "languageId": "r"
    }
   },
   "outputs": [
    {
     "data": {
      "text/html": [
       "'Filtered out USA counties, df has 22695696 rows now'"
      ],
      "text/latex": [
       "'Filtered out USA counties, df has 22695696 rows now'"
      ],
      "text/markdown": [
       "'Filtered out USA counties, df has 22695696 rows now'"
      ],
      "text/plain": [
       "[1] \"Filtered out USA counties, df has 22695696 rows now\""
      ]
     },
     "metadata": {},
     "output_type": "display_data"
    }
   ],
   "source": [
    "# Filter out USA counties for memory reasons\n",
    "if (any(grepl(\"USA\", df$user_loc))) {\n",
    "  df <- df[-grep(\"USA\", df$user_loc),]\n",
    "}\n",
    "if (any(grepl(\"USA\", df$fr_loc))) {\n",
    "  df <- df[-grep(\"USA\", df$fr_loc),]\n",
    "}\n",
    "\n",
    "sprintf(\"Filtered out USA counties, df has %d rows now\", nrow(df))"
   ]
  },
  {
   "cell_type": "code",
   "execution_count": 6,
   "metadata": {
    "vscode": {
     "languageId": "r"
    }
   },
   "outputs": [
    {
     "data": {
      "text/html": [
       "<table class=\"dataframe\">\n",
       "<caption>A data.frame: 6 × 3</caption>\n",
       "<thead>\n",
       "\t<tr><th></th><th scope=col>user_loc</th><th scope=col>fr_loc</th><th scope=col>scaled_sci</th></tr>\n",
       "\t<tr><th></th><th scope=col>&lt;chr&gt;</th><th scope=col>&lt;chr&gt;</th><th scope=col>&lt;int&gt;</th></tr>\n",
       "</thead>\n",
       "<tbody>\n",
       "\t<tr><th scope=row>1</th><td>ABW</td><td>ABW  </td><td>11264841</td></tr>\n",
       "\t<tr><th scope=row>2</th><td>ABW</td><td>AGO1 </td><td>      38</td></tr>\n",
       "\t<tr><th scope=row>3</th><td>ABW</td><td>AGO10</td><td>      34</td></tr>\n",
       "\t<tr><th scope=row>4</th><td>ABW</td><td>AGO11</td><td>      32</td></tr>\n",
       "\t<tr><th scope=row>5</th><td>ABW</td><td>AGO12</td><td>      23</td></tr>\n",
       "\t<tr><th scope=row>6</th><td>ABW</td><td>AGO13</td><td>      37</td></tr>\n",
       "</tbody>\n",
       "</table>\n"
      ],
      "text/latex": [
       "A data.frame: 6 × 3\n",
       "\\begin{tabular}{r|lll}\n",
       "  & user\\_loc & fr\\_loc & scaled\\_sci\\\\\n",
       "  & <chr> & <chr> & <int>\\\\\n",
       "\\hline\n",
       "\t1 & ABW & ABW   & 11264841\\\\\n",
       "\t2 & ABW & AGO1  &       38\\\\\n",
       "\t3 & ABW & AGO10 &       34\\\\\n",
       "\t4 & ABW & AGO11 &       32\\\\\n",
       "\t5 & ABW & AGO12 &       23\\\\\n",
       "\t6 & ABW & AGO13 &       37\\\\\n",
       "\\end{tabular}\n"
      ],
      "text/markdown": [
       "\n",
       "A data.frame: 6 × 3\n",
       "\n",
       "| <!--/--> | user_loc &lt;chr&gt; | fr_loc &lt;chr&gt; | scaled_sci &lt;int&gt; |\n",
       "|---|---|---|---|\n",
       "| 1 | ABW | ABW   | 11264841 |\n",
       "| 2 | ABW | AGO1  |       38 |\n",
       "| 3 | ABW | AGO10 |       34 |\n",
       "| 4 | ABW | AGO11 |       32 |\n",
       "| 5 | ABW | AGO12 |       23 |\n",
       "| 6 | ABW | AGO13 |       37 |\n",
       "\n"
      ],
      "text/plain": [
       "  user_loc fr_loc scaled_sci\n",
       "1 ABW      ABW    11264841  \n",
       "2 ABW      AGO1         38  \n",
       "3 ABW      AGO10        34  \n",
       "4 ABW      AGO11        32  \n",
       "5 ABW      AGO12        23  \n",
       "6 ABW      AGO13        37  "
      ]
     },
     "metadata": {},
     "output_type": "display_data"
    }
   ],
   "source": [
    "head(df)"
   ]
  },
  {
   "cell_type": "code",
   "execution_count": 5,
   "metadata": {
    "vscode": {
     "languageId": "r"
    }
   },
   "outputs": [
    {
     "data": {
      "text/html": [
       "<table class=\"dataframe\">\n",
       "<caption>A data.frame: 6 × 2</caption>\n",
       "<thead>\n",
       "\t<tr><th></th><th scope=col>key</th><th scope=col>level</th></tr>\n",
       "\t<tr><th></th><th scope=col>&lt;chr&gt;</th><th scope=col>&lt;chr&gt;</th></tr>\n",
       "</thead>\n",
       "<tbody>\n",
       "\t<tr><th scope=row>8003</th><td>LKA24_318</td><td>gadm2</td></tr>\n",
       "\t<tr><th scope=row>8004</th><td>LKA24_319</td><td>gadm2</td></tr>\n",
       "\t<tr><th scope=row>8005</th><td>LKA25_320</td><td>gadm2</td></tr>\n",
       "\t<tr><th scope=row>8006</th><td>LKA25_321</td><td>gadm2</td></tr>\n",
       "\t<tr><th scope=row>8007</th><td>LKA25_322</td><td>gadm2</td></tr>\n",
       "\t<tr><th scope=row>8008</th><td>LKA25_323</td><td>gadm2</td></tr>\n",
       "</tbody>\n",
       "</table>\n"
      ],
      "text/latex": [
       "A data.frame: 6 × 2\n",
       "\\begin{tabular}{r|ll}\n",
       "  & key & level\\\\\n",
       "  & <chr> & <chr>\\\\\n",
       "\\hline\n",
       "\t8003 & LKA24\\_318 & gadm2\\\\\n",
       "\t8004 & LKA24\\_319 & gadm2\\\\\n",
       "\t8005 & LKA25\\_320 & gadm2\\\\\n",
       "\t8006 & LKA25\\_321 & gadm2\\\\\n",
       "\t8007 & LKA25\\_322 & gadm2\\\\\n",
       "\t8008 & LKA25\\_323 & gadm2\\\\\n",
       "\\end{tabular}\n"
      ],
      "text/markdown": [
       "\n",
       "A data.frame: 6 × 2\n",
       "\n",
       "| <!--/--> | key &lt;chr&gt; | level &lt;chr&gt; |\n",
       "|---|---|---|\n",
       "| 8003 | LKA24_318 | gadm2 |\n",
       "| 8004 | LKA24_319 | gadm2 |\n",
       "| 8005 | LKA25_320 | gadm2 |\n",
       "| 8006 | LKA25_321 | gadm2 |\n",
       "| 8007 | LKA25_322 | gadm2 |\n",
       "| 8008 | LKA25_323 | gadm2 |\n",
       "\n"
      ],
      "text/plain": [
       "     key       level\n",
       "8003 LKA24_318 gadm2\n",
       "8004 LKA24_319 gadm2\n",
       "8005 LKA25_320 gadm2\n",
       "8006 LKA25_321 gadm2\n",
       "8007 LKA25_322 gadm2\n",
       "8008 LKA25_323 gadm2"
      ]
     },
     "metadata": {},
     "output_type": "display_data"
    }
   ],
   "source": [
    "# Import the table with the levels of the counties\n",
    "levels <- read.table(file = \"../../data/task_44/meta/gadm1_nuts3_counties_levels.csv\", sep = ',', header = TRUE)\n",
    "\n",
    "tail(levels)"
   ]
  },
  {
   "cell_type": "code",
   "execution_count": 8,
   "metadata": {
    "vscode": {
     "languageId": "r"
    }
   },
   "outputs": [],
   "source": [
    "# Function to get the country from a NUTS3 CNTR_CODE\n",
    "get_nuts3_country <- function(nuts3_code, nuts3_shapefile){\n",
    "  nuts3_region <- nuts3_shapefile[nuts3_shapefile$id == nuts3_code, ]\n",
    "  country <- countrycode::countrycode(nuts3_region$CNTR_CODE, origin = \"eurostat\", destination = \"iso3c\")\n",
    "  return(country)\n",
    "}"
   ]
  },
  {
   "cell_type": "code",
   "execution_count": 9,
   "metadata": {
    "vscode": {
     "languageId": "r"
    }
   },
   "outputs": [
    {
     "name": "stderr",
     "output_type": "stream",
     "text": [
      "Extracting data from eurostat::eurostat_geodata_60_2016\n",
      "\n"
     ]
    }
   ],
   "source": [
    "# Attach the country to the levels table\n",
    "levels$country <- sub(\"^([A-Z]+).*\", \"\\\\1\", levels$key)\n",
    "\n",
    "# Overwrite nuts3 countries with ISO 3 codes\n",
    "nuts3_shapefile <- eurostat::get_eurostat_geospatial(nuts_level = 3, year = 2016, output_class = \"sf\")\n",
    "nuts3_keys <- levels[levels$level == \"nuts3\", ]$key\n",
    "nuts3_countries <- sapply(nuts3_keys, get_nuts3_country, nuts3_shapefile = nuts3_shapefile)\n",
    "levels[levels$level == \"nuts3\", ]$country <- nuts3_countries\n",
    "\n",
    "# Clear the memory\n",
    "rm(nuts3_countries, nuts3_keys, nuts3_shapefile)"
   ]
  },
  {
   "cell_type": "code",
   "execution_count": 10,
   "metadata": {
    "vscode": {
     "languageId": "r"
    }
   },
   "outputs": [],
   "source": [
    "# Attach the countries and the levels to the df table\n",
    "df <- df |>\n",
    "  # Left join the user and fr country\n",
    "  left_join(levels, by = c(\"user_loc\" = \"key\")) |>\n",
    "  left_join(levels, by = c(\"fr_loc\" = \"key\"), suffix = c(\"_user\", \"_fr\")) |>\n",
    "  # Drop the level_fr column and rename the level_user column\n",
    "  select(-c(\"level_fr\")) |>\n",
    "  rename(level = level_user)"
   ]
  },
  {
   "cell_type": "code",
   "execution_count": 11,
   "metadata": {
    "vscode": {
     "languageId": "r"
    }
   },
   "outputs": [],
   "source": [
    "# Filter out extra national connection and small areas\n",
    "df <- df |>\n",
    "  # Extra national connection\n",
    "  filter(country_user == country_fr) |>\n",
    "  select(-c(\"country_user\")) |> \n",
    "  rename(country = country_fr) |>\n",
    "  # Small areas and missing levels\n",
    "  filter(level %in% c(\"gadm1\", \"gadm2\", \"nuts3\"))"
   ]
  },
  {
   "cell_type": "code",
   "execution_count": 12,
   "metadata": {
    "vscode": {
     "languageId": "r"
    }
   },
   "outputs": [
    {
     "data": {
      "text/html": [
       "<table class=\"dataframe\">\n",
       "<caption>A tibble: 6 × 2</caption>\n",
       "<thead>\n",
       "\t<tr><th scope=col>country</th><th scope=col>level</th></tr>\n",
       "\t<tr><th scope=col>&lt;chr&gt;</th><th scope=col>&lt;chr&gt;</th></tr>\n",
       "</thead>\n",
       "<tbody>\n",
       "\t<tr><td>UZB</td><td>gadm1</td></tr>\n",
       "\t<tr><td>VNM</td><td>gadm1</td></tr>\n",
       "\t<tr><td>XKO</td><td>gadm1</td></tr>\n",
       "\t<tr><td>ZAF</td><td>gadm1</td></tr>\n",
       "\t<tr><td>ZMB</td><td>gadm1</td></tr>\n",
       "\t<tr><td>ZWE</td><td>gadm1</td></tr>\n",
       "</tbody>\n",
       "</table>\n"
      ],
      "text/latex": [
       "A tibble: 6 × 2\n",
       "\\begin{tabular}{ll}\n",
       " country & level\\\\\n",
       " <chr> & <chr>\\\\\n",
       "\\hline\n",
       "\t UZB & gadm1\\\\\n",
       "\t VNM & gadm1\\\\\n",
       "\t XKO & gadm1\\\\\n",
       "\t ZAF & gadm1\\\\\n",
       "\t ZMB & gadm1\\\\\n",
       "\t ZWE & gadm1\\\\\n",
       "\\end{tabular}\n"
      ],
      "text/markdown": [
       "\n",
       "A tibble: 6 × 2\n",
       "\n",
       "| country &lt;chr&gt; | level &lt;chr&gt; |\n",
       "|---|---|\n",
       "| UZB | gadm1 |\n",
       "| VNM | gadm1 |\n",
       "| XKO | gadm1 |\n",
       "| ZAF | gadm1 |\n",
       "| ZMB | gadm1 |\n",
       "| ZWE | gadm1 |\n",
       "\n"
      ],
      "text/plain": [
       "  country level\n",
       "1 UZB     gadm1\n",
       "2 VNM     gadm1\n",
       "3 XKO     gadm1\n",
       "4 ZAF     gadm1\n",
       "5 ZMB     gadm1\n",
       "6 ZWE     gadm1"
      ]
     },
     "metadata": {},
     "output_type": "display_data"
    }
   ],
   "source": [
    "# Get the unique countries and the correspondent levels\n",
    "country_levels <- df |> \n",
    "  group_by(country) |>\n",
    "  summarise(unique(level)) |>\n",
    "  rename(level = `unique(level)`)\n",
    "\n",
    "# Drop the level column from the df table\n",
    "df <- df |>\n",
    "  select(-c(\"level\"))\n",
    "\n",
    "tail(country_levels)"
   ]
  },
  {
   "cell_type": "code",
   "execution_count": 13,
   "metadata": {
    "vscode": {
     "languageId": "r"
    }
   },
   "outputs": [
    {
     "data": {
      "text/html": [
       "<table class=\"dataframe\">\n",
       "<caption>A data.frame: 6 × 4</caption>\n",
       "<thead>\n",
       "\t<tr><th></th><th scope=col>user_loc</th><th scope=col>fr_loc</th><th scope=col>scaled_sci</th><th scope=col>country</th></tr>\n",
       "\t<tr><th></th><th scope=col>&lt;chr&gt;</th><th scope=col>&lt;chr&gt;</th><th scope=col>&lt;int&gt;</th><th scope=col>&lt;chr&gt;</th></tr>\n",
       "</thead>\n",
       "<tbody>\n",
       "\t<tr><th scope=row>1</th><td>AGO1</td><td>AGO1 </td><td>13506847</td><td>AGO</td></tr>\n",
       "\t<tr><th scope=row>2</th><td>AGO1</td><td>AGO10</td><td>  333587</td><td>AGO</td></tr>\n",
       "\t<tr><th scope=row>3</th><td>AGO1</td><td>AGO11</td><td>  599759</td><td>AGO</td></tr>\n",
       "\t<tr><th scope=row>4</th><td>AGO1</td><td>AGO12</td><td>  304830</td><td>AGO</td></tr>\n",
       "\t<tr><th scope=row>5</th><td>AGO1</td><td>AGO13</td><td>  315700</td><td>AGO</td></tr>\n",
       "\t<tr><th scope=row>6</th><td>AGO1</td><td>AGO14</td><td>  376355</td><td>AGO</td></tr>\n",
       "</tbody>\n",
       "</table>\n"
      ],
      "text/latex": [
       "A data.frame: 6 × 4\n",
       "\\begin{tabular}{r|llll}\n",
       "  & user\\_loc & fr\\_loc & scaled\\_sci & country\\\\\n",
       "  & <chr> & <chr> & <int> & <chr>\\\\\n",
       "\\hline\n",
       "\t1 & AGO1 & AGO1  & 13506847 & AGO\\\\\n",
       "\t2 & AGO1 & AGO10 &   333587 & AGO\\\\\n",
       "\t3 & AGO1 & AGO11 &   599759 & AGO\\\\\n",
       "\t4 & AGO1 & AGO12 &   304830 & AGO\\\\\n",
       "\t5 & AGO1 & AGO13 &   315700 & AGO\\\\\n",
       "\t6 & AGO1 & AGO14 &   376355 & AGO\\\\\n",
       "\\end{tabular}\n"
      ],
      "text/markdown": [
       "\n",
       "A data.frame: 6 × 4\n",
       "\n",
       "| <!--/--> | user_loc &lt;chr&gt; | fr_loc &lt;chr&gt; | scaled_sci &lt;int&gt; | country &lt;chr&gt; |\n",
       "|---|---|---|---|---|\n",
       "| 1 | AGO1 | AGO1  | 13506847 | AGO |\n",
       "| 2 | AGO1 | AGO10 |   333587 | AGO |\n",
       "| 3 | AGO1 | AGO11 |   599759 | AGO |\n",
       "| 4 | AGO1 | AGO12 |   304830 | AGO |\n",
       "| 5 | AGO1 | AGO13 |   315700 | AGO |\n",
       "| 6 | AGO1 | AGO14 |   376355 | AGO |\n",
       "\n"
      ],
      "text/plain": [
       "  user_loc fr_loc scaled_sci country\n",
       "1 AGO1     AGO1   13506847   AGO    \n",
       "2 AGO1     AGO10    333587   AGO    \n",
       "3 AGO1     AGO11    599759   AGO    \n",
       "4 AGO1     AGO12    304830   AGO    \n",
       "5 AGO1     AGO13    315700   AGO    \n",
       "6 AGO1     AGO14    376355   AGO    "
      ]
     },
     "metadata": {},
     "output_type": "display_data"
    }
   ],
   "source": [
    "head(df)"
   ]
  },
  {
   "cell_type": "code",
   "execution_count": 14,
   "metadata": {
    "vscode": {
     "languageId": "r"
    }
   },
   "outputs": [],
   "source": [
    "# Custom sorting functions\n",
    "sort_gadm1 <- function(vec) {\n",
    "  # Extract alphabetic and numeric parts\n",
    "  alphabetic_part <- gsub(\"\\\\d\", \"\", vec)  # Remove digits\n",
    "  numeric_part <- as.integer(gsub(\"\\\\D\", \"\", vec))  # Remove non-digits and convert to integer\n",
    "  \n",
    "  # Sort by alphabetic part first, then numeric part\n",
    "  order <- order(alphabetic_part, numeric_part)\n",
    "  \n",
    "  # Return sorted vector\n",
    "  return(vec[order])\n",
    "}\n",
    "\n",
    "sort_gadm2 <- function(vec) {\n",
    "  # Extract the numbers after the underscore\n",
    "  codes <- as.integer(sub(\".*_(\\\\d{1,3})$\", \"\\\\1\", vec))\n",
    "\n",
    "  # Sort by the numbers\n",
    "  order <- order(codes)\n",
    "  \n",
    "  # Return sorted vector\n",
    "  return(vec[order])\n",
    "}"
   ]
  },
  {
   "cell_type": "code",
   "execution_count": 15,
   "metadata": {
    "vscode": {
     "languageId": "r"
    }
   },
   "outputs": [
    {
     "data": {
      "text/html": [
       "<table class=\"dataframe\">\n",
       "<caption>A tibble: 6 × 2</caption>\n",
       "<thead>\n",
       "\t<tr><th scope=col>country</th><th scope=col>level</th></tr>\n",
       "\t<tr><th scope=col>&lt;chr&gt;</th><th scope=col>&lt;chr&gt;</th></tr>\n",
       "</thead>\n",
       "<tbody>\n",
       "\t<tr><td>AGO</td><td>gadm1</td></tr>\n",
       "\t<tr><td>ALB</td><td>nuts3</td></tr>\n",
       "\t<tr><td>ARE</td><td>gadm1</td></tr>\n",
       "\t<tr><td>ARG</td><td>gadm1</td></tr>\n",
       "\t<tr><td>ARM</td><td>gadm1</td></tr>\n",
       "\t<tr><td>AUS</td><td>gadm1</td></tr>\n",
       "</tbody>\n",
       "</table>\n"
      ],
      "text/latex": [
       "A tibble: 6 × 2\n",
       "\\begin{tabular}{ll}\n",
       " country & level\\\\\n",
       " <chr> & <chr>\\\\\n",
       "\\hline\n",
       "\t AGO & gadm1\\\\\n",
       "\t ALB & nuts3\\\\\n",
       "\t ARE & gadm1\\\\\n",
       "\t ARG & gadm1\\\\\n",
       "\t ARM & gadm1\\\\\n",
       "\t AUS & gadm1\\\\\n",
       "\\end{tabular}\n"
      ],
      "text/markdown": [
       "\n",
       "A tibble: 6 × 2\n",
       "\n",
       "| country &lt;chr&gt; | level &lt;chr&gt; |\n",
       "|---|---|\n",
       "| AGO | gadm1 |\n",
       "| ALB | nuts3 |\n",
       "| ARE | gadm1 |\n",
       "| ARG | gadm1 |\n",
       "| ARM | gadm1 |\n",
       "| AUS | gadm1 |\n",
       "\n"
      ],
      "text/plain": [
       "  country level\n",
       "1 AGO     gadm1\n",
       "2 ALB     nuts3\n",
       "3 ARE     gadm1\n",
       "4 ARG     gadm1\n",
       "5 ARM     gadm1\n",
       "6 AUS     gadm1"
      ]
     },
     "metadata": {},
     "output_type": "display_data"
    }
   ],
   "source": [
    "head(country_levels)"
   ]
  },
  {
   "cell_type": "code",
   "execution_count": 18,
   "metadata": {
    "vscode": {
     "languageId": "r"
    }
   },
   "outputs": [
    {
     "name": "stderr",
     "output_type": "stream",
     "text": [
      "Extracting data from eurostat::eurostat_geodata_60_2016\n",
      "\n"
     ]
    },
    {
     "name": "stdout",
     "output_type": "stream",
     "text": [
      "AGOALBAREARGARMAUSAUTAZEBDIBELBENBFABGDBGRBHRBIHBLRBOLBRABWACAFCANCHECHLCIVCMRCODCOGCOLCRICYPCZEDEUDNKDOMDZAECUEGYERIESPESTETHFINFRAGABGBRGEOGHAGINGMBGNBGNQGRCGTMHKGHNDHRVHTIHUNIDNINDIRLISLITAJAMJORJPNKAZKENKGZKHMKORKWTLAOLBNLBRLBYLIELKALSOLTULUXLVAMARMDAMDGMEXMKDMLIMLTMMRMNEMNGMOZMRTMUSMWIMYSNAMNERNGANICNLDNORNPLNZLOMNPAKPANPERPHLPNGPOLPRTPRYQATROURWASAUSENSGPSLESLVSRBSVKSVNSWESWZTCDTGOTHATJKTLSTTOTUNTURTWNTZAUGAUKRURYUZBVNMXKOZAFZMBZWE"
     ]
    }
   ],
   "source": [
    "# Get the shapefile for the NUTS3 regions\n",
    "nuts3_shapefile <- eurostat::get_eurostat_geospatial(nuts_level = 3, year = 2016, output_class = \"sf\")\n",
    "\n",
    "# Loop over the countries\n",
    "for(i in 1:nrow(country_levels)){\n",
    "  # Get the country and the level and subset the df\n",
    "  country <- country_levels$country[i]\n",
    "  level <- country_levels$level[i]\n",
    "  df_country <- df[df$country == country,]\n",
    "\n",
    "  # Extract the counties/regions\n",
    "  nodeCode <- unique(c(df_country$user_loc, df_country$fr_loc))\n",
    "\n",
    "  ## GADM ##\n",
    "  if(level %in% c(\"gadm1\", \"gadm2\")){\n",
    "    # Sort the counties/regions, get the gadm data, create the node dataframe\n",
    "    if(level == \"gadm1\"){\n",
    "      nodeCode <- sort_gadm1(nodeCode)\n",
    "      gadm_data <- gadm(country, level = 1, path = \"../../data/task_44/\", version=\"3.6\")\n",
    "      \n",
    "      nodes_df <- data.frame(nodeCode = nodeCode)\n",
    "      nodes_df$nodeID <- as.integer(gsub(\"\\\\D\", \"\", nodes_df$nodeCode))\n",
    "    } else if(level == \"gadm2\"){\n",
    "      nodeCode <- sort_gadm2(nodeCode)\n",
    "      gadm_data <- gadm(country, level = 2, path = \"../../data/task_44/\", version=\"3.6\")\n",
    "      \n",
    "      nodes_df <- data.frame(nodeCode = nodeCode)\n",
    "      nodes_df$nodeID <- as.integer(sub(\".*_(\\\\d{1,3})$\", \"\\\\1\", nodes_df$nodeCode))\n",
    "    }\n",
    "\n",
    "    # Extract the name\n",
    "    if (level == \"gadm1\"){\n",
    "      nodes_df$name <- gadm_data$NAME_1[nodes_df$nodeID]\n",
    "    } else if (level == \"gadm2\"){\n",
    "      nodes_df$name <- gadm_data$NAME_2[nodes_df$nodeID]\n",
    "    }\n",
    "\n",
    "    # Get the centroids of each region\n",
    "    centroids <- terra::centroids(gadm_data)\n",
    "    coords <- terra::crds(centroids)\n",
    "\n",
    "    # Attach the coordinates\n",
    "    nodes_df$longitude <- coords[, 1][nodes_df$nodeID]\n",
    "    nodes_df$latitude <- coords[, 2][nodes_df$nodeID]\n",
    "\n",
    "    # Get the nodeID for the user_loc and fr_loc\n",
    "    nodeID_from <- sapply(df_country$user_loc, function(x) nodes_df[nodes_df$nodeCode == x, ]$nodeID)\n",
    "    nodeID_to <- sapply(df_country$fr_loc, function(x) nodes_df[nodes_df$nodeCode == x, ]$nodeID)\n",
    "\n",
    "    # Create the edge dataframe\n",
    "    edges_df <- data.frame(nodeID_from = nodeID_from, nodeID_to = nodeID_to)\n",
    "\n",
    "    # Extract the scaled_sci, the country and the country ISO3\n",
    "    if (weight) edges_df$weight <- df_country$scaled_sci\n",
    "    edges_df$country_name <- gadm_data$NAME_0[nodes_df$nodeID]\n",
    "    edges_df$country_ISO3 <- country\n",
    "\n",
    "    # Drop nodeCode (assuming label = name)\n",
    "    if (dropNodeCode) nodes_df$nodeCode <- NULL\n",
    "  }\n",
    "\n",
    "\n",
    "  ## NUTS3 ##\n",
    "  else if(level == \"nuts3\"){\n",
    "    # Extract nodeID\n",
    "    nodes_df <- data.frame(nodeCode = nodeCode)\n",
    "    nodes_df$nodeID <- as.integer(gsub(\"\\\\D\", \"\", nodes_df$nodeCode))\n",
    "\n",
    "    # Extract the regions of the country\n",
    "    nuts3_regions <- nuts3_shapefile[match(nodeCode, nuts3_shapefile$id), ]\n",
    "\n",
    "    # Attach the name\n",
    "    nodes_df$name <- nuts3_regions$NAME_LATN\n",
    "\n",
    "    # Extract and attach the coordinates\n",
    "    centroids <- st_centroid(nuts3_regions$geometry)\n",
    "    coords <- st_coordinates(centroids)\n",
    "    nodes_df$longitude <- coords[, 1]\n",
    "    nodes_df$latitude <- coords[, 2]\n",
    "\n",
    "    # Get the nodeID for the user_loc and fr_loc\n",
    "    nodeID_from <- sapply(df_country$user_loc, function(x) nodes_df[nodes_df$nodeCode == x, ]$nodeID)\n",
    "    nodeID_to <- sapply(df_country$fr_loc, function(x) nodes_df[nodes_df$nodeCode == x, ]$nodeID)\n",
    "\n",
    "    # Create the edge dataframe\n",
    "    edges_df <- data.frame(nodeID_from = nodeID_from, nodeID_to = nodeID_to)\n",
    "\n",
    "    # Extract the scaled_sci, the country and the country ISO3\n",
    "    if (weight) edges_df$weight <- df_country$scaled_sci\n",
    "    country_name <- countrycode::countrycode(country, \"iso3c\", \"country.name.en\")\n",
    "    edges_df$country_name <- country_name\n",
    "    edges_df$country_ISO3 <- country\n",
    "\n",
    "    # Drop nodeCode (assuming label = name)\n",
    "    if (dropNodeCode) nodes_df$nodeCode <- NULL\n",
    "\n",
    "    # Reset the nodeIDs\n",
    "    id_map <- data.frame(nodeID = 1:nrow(nodes_df), old_nodeID = nodes_df$nodeID)\n",
    "    nodes_df$nodeID <- id_map[match(nodes_df$nodeID, id_map$old_nodeID),]$nodeID\n",
    "    edges_df$nodeID_from <- id_map[match(edges_df$nodeID_from, id_map$old_nodeID),]$nodeID\n",
    "    edges_df$nodeID_to <- id_map[match(edges_df$nodeID_to, id_map$old_nodeID),]$nodeID\n",
    "  }\n",
    "\n",
    "  # Save the data\n",
    "  write.csv(nodes_df, file = sprintf(\"../../data/task_44/networks/%s_nodes.csv\", country), row.names = FALSE)\n",
    "  write.csv(edges_df, file = sprintf(\"../../data/task_44/networks/%s_edges.csv\", country), row.names = FALSE)\n",
    "}"
   ]
  },
  {
   "cell_type": "code",
   "execution_count": null,
   "metadata": {
    "vscode": {
     "languageId": "r"
    }
   },
   "outputs": [],
   "source": []
  }
 ],
 "metadata": {
  "kernelspec": {
   "display_name": "R",
   "language": "R",
   "name": "ir"
  },
  "language_info": {
   "codemirror_mode": "r",
   "file_extension": ".r",
   "mimetype": "text/x-r-source",
   "name": "R",
   "pygments_lexer": "r",
   "version": "4.3.3"
  }
 },
 "nbformat": 4,
 "nbformat_minor": 2
}
