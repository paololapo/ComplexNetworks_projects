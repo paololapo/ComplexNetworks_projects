{
 "cells": [
  {
   "cell_type": "code",
   "execution_count": 1,
   "metadata": {
    "vscode": {
     "languageId": "r"
    }
   },
   "outputs": [
    {
     "name": "stderr",
     "output_type": "stream",
     "text": [
      "\n",
      "Attaching package: ‘dplyr’\n",
      "\n",
      "\n",
      "The following objects are masked from ‘package:stats’:\n",
      "\n",
      "    filter, lag\n",
      "\n",
      "\n",
      "The following objects are masked from ‘package:base’:\n",
      "\n",
      "    intersect, setdiff, setequal, union\n",
      "\n",
      "\n",
      "terra 1.7.78\n",
      "\n",
      "\n",
      "Attaching package: ‘terra’\n",
      "\n",
      "\n",
      "The following object is masked from ‘package:tidyr’:\n",
      "\n",
      "    extract\n",
      "\n",
      "\n",
      "Linking to GEOS 3.10.2, GDAL 3.4.1, PROJ 8.2.1; sf_use_s2() is TRUE\n",
      "\n",
      "To enable caching of data, set `options(tigris_use_cache = TRUE)`\n",
      "in your R script or .Rprofile.\n",
      "\n",
      "\n",
      "Attaching package: ‘tigris’\n",
      "\n",
      "\n",
      "The following object is masked from ‘package:terra’:\n",
      "\n",
      "    blocks\n",
      "\n",
      "\n",
      "\n",
      "Attaching package: ‘igraph’\n",
      "\n",
      "\n",
      "The following object is masked from ‘package:tigris’:\n",
      "\n",
      "    blocks\n",
      "\n",
      "\n",
      "The following objects are masked from ‘package:terra’:\n",
      "\n",
      "    blocks, compare, union\n",
      "\n",
      "\n",
      "The following object is masked from ‘package:tidyr’:\n",
      "\n",
      "    crossing\n",
      "\n",
      "\n",
      "The following objects are masked from ‘package:dplyr’:\n",
      "\n",
      "    as_data_frame, groups, union\n",
      "\n",
      "\n",
      "The following objects are masked from ‘package:stats’:\n",
      "\n",
      "    decompose, spectrum\n",
      "\n",
      "\n",
      "The following object is masked from ‘package:base’:\n",
      "\n",
      "    union\n",
      "\n",
      "\n"
     ]
    }
   ],
   "source": [
    "library(dplyr)\n",
    "library(tidyr)\n",
    "\n",
    "library(terra)\n",
    "library(geodata)\n",
    "library(eurostat)\n",
    "library(sf)\n",
    "library(tigris)\n",
    "\n",
    "library(igraph)"
   ]
  },
  {
   "cell_type": "code",
   "execution_count": 6,
   "metadata": {
    "vscode": {
     "languageId": "r"
    }
   },
   "outputs": [
    {
     "data": {
      "text/html": [
       "<table class=\"dataframe\">\n",
       "<caption>A data.frame: 6 × 2</caption>\n",
       "<thead>\n",
       "\t<tr><th></th><th scope=col>nodeCode</th><th scope=col>level</th></tr>\n",
       "\t<tr><th></th><th scope=col>&lt;chr&gt;</th><th scope=col>&lt;chr&gt;</th></tr>\n",
       "</thead>\n",
       "<tbody>\n",
       "\t<tr><th scope=row>8003</th><td>LKA24_318</td><td>gadm2</td></tr>\n",
       "\t<tr><th scope=row>8004</th><td>LKA24_319</td><td>gadm2</td></tr>\n",
       "\t<tr><th scope=row>8005</th><td>LKA25_320</td><td>gadm2</td></tr>\n",
       "\t<tr><th scope=row>8006</th><td>LKA25_321</td><td>gadm2</td></tr>\n",
       "\t<tr><th scope=row>8007</th><td>LKA25_322</td><td>gadm2</td></tr>\n",
       "\t<tr><th scope=row>8008</th><td>LKA25_323</td><td>gadm2</td></tr>\n",
       "</tbody>\n",
       "</table>\n"
      ],
      "text/latex": [
       "A data.frame: 6 × 2\n",
       "\\begin{tabular}{r|ll}\n",
       "  & nodeCode & level\\\\\n",
       "  & <chr> & <chr>\\\\\n",
       "\\hline\n",
       "\t8003 & LKA24\\_318 & gadm2\\\\\n",
       "\t8004 & LKA24\\_319 & gadm2\\\\\n",
       "\t8005 & LKA25\\_320 & gadm2\\\\\n",
       "\t8006 & LKA25\\_321 & gadm2\\\\\n",
       "\t8007 & LKA25\\_322 & gadm2\\\\\n",
       "\t8008 & LKA25\\_323 & gadm2\\\\\n",
       "\\end{tabular}\n"
      ],
      "text/markdown": [
       "\n",
       "A data.frame: 6 × 2\n",
       "\n",
       "| <!--/--> | nodeCode &lt;chr&gt; | level &lt;chr&gt; |\n",
       "|---|---|---|\n",
       "| 8003 | LKA24_318 | gadm2 |\n",
       "| 8004 | LKA24_319 | gadm2 |\n",
       "| 8005 | LKA25_320 | gadm2 |\n",
       "| 8006 | LKA25_321 | gadm2 |\n",
       "| 8007 | LKA25_322 | gadm2 |\n",
       "| 8008 | LKA25_323 | gadm2 |\n",
       "\n"
      ],
      "text/plain": [
       "     nodeCode  level\n",
       "8003 LKA24_318 gadm2\n",
       "8004 LKA24_319 gadm2\n",
       "8005 LKA25_320 gadm2\n",
       "8006 LKA25_321 gadm2\n",
       "8007 LKA25_322 gadm2\n",
       "8008 LKA25_323 gadm2"
      ]
     },
     "metadata": {},
     "output_type": "display_data"
    }
   ],
   "source": [
    "# Import the table with the levels of the counties\n",
    "regions <- read.table(file = \"../../data/task_44/meta/gadm1_nuts3_counties_levels.csv\", sep = ',', header = TRUE)\n",
    "regions <- regions |> rename(nodeCode = key)\n",
    "\n",
    "tail(regions)"
   ]
  },
  {
   "cell_type": "code",
   "execution_count": 7,
   "metadata": {
    "vscode": {
     "languageId": "r"
    }
   },
   "outputs": [],
   "source": [
    "get_nuts3_country <- function(nuts3_code, nuts3_shapefile){\n",
    "  nuts3_region <- nuts3_shapefile[nuts3_shapefile$id == nuts3_code, ]\n",
    "  country <- countrycode::countrycode(nuts3_region$CNTR_CODE, origin = \"eurostat\", destination = \"iso3c\")\n",
    "  return(country)\n",
    "}"
   ]
  },
  {
   "cell_type": "code",
   "execution_count": 8,
   "metadata": {
    "vscode": {
     "languageId": "r"
    }
   },
   "outputs": [
    {
     "name": "stderr",
     "output_type": "stream",
     "text": [
      "Extracting data from eurostat::eurostat_geodata_60_2016\n",
      "\n"
     ]
    },
    {
     "data": {
      "text/html": [
       "<table class=\"dataframe\">\n",
       "<caption>A data.frame: 6 × 3</caption>\n",
       "<thead>\n",
       "\t<tr><th></th><th scope=col>nodeCode</th><th scope=col>level</th><th scope=col>country_ISO3</th></tr>\n",
       "\t<tr><th></th><th scope=col>&lt;chr&gt;</th><th scope=col>&lt;chr&gt;</th><th scope=col>&lt;chr&gt;</th></tr>\n",
       "</thead>\n",
       "<tbody>\n",
       "\t<tr><th scope=row>8003</th><td>LKA24_318</td><td>gadm2</td><td>LKA</td></tr>\n",
       "\t<tr><th scope=row>8004</th><td>LKA24_319</td><td>gadm2</td><td>LKA</td></tr>\n",
       "\t<tr><th scope=row>8005</th><td>LKA25_320</td><td>gadm2</td><td>LKA</td></tr>\n",
       "\t<tr><th scope=row>8006</th><td>LKA25_321</td><td>gadm2</td><td>LKA</td></tr>\n",
       "\t<tr><th scope=row>8007</th><td>LKA25_322</td><td>gadm2</td><td>LKA</td></tr>\n",
       "\t<tr><th scope=row>8008</th><td>LKA25_323</td><td>gadm2</td><td>LKA</td></tr>\n",
       "</tbody>\n",
       "</table>\n"
      ],
      "text/latex": [
       "A data.frame: 6 × 3\n",
       "\\begin{tabular}{r|lll}\n",
       "  & nodeCode & level & country\\_ISO3\\\\\n",
       "  & <chr> & <chr> & <chr>\\\\\n",
       "\\hline\n",
       "\t8003 & LKA24\\_318 & gadm2 & LKA\\\\\n",
       "\t8004 & LKA24\\_319 & gadm2 & LKA\\\\\n",
       "\t8005 & LKA25\\_320 & gadm2 & LKA\\\\\n",
       "\t8006 & LKA25\\_321 & gadm2 & LKA\\\\\n",
       "\t8007 & LKA25\\_322 & gadm2 & LKA\\\\\n",
       "\t8008 & LKA25\\_323 & gadm2 & LKA\\\\\n",
       "\\end{tabular}\n"
      ],
      "text/markdown": [
       "\n",
       "A data.frame: 6 × 3\n",
       "\n",
       "| <!--/--> | nodeCode &lt;chr&gt; | level &lt;chr&gt; | country_ISO3 &lt;chr&gt; |\n",
       "|---|---|---|---|\n",
       "| 8003 | LKA24_318 | gadm2 | LKA |\n",
       "| 8004 | LKA24_319 | gadm2 | LKA |\n",
       "| 8005 | LKA25_320 | gadm2 | LKA |\n",
       "| 8006 | LKA25_321 | gadm2 | LKA |\n",
       "| 8007 | LKA25_322 | gadm2 | LKA |\n",
       "| 8008 | LKA25_323 | gadm2 | LKA |\n",
       "\n"
      ],
      "text/plain": [
       "     nodeCode  level country_ISO3\n",
       "8003 LKA24_318 gadm2 LKA         \n",
       "8004 LKA24_319 gadm2 LKA         \n",
       "8005 LKA25_320 gadm2 LKA         \n",
       "8006 LKA25_321 gadm2 LKA         \n",
       "8007 LKA25_322 gadm2 LKA         \n",
       "8008 LKA25_323 gadm2 LKA         "
      ]
     },
     "metadata": {},
     "output_type": "display_data"
    }
   ],
   "source": [
    "# Attach the country to the levels table\n",
    "regions$country_ISO3 <- sub(\"^([A-Z]+).*\", \"\\\\1\", regions$nodeCode)\n",
    "\n",
    "# Overwrite nuts3 countries with ISO 3 codes\n",
    "nuts3_shapefile <- eurostat::get_eurostat_geospatial(nuts_level = 3, year = 2016, output_class = \"sf\")\n",
    "nuts3_keys <- regions[regions$level == \"nuts3\", ]$nodeCode\n",
    "nuts3_countries <- sapply(nuts3_keys, get_nuts3_country, nuts3_shapefile = nuts3_shapefile)\n",
    "regions[regions$level == \"nuts3\", ]$country_ISO3 <- nuts3_countries\n",
    "\n",
    "tail(regions)"
   ]
  },
  {
   "cell_type": "code",
   "execution_count": 9,
   "metadata": {
    "vscode": {
     "languageId": "r"
    }
   },
   "outputs": [
    {
     "data": {
      "text/html": [
       "<table class=\"dataframe\">\n",
       "<caption>A data.frame: 1839 × 3</caption>\n",
       "<thead>\n",
       "\t<tr><th></th><th scope=col>nodeCode</th><th scope=col>level</th><th scope=col>country_ISO3</th></tr>\n",
       "\t<tr><th></th><th scope=col>&lt;chr&gt;</th><th scope=col>&lt;chr&gt;</th><th scope=col>&lt;chr&gt;</th></tr>\n",
       "</thead>\n",
       "<tbody>\n",
       "\t<tr><th scope=row>49</th><td>DZA1 </td><td>gadm1</td><td>DZA</td></tr>\n",
       "\t<tr><th scope=row>50</th><td>DZA2 </td><td>gadm1</td><td>DZA</td></tr>\n",
       "\t<tr><th scope=row>51</th><td>DZA3 </td><td>gadm1</td><td>DZA</td></tr>\n",
       "\t<tr><th scope=row>52</th><td>DZA4 </td><td>gadm1</td><td>DZA</td></tr>\n",
       "\t<tr><th scope=row>53</th><td>DZA5 </td><td>gadm1</td><td>DZA</td></tr>\n",
       "\t<tr><th scope=row>54</th><td>DZA6 </td><td>gadm1</td><td>DZA</td></tr>\n",
       "\t<tr><th scope=row>55</th><td>DZA7 </td><td>gadm1</td><td>DZA</td></tr>\n",
       "\t<tr><th scope=row>56</th><td>DZA8 </td><td>gadm1</td><td>DZA</td></tr>\n",
       "\t<tr><th scope=row>57</th><td>DZA9 </td><td>gadm1</td><td>DZA</td></tr>\n",
       "\t<tr><th scope=row>58</th><td>DZA10</td><td>gadm1</td><td>DZA</td></tr>\n",
       "\t<tr><th scope=row>59</th><td>DZA11</td><td>gadm1</td><td>DZA</td></tr>\n",
       "\t<tr><th scope=row>60</th><td>DZA12</td><td>gadm1</td><td>DZA</td></tr>\n",
       "\t<tr><th scope=row>61</th><td>DZA13</td><td>gadm1</td><td>DZA</td></tr>\n",
       "\t<tr><th scope=row>62</th><td>DZA14</td><td>gadm1</td><td>DZA</td></tr>\n",
       "\t<tr><th scope=row>63</th><td>DZA15</td><td>gadm1</td><td>DZA</td></tr>\n",
       "\t<tr><th scope=row>64</th><td>DZA16</td><td>gadm1</td><td>DZA</td></tr>\n",
       "\t<tr><th scope=row>65</th><td>DZA17</td><td>gadm1</td><td>DZA</td></tr>\n",
       "\t<tr><th scope=row>66</th><td>DZA18</td><td>gadm1</td><td>DZA</td></tr>\n",
       "\t<tr><th scope=row>67</th><td>DZA19</td><td>gadm1</td><td>DZA</td></tr>\n",
       "\t<tr><th scope=row>68</th><td>DZA20</td><td>gadm1</td><td>DZA</td></tr>\n",
       "\t<tr><th scope=row>69</th><td>DZA21</td><td>gadm1</td><td>DZA</td></tr>\n",
       "\t<tr><th scope=row>70</th><td>DZA22</td><td>gadm1</td><td>DZA</td></tr>\n",
       "\t<tr><th scope=row>71</th><td>DZA23</td><td>gadm1</td><td>DZA</td></tr>\n",
       "\t<tr><th scope=row>72</th><td>DZA24</td><td>gadm1</td><td>DZA</td></tr>\n",
       "\t<tr><th scope=row>73</th><td>DZA25</td><td>gadm1</td><td>DZA</td></tr>\n",
       "\t<tr><th scope=row>74</th><td>DZA26</td><td>gadm1</td><td>DZA</td></tr>\n",
       "\t<tr><th scope=row>75</th><td>DZA27</td><td>gadm1</td><td>DZA</td></tr>\n",
       "\t<tr><th scope=row>76</th><td>DZA28</td><td>gadm1</td><td>DZA</td></tr>\n",
       "\t<tr><th scope=row>77</th><td>DZA29</td><td>gadm1</td><td>DZA</td></tr>\n",
       "\t<tr><th scope=row>78</th><td>DZA30</td><td>gadm1</td><td>DZA</td></tr>\n",
       "\t<tr><th scope=row>⋮</th><td>⋮</td><td>⋮</td><td>⋮</td></tr>\n",
       "\t<tr><th scope=row>1858</th><td>VNM54</td><td>gadm1</td><td>VNM</td></tr>\n",
       "\t<tr><th scope=row>1859</th><td>VNM55</td><td>gadm1</td><td>VNM</td></tr>\n",
       "\t<tr><th scope=row>1860</th><td>VNM56</td><td>gadm1</td><td>VNM</td></tr>\n",
       "\t<tr><th scope=row>1861</th><td>VNM57</td><td>gadm1</td><td>VNM</td></tr>\n",
       "\t<tr><th scope=row>1862</th><td>VNM58</td><td>gadm1</td><td>VNM</td></tr>\n",
       "\t<tr><th scope=row>1863</th><td>VNM59</td><td>gadm1</td><td>VNM</td></tr>\n",
       "\t<tr><th scope=row>1864</th><td>VNM60</td><td>gadm1</td><td>VNM</td></tr>\n",
       "\t<tr><th scope=row>1865</th><td>VNM61</td><td>gadm1</td><td>VNM</td></tr>\n",
       "\t<tr><th scope=row>1866</th><td>VNM62</td><td>gadm1</td><td>VNM</td></tr>\n",
       "\t<tr><th scope=row>1867</th><td>VNM63</td><td>gadm1</td><td>VNM</td></tr>\n",
       "\t<tr><th scope=row>1868</th><td>ZMB1 </td><td>gadm1</td><td>ZMB</td></tr>\n",
       "\t<tr><th scope=row>1869</th><td>ZMB2 </td><td>gadm1</td><td>ZMB</td></tr>\n",
       "\t<tr><th scope=row>1870</th><td>ZMB3 </td><td>gadm1</td><td>ZMB</td></tr>\n",
       "\t<tr><th scope=row>1871</th><td>ZMB4 </td><td>gadm1</td><td>ZMB</td></tr>\n",
       "\t<tr><th scope=row>1872</th><td>ZMB5 </td><td>gadm1</td><td>ZMB</td></tr>\n",
       "\t<tr><th scope=row>1873</th><td>ZMB6 </td><td>gadm1</td><td>ZMB</td></tr>\n",
       "\t<tr><th scope=row>1874</th><td>ZMB7 </td><td>gadm1</td><td>ZMB</td></tr>\n",
       "\t<tr><th scope=row>1875</th><td>ZMB8 </td><td>gadm1</td><td>ZMB</td></tr>\n",
       "\t<tr><th scope=row>1876</th><td>ZMB9 </td><td>gadm1</td><td>ZMB</td></tr>\n",
       "\t<tr><th scope=row>1877</th><td>ZMB10</td><td>gadm1</td><td>ZMB</td></tr>\n",
       "\t<tr><th scope=row>1878</th><td>ZWE1 </td><td>gadm1</td><td>ZWE</td></tr>\n",
       "\t<tr><th scope=row>1879</th><td>ZWE2 </td><td>gadm1</td><td>ZWE</td></tr>\n",
       "\t<tr><th scope=row>1880</th><td>ZWE3 </td><td>gadm1</td><td>ZWE</td></tr>\n",
       "\t<tr><th scope=row>1881</th><td>ZWE4 </td><td>gadm1</td><td>ZWE</td></tr>\n",
       "\t<tr><th scope=row>1882</th><td>ZWE5 </td><td>gadm1</td><td>ZWE</td></tr>\n",
       "\t<tr><th scope=row>1883</th><td>ZWE6 </td><td>gadm1</td><td>ZWE</td></tr>\n",
       "\t<tr><th scope=row>1884</th><td>ZWE7 </td><td>gadm1</td><td>ZWE</td></tr>\n",
       "\t<tr><th scope=row>1885</th><td>ZWE8 </td><td>gadm1</td><td>ZWE</td></tr>\n",
       "\t<tr><th scope=row>1886</th><td>ZWE9 </td><td>gadm1</td><td>ZWE</td></tr>\n",
       "\t<tr><th scope=row>1887</th><td>ZWE10</td><td>gadm1</td><td>ZWE</td></tr>\n",
       "</tbody>\n",
       "</table>\n"
      ],
      "text/latex": [
       "A data.frame: 1839 × 3\n",
       "\\begin{tabular}{r|lll}\n",
       "  & nodeCode & level & country\\_ISO3\\\\\n",
       "  & <chr> & <chr> & <chr>\\\\\n",
       "\\hline\n",
       "\t49 & DZA1  & gadm1 & DZA\\\\\n",
       "\t50 & DZA2  & gadm1 & DZA\\\\\n",
       "\t51 & DZA3  & gadm1 & DZA\\\\\n",
       "\t52 & DZA4  & gadm1 & DZA\\\\\n",
       "\t53 & DZA5  & gadm1 & DZA\\\\\n",
       "\t54 & DZA6  & gadm1 & DZA\\\\\n",
       "\t55 & DZA7  & gadm1 & DZA\\\\\n",
       "\t56 & DZA8  & gadm1 & DZA\\\\\n",
       "\t57 & DZA9  & gadm1 & DZA\\\\\n",
       "\t58 & DZA10 & gadm1 & DZA\\\\\n",
       "\t59 & DZA11 & gadm1 & DZA\\\\\n",
       "\t60 & DZA12 & gadm1 & DZA\\\\\n",
       "\t61 & DZA13 & gadm1 & DZA\\\\\n",
       "\t62 & DZA14 & gadm1 & DZA\\\\\n",
       "\t63 & DZA15 & gadm1 & DZA\\\\\n",
       "\t64 & DZA16 & gadm1 & DZA\\\\\n",
       "\t65 & DZA17 & gadm1 & DZA\\\\\n",
       "\t66 & DZA18 & gadm1 & DZA\\\\\n",
       "\t67 & DZA19 & gadm1 & DZA\\\\\n",
       "\t68 & DZA20 & gadm1 & DZA\\\\\n",
       "\t69 & DZA21 & gadm1 & DZA\\\\\n",
       "\t70 & DZA22 & gadm1 & DZA\\\\\n",
       "\t71 & DZA23 & gadm1 & DZA\\\\\n",
       "\t72 & DZA24 & gadm1 & DZA\\\\\n",
       "\t73 & DZA25 & gadm1 & DZA\\\\\n",
       "\t74 & DZA26 & gadm1 & DZA\\\\\n",
       "\t75 & DZA27 & gadm1 & DZA\\\\\n",
       "\t76 & DZA28 & gadm1 & DZA\\\\\n",
       "\t77 & DZA29 & gadm1 & DZA\\\\\n",
       "\t78 & DZA30 & gadm1 & DZA\\\\\n",
       "\t⋮ & ⋮ & ⋮ & ⋮\\\\\n",
       "\t1858 & VNM54 & gadm1 & VNM\\\\\n",
       "\t1859 & VNM55 & gadm1 & VNM\\\\\n",
       "\t1860 & VNM56 & gadm1 & VNM\\\\\n",
       "\t1861 & VNM57 & gadm1 & VNM\\\\\n",
       "\t1862 & VNM58 & gadm1 & VNM\\\\\n",
       "\t1863 & VNM59 & gadm1 & VNM\\\\\n",
       "\t1864 & VNM60 & gadm1 & VNM\\\\\n",
       "\t1865 & VNM61 & gadm1 & VNM\\\\\n",
       "\t1866 & VNM62 & gadm1 & VNM\\\\\n",
       "\t1867 & VNM63 & gadm1 & VNM\\\\\n",
       "\t1868 & ZMB1  & gadm1 & ZMB\\\\\n",
       "\t1869 & ZMB2  & gadm1 & ZMB\\\\\n",
       "\t1870 & ZMB3  & gadm1 & ZMB\\\\\n",
       "\t1871 & ZMB4  & gadm1 & ZMB\\\\\n",
       "\t1872 & ZMB5  & gadm1 & ZMB\\\\\n",
       "\t1873 & ZMB6  & gadm1 & ZMB\\\\\n",
       "\t1874 & ZMB7  & gadm1 & ZMB\\\\\n",
       "\t1875 & ZMB8  & gadm1 & ZMB\\\\\n",
       "\t1876 & ZMB9  & gadm1 & ZMB\\\\\n",
       "\t1877 & ZMB10 & gadm1 & ZMB\\\\\n",
       "\t1878 & ZWE1  & gadm1 & ZWE\\\\\n",
       "\t1879 & ZWE2  & gadm1 & ZWE\\\\\n",
       "\t1880 & ZWE3  & gadm1 & ZWE\\\\\n",
       "\t1881 & ZWE4  & gadm1 & ZWE\\\\\n",
       "\t1882 & ZWE5  & gadm1 & ZWE\\\\\n",
       "\t1883 & ZWE6  & gadm1 & ZWE\\\\\n",
       "\t1884 & ZWE7  & gadm1 & ZWE\\\\\n",
       "\t1885 & ZWE8  & gadm1 & ZWE\\\\\n",
       "\t1886 & ZWE9  & gadm1 & ZWE\\\\\n",
       "\t1887 & ZWE10 & gadm1 & ZWE\\\\\n",
       "\\end{tabular}\n"
      ],
      "text/markdown": [
       "\n",
       "A data.frame: 1839 × 3\n",
       "\n",
       "| <!--/--> | nodeCode &lt;chr&gt; | level &lt;chr&gt; | country_ISO3 &lt;chr&gt; |\n",
       "|---|---|---|---|\n",
       "| 49 | DZA1  | gadm1 | DZA |\n",
       "| 50 | DZA2  | gadm1 | DZA |\n",
       "| 51 | DZA3  | gadm1 | DZA |\n",
       "| 52 | DZA4  | gadm1 | DZA |\n",
       "| 53 | DZA5  | gadm1 | DZA |\n",
       "| 54 | DZA6  | gadm1 | DZA |\n",
       "| 55 | DZA7  | gadm1 | DZA |\n",
       "| 56 | DZA8  | gadm1 | DZA |\n",
       "| 57 | DZA9  | gadm1 | DZA |\n",
       "| 58 | DZA10 | gadm1 | DZA |\n",
       "| 59 | DZA11 | gadm1 | DZA |\n",
       "| 60 | DZA12 | gadm1 | DZA |\n",
       "| 61 | DZA13 | gadm1 | DZA |\n",
       "| 62 | DZA14 | gadm1 | DZA |\n",
       "| 63 | DZA15 | gadm1 | DZA |\n",
       "| 64 | DZA16 | gadm1 | DZA |\n",
       "| 65 | DZA17 | gadm1 | DZA |\n",
       "| 66 | DZA18 | gadm1 | DZA |\n",
       "| 67 | DZA19 | gadm1 | DZA |\n",
       "| 68 | DZA20 | gadm1 | DZA |\n",
       "| 69 | DZA21 | gadm1 | DZA |\n",
       "| 70 | DZA22 | gadm1 | DZA |\n",
       "| 71 | DZA23 | gadm1 | DZA |\n",
       "| 72 | DZA24 | gadm1 | DZA |\n",
       "| 73 | DZA25 | gadm1 | DZA |\n",
       "| 74 | DZA26 | gadm1 | DZA |\n",
       "| 75 | DZA27 | gadm1 | DZA |\n",
       "| 76 | DZA28 | gadm1 | DZA |\n",
       "| 77 | DZA29 | gadm1 | DZA |\n",
       "| 78 | DZA30 | gadm1 | DZA |\n",
       "| ⋮ | ⋮ | ⋮ | ⋮ |\n",
       "| 1858 | VNM54 | gadm1 | VNM |\n",
       "| 1859 | VNM55 | gadm1 | VNM |\n",
       "| 1860 | VNM56 | gadm1 | VNM |\n",
       "| 1861 | VNM57 | gadm1 | VNM |\n",
       "| 1862 | VNM58 | gadm1 | VNM |\n",
       "| 1863 | VNM59 | gadm1 | VNM |\n",
       "| 1864 | VNM60 | gadm1 | VNM |\n",
       "| 1865 | VNM61 | gadm1 | VNM |\n",
       "| 1866 | VNM62 | gadm1 | VNM |\n",
       "| 1867 | VNM63 | gadm1 | VNM |\n",
       "| 1868 | ZMB1  | gadm1 | ZMB |\n",
       "| 1869 | ZMB2  | gadm1 | ZMB |\n",
       "| 1870 | ZMB3  | gadm1 | ZMB |\n",
       "| 1871 | ZMB4  | gadm1 | ZMB |\n",
       "| 1872 | ZMB5  | gadm1 | ZMB |\n",
       "| 1873 | ZMB6  | gadm1 | ZMB |\n",
       "| 1874 | ZMB7  | gadm1 | ZMB |\n",
       "| 1875 | ZMB8  | gadm1 | ZMB |\n",
       "| 1876 | ZMB9  | gadm1 | ZMB |\n",
       "| 1877 | ZMB10 | gadm1 | ZMB |\n",
       "| 1878 | ZWE1  | gadm1 | ZWE |\n",
       "| 1879 | ZWE2  | gadm1 | ZWE |\n",
       "| 1880 | ZWE3  | gadm1 | ZWE |\n",
       "| 1881 | ZWE4  | gadm1 | ZWE |\n",
       "| 1882 | ZWE5  | gadm1 | ZWE |\n",
       "| 1883 | ZWE6  | gadm1 | ZWE |\n",
       "| 1884 | ZWE7  | gadm1 | ZWE |\n",
       "| 1885 | ZWE8  | gadm1 | ZWE |\n",
       "| 1886 | ZWE9  | gadm1 | ZWE |\n",
       "| 1887 | ZWE10 | gadm1 | ZWE |\n",
       "\n"
      ],
      "text/plain": [
       "     nodeCode level country_ISO3\n",
       "49   DZA1     gadm1 DZA         \n",
       "50   DZA2     gadm1 DZA         \n",
       "51   DZA3     gadm1 DZA         \n",
       "52   DZA4     gadm1 DZA         \n",
       "53   DZA5     gadm1 DZA         \n",
       "54   DZA6     gadm1 DZA         \n",
       "55   DZA7     gadm1 DZA         \n",
       "56   DZA8     gadm1 DZA         \n",
       "57   DZA9     gadm1 DZA         \n",
       "58   DZA10    gadm1 DZA         \n",
       "59   DZA11    gadm1 DZA         \n",
       "60   DZA12    gadm1 DZA         \n",
       "61   DZA13    gadm1 DZA         \n",
       "62   DZA14    gadm1 DZA         \n",
       "63   DZA15    gadm1 DZA         \n",
       "64   DZA16    gadm1 DZA         \n",
       "65   DZA17    gadm1 DZA         \n",
       "66   DZA18    gadm1 DZA         \n",
       "67   DZA19    gadm1 DZA         \n",
       "68   DZA20    gadm1 DZA         \n",
       "69   DZA21    gadm1 DZA         \n",
       "70   DZA22    gadm1 DZA         \n",
       "71   DZA23    gadm1 DZA         \n",
       "72   DZA24    gadm1 DZA         \n",
       "73   DZA25    gadm1 DZA         \n",
       "74   DZA26    gadm1 DZA         \n",
       "75   DZA27    gadm1 DZA         \n",
       "76   DZA28    gadm1 DZA         \n",
       "77   DZA29    gadm1 DZA         \n",
       "78   DZA30    gadm1 DZA         \n",
       "⋮    ⋮        ⋮     ⋮           \n",
       "1858 VNM54    gadm1 VNM         \n",
       "1859 VNM55    gadm1 VNM         \n",
       "1860 VNM56    gadm1 VNM         \n",
       "1861 VNM57    gadm1 VNM         \n",
       "1862 VNM58    gadm1 VNM         \n",
       "1863 VNM59    gadm1 VNM         \n",
       "1864 VNM60    gadm1 VNM         \n",
       "1865 VNM61    gadm1 VNM         \n",
       "1866 VNM62    gadm1 VNM         \n",
       "1867 VNM63    gadm1 VNM         \n",
       "1868 ZMB1     gadm1 ZMB         \n",
       "1869 ZMB2     gadm1 ZMB         \n",
       "1870 ZMB3     gadm1 ZMB         \n",
       "1871 ZMB4     gadm1 ZMB         \n",
       "1872 ZMB5     gadm1 ZMB         \n",
       "1873 ZMB6     gadm1 ZMB         \n",
       "1874 ZMB7     gadm1 ZMB         \n",
       "1875 ZMB8     gadm1 ZMB         \n",
       "1876 ZMB9     gadm1 ZMB         \n",
       "1877 ZMB10    gadm1 ZMB         \n",
       "1878 ZWE1     gadm1 ZWE         \n",
       "1879 ZWE2     gadm1 ZWE         \n",
       "1880 ZWE3     gadm1 ZWE         \n",
       "1881 ZWE4     gadm1 ZWE         \n",
       "1882 ZWE5     gadm1 ZWE         \n",
       "1883 ZWE6     gadm1 ZWE         \n",
       "1884 ZWE7     gadm1 ZWE         \n",
       "1885 ZWE8     gadm1 ZWE         \n",
       "1886 ZWE9     gadm1 ZWE         \n",
       "1887 ZWE10    gadm1 ZWE         "
      ]
     },
     "metadata": {},
     "output_type": "display_data"
    }
   ],
   "source": [
    "regions[regions$level == \"gadm1\", ]"
   ]
  },
  {
   "cell_type": "code",
   "execution_count": 10,
   "metadata": {
    "vscode": {
     "languageId": "r"
    }
   },
   "outputs": [],
   "source": [
    "# Get the GADM1 data\n",
    "gadm1_regions <- regions[regions$level == \"gadm1\", ]\n",
    "gadm1_keys <- unique(gadm1_regions$country_ISO3)\n",
    "gadm1_data <- gadm(gadm1_keys, level = 1, path = \"../../data/task_44/\", version=\"3.6\")\n",
    "gadm1_data$nodeCode <- gsub(\"\\\\.\", \"\", sub(\"_1$\", \"\", gadm1_data$GID_1))\n",
    "gadm1_data <- gadm1_data[match(gadm1_regions$nodeCode, gadm1_data$nodeCode), ]\n",
    "\n",
    "gadm1_data <- gadm1_data[, (names(gadm1_data) %in% c(\"nodeCode\", \"NAME_1\"))]\n",
    "\n",
    "centroids <- terra::centroids(gadm1_data)\n",
    "coords <- terra::crds(centroids)\n",
    "gadm1_data$longitude <- coords[, 1]\n",
    "gadm1_data$latitude <- coords[, 2]\n",
    "\n",
    "rm(centroids, coords, gadm1_regions, gadm1_keys)"
   ]
  },
  {
   "cell_type": "code",
   "execution_count": 11,
   "metadata": {
    "vscode": {
     "languageId": "r"
    }
   },
   "outputs": [],
   "source": [
    "# Merge the data\n",
    "gadm1_data <- as.data.frame(gadm1_data)\n",
    "regions <- regions |> \n",
    "  left_join(gadm1_data, by = c(\"nodeCode\" = \"nodeCode\")) |>\n",
    "  rename(nodeLabel = NAME_1)\n",
    "\n",
    "rm(gadm1_data)"
   ]
  },
  {
   "cell_type": "code",
   "execution_count": 12,
   "metadata": {
    "vscode": {
     "languageId": "r"
    }
   },
   "outputs": [],
   "source": [
    "# Get the GADM2 data\n",
    "gadm2_regions <- regions[regions$level == \"gadm2\", ]\n",
    "gadm2_keys <- unique(gadm2_regions$country_ISO3)\n",
    "gadm2_data <- gadm(gadm2_keys, level = 2, path = \"../../data/task_44/\", version=\"3.6\")\n",
    "gadm2_data$nodeCode <- gsub(\"(\\\\w+)\\\\.(\\\\d+)\\\\.(\\\\d+)_1$\", \"\\\\1\\\\2_\\\\3\", gadm2_data$GID_2)\n",
    "\n",
    "gadm2_data <- gadm2_data[, (names(gadm2_data) %in% c(\"nodeCode\", \"NAME_2\"))]\n",
    "\n",
    "centroids <- terra::centroids(gadm2_data)\n",
    "coords <- terra::crds(centroids)\n",
    "gadm2_data$longitude <- coords[, 1]\n",
    "gadm2_data$latitude <- coords[, 2]\n",
    "\n",
    "rm(centroids, coords, gadm2_regions, gadm2_keys)"
   ]
  },
  {
   "cell_type": "code",
   "execution_count": 13,
   "metadata": {
    "vscode": {
     "languageId": "r"
    }
   },
   "outputs": [],
   "source": [
    "# Convert the data to a data frame\n",
    "gadm2_data <- as.data.frame(gadm2_data) |> rename(nodeLabel = NAME_2)\n",
    "\n",
    "# Change the nodeCode to the format of the GADM2 data\n",
    "gadm2_data <- gadm2_data |>\n",
    "  separate(nodeCode, into = c(\"prefix\", \"n2\"), sep = c(\"_\"), remove = TRUE) |>\n",
    "  separate(prefix, into = c(\"prefix\", \"n1\"), sep = c(\"(?<=^[A-Z]{3})\"), remove = TRUE) |>\n",
    "  group_by(prefix) |>\n",
    "  mutate(sequential_number = row_number()) |>\n",
    "  ungroup() |>\n",
    "  mutate(nodeCode = paste0(prefix, n1, \"_\", sequential_number)) |>\n",
    "  select(c(\"nodeCode\", \"nodeLabel\", \"longitude\", \"latitude\"))"
   ]
  },
  {
   "cell_type": "code",
   "execution_count": 14,
   "metadata": {
    "vscode": {
     "languageId": "r"
    }
   },
   "outputs": [],
   "source": [
    "# Merge the data\n",
    "regions <- regions |> \n",
    "  left_join(gadm2_data, by = c(\"nodeCode\" = \"nodeCode\"), suffix = c(\"_x\", \"_y\")) |>\n",
    "  mutate(nodeLabel = coalesce(nodeLabel_x, nodeLabel_y)) |>\n",
    "  select(-nodeLabel_x, -nodeLabel_y) |>\n",
    "  mutate(longitude = coalesce(longitude_x, longitude_y)) |>\n",
    "  mutate(latitude = coalesce(latitude_x, latitude_y)) |>\n",
    "  select(-longitude_x, -longitude_y, -latitude_x, -latitude_y)\n",
    "\n",
    "rm(gadm2_data)"
   ]
  },
  {
   "cell_type": "code",
   "execution_count": 15,
   "metadata": {
    "vscode": {
     "languageId": "r"
    }
   },
   "outputs": [
    {
     "data": {
      "text/html": [
       "<table class=\"dataframe\">\n",
       "<caption>A data.frame: 6 × 6</caption>\n",
       "<thead>\n",
       "\t<tr><th></th><th scope=col>nodeCode</th><th scope=col>level</th><th scope=col>country_ISO3</th><th scope=col>nodeLabel</th><th scope=col>longitude</th><th scope=col>latitude</th></tr>\n",
       "\t<tr><th></th><th scope=col>&lt;chr&gt;</th><th scope=col>&lt;chr&gt;</th><th scope=col>&lt;chr&gt;</th><th scope=col>&lt;chr&gt;</th><th scope=col>&lt;dbl&gt;</th><th scope=col>&lt;dbl&gt;</th></tr>\n",
       "</thead>\n",
       "<tbody>\n",
       "\t<tr><th scope=row>8003</th><td>LKA24_318</td><td>gadm2</td><td>LKA</td><td>Trincomalee Town and Gravets</td><td>81.17728</td><td>8.580559</td></tr>\n",
       "\t<tr><th scope=row>8004</th><td>LKA24_319</td><td>gadm2</td><td>LKA</td><td>Verugal                     </td><td>81.34639</td><td>8.317492</td></tr>\n",
       "\t<tr><th scope=row>8005</th><td>LKA25_320</td><td>gadm2</td><td>LKA</td><td>Vavuniya                    </td><td>80.45494</td><td>8.816894</td></tr>\n",
       "\t<tr><th scope=row>8006</th><td>LKA25_321</td><td>gadm2</td><td>LKA</td><td>Vavuniya North              </td><td>80.59240</td><td>9.002291</td></tr>\n",
       "\t<tr><th scope=row>8007</th><td>LKA25_322</td><td>gadm2</td><td>LKA</td><td>Vavuniya South              </td><td>80.57399</td><td>8.769015</td></tr>\n",
       "\t<tr><th scope=row>8008</th><td>LKA25_323</td><td>gadm2</td><td>LKA</td><td>Vengalacheddiculam          </td><td>80.29340</td><td>8.688173</td></tr>\n",
       "</tbody>\n",
       "</table>\n"
      ],
      "text/latex": [
       "A data.frame: 6 × 6\n",
       "\\begin{tabular}{r|llllll}\n",
       "  & nodeCode & level & country\\_ISO3 & nodeLabel & longitude & latitude\\\\\n",
       "  & <chr> & <chr> & <chr> & <chr> & <dbl> & <dbl>\\\\\n",
       "\\hline\n",
       "\t8003 & LKA24\\_318 & gadm2 & LKA & Trincomalee Town and Gravets & 81.17728 & 8.580559\\\\\n",
       "\t8004 & LKA24\\_319 & gadm2 & LKA & Verugal                      & 81.34639 & 8.317492\\\\\n",
       "\t8005 & LKA25\\_320 & gadm2 & LKA & Vavuniya                     & 80.45494 & 8.816894\\\\\n",
       "\t8006 & LKA25\\_321 & gadm2 & LKA & Vavuniya North               & 80.59240 & 9.002291\\\\\n",
       "\t8007 & LKA25\\_322 & gadm2 & LKA & Vavuniya South               & 80.57399 & 8.769015\\\\\n",
       "\t8008 & LKA25\\_323 & gadm2 & LKA & Vengalacheddiculam           & 80.29340 & 8.688173\\\\\n",
       "\\end{tabular}\n"
      ],
      "text/markdown": [
       "\n",
       "A data.frame: 6 × 6\n",
       "\n",
       "| <!--/--> | nodeCode &lt;chr&gt; | level &lt;chr&gt; | country_ISO3 &lt;chr&gt; | nodeLabel &lt;chr&gt; | longitude &lt;dbl&gt; | latitude &lt;dbl&gt; |\n",
       "|---|---|---|---|---|---|---|\n",
       "| 8003 | LKA24_318 | gadm2 | LKA | Trincomalee Town and Gravets | 81.17728 | 8.580559 |\n",
       "| 8004 | LKA24_319 | gadm2 | LKA | Verugal                      | 81.34639 | 8.317492 |\n",
       "| 8005 | LKA25_320 | gadm2 | LKA | Vavuniya                     | 80.45494 | 8.816894 |\n",
       "| 8006 | LKA25_321 | gadm2 | LKA | Vavuniya North               | 80.59240 | 9.002291 |\n",
       "| 8007 | LKA25_322 | gadm2 | LKA | Vavuniya South               | 80.57399 | 8.769015 |\n",
       "| 8008 | LKA25_323 | gadm2 | LKA | Vengalacheddiculam           | 80.29340 | 8.688173 |\n",
       "\n"
      ],
      "text/plain": [
       "     nodeCode  level country_ISO3 nodeLabel                    longitude\n",
       "8003 LKA24_318 gadm2 LKA          Trincomalee Town and Gravets 81.17728 \n",
       "8004 LKA24_319 gadm2 LKA          Verugal                      81.34639 \n",
       "8005 LKA25_320 gadm2 LKA          Vavuniya                     80.45494 \n",
       "8006 LKA25_321 gadm2 LKA          Vavuniya North               80.59240 \n",
       "8007 LKA25_322 gadm2 LKA          Vavuniya South               80.57399 \n",
       "8008 LKA25_323 gadm2 LKA          Vengalacheddiculam           80.29340 \n",
       "     latitude\n",
       "8003 8.580559\n",
       "8004 8.317492\n",
       "8005 8.816894\n",
       "8006 9.002291\n",
       "8007 8.769015\n",
       "8008 8.688173"
      ]
     },
     "metadata": {},
     "output_type": "display_data"
    }
   ],
   "source": [
    "tail(regions)"
   ]
  },
  {
   "cell_type": "code",
   "execution_count": 16,
   "metadata": {
    "vscode": {
     "languageId": "r"
    }
   },
   "outputs": [
    {
     "name": "stderr",
     "output_type": "stream",
     "text": [
      "Extracting data from eurostat::eurostat_geodata_60_2016\n",
      "\n"
     ]
    }
   ],
   "source": [
    "# Get the nuts3 data\n",
    "nuts3_regions <- regions[regions$level == \"nuts3\", ]\n",
    "nuts3_keys <- unique(nuts3_regions$nodeCode)\n",
    "nuts3_shapefile <- eurostat::get_eurostat_geospatial(nuts_level = 3, year = 2016, output_class = \"sf\")\n",
    "nuts3_data <- nuts3_shapefile[match(nuts3_keys, nuts3_shapefile$id), ]\n",
    "\n",
    "centroids <- st_centroid(nuts3_data$geometry)\n",
    "coords <- st_coordinates(centroids)\n",
    "nuts3_data$longitude <- coords[, 1]\n",
    "nuts3_data$latitude <- coords[, 2]\n",
    "\n",
    "rm(centroids, coords, nuts3_regions, nuts3_keys)"
   ]
  },
  {
   "cell_type": "code",
   "execution_count": 17,
   "metadata": {
    "vscode": {
     "languageId": "r"
    }
   },
   "outputs": [],
   "source": [
    "# Convert the data to a data frame\n",
    "nuts3_data <- as.data.frame(nuts3_data) \n",
    "\n",
    "nuts3_data <- nuts3_data |>\n",
    "  rename(nodeLabel = NAME_LATN) |>\n",
    "  rename(nodeCode = id) |>\n",
    "  select(c(\"nodeCode\", \"nodeLabel\", \"longitude\", \"latitude\"))"
   ]
  },
  {
   "cell_type": "code",
   "execution_count": 18,
   "metadata": {
    "vscode": {
     "languageId": "r"
    }
   },
   "outputs": [
    {
     "data": {
      "text/html": [
       "<table class=\"dataframe\">\n",
       "<caption>A data.frame: 6 × 4</caption>\n",
       "<thead>\n",
       "\t<tr><th></th><th scope=col>nodeCode</th><th scope=col>nodeLabel</th><th scope=col>longitude</th><th scope=col>latitude</th></tr>\n",
       "\t<tr><th></th><th scope=col>&lt;chr&gt;</th><th scope=col>&lt;chr&gt;</th><th scope=col>&lt;dbl&gt;</th><th scope=col>&lt;dbl&gt;</th></tr>\n",
       "</thead>\n",
       "<tbody>\n",
       "\t<tr><th scope=row>818</th><td>HR043</td><td>Krapinsko-zagorska županija        </td><td>15.920217</td><td>46.07827</td></tr>\n",
       "\t<tr><th scope=row>36</th><td>AT314</td><td>Steyr-Kirchdorf                    </td><td>14.324103</td><td>47.85302</td></tr>\n",
       "\t<tr><th scope=row>37</th><td>AT315</td><td>Traunviertel                       </td><td>13.690190</td><td>47.82881</td></tr>\n",
       "\t<tr><th scope=row>322</th><td>DE600</td><td>Hamburg                            </td><td> 9.506859</td><td>53.67060</td></tr>\n",
       "\t<tr><th scope=row>323</th><td>DE711</td><td>Darmstadt, Kreisfreie Stadt        </td><td> 8.680591</td><td>49.90291</td></tr>\n",
       "\t<tr><th scope=row>324</th><td>DE712</td><td>Frankfurt am Main, Kreisfreie Stadt</td><td> 8.660673</td><td>50.11875</td></tr>\n",
       "</tbody>\n",
       "</table>\n"
      ],
      "text/latex": [
       "A data.frame: 6 × 4\n",
       "\\begin{tabular}{r|llll}\n",
       "  & nodeCode & nodeLabel & longitude & latitude\\\\\n",
       "  & <chr> & <chr> & <dbl> & <dbl>\\\\\n",
       "\\hline\n",
       "\t818 & HR043 & Krapinsko-zagorska županija         & 15.920217 & 46.07827\\\\\n",
       "\t36 & AT314 & Steyr-Kirchdorf                     & 14.324103 & 47.85302\\\\\n",
       "\t37 & AT315 & Traunviertel                        & 13.690190 & 47.82881\\\\\n",
       "\t322 & DE600 & Hamburg                             &  9.506859 & 53.67060\\\\\n",
       "\t323 & DE711 & Darmstadt, Kreisfreie Stadt         &  8.680591 & 49.90291\\\\\n",
       "\t324 & DE712 & Frankfurt am Main, Kreisfreie Stadt &  8.660673 & 50.11875\\\\\n",
       "\\end{tabular}\n"
      ],
      "text/markdown": [
       "\n",
       "A data.frame: 6 × 4\n",
       "\n",
       "| <!--/--> | nodeCode &lt;chr&gt; | nodeLabel &lt;chr&gt; | longitude &lt;dbl&gt; | latitude &lt;dbl&gt; |\n",
       "|---|---|---|---|---|\n",
       "| 818 | HR043 | Krapinsko-zagorska županija         | 15.920217 | 46.07827 |\n",
       "| 36 | AT314 | Steyr-Kirchdorf                     | 14.324103 | 47.85302 |\n",
       "| 37 | AT315 | Traunviertel                        | 13.690190 | 47.82881 |\n",
       "| 322 | DE600 | Hamburg                             |  9.506859 | 53.67060 |\n",
       "| 323 | DE711 | Darmstadt, Kreisfreie Stadt         |  8.680591 | 49.90291 |\n",
       "| 324 | DE712 | Frankfurt am Main, Kreisfreie Stadt |  8.660673 | 50.11875 |\n",
       "\n"
      ],
      "text/plain": [
       "    nodeCode nodeLabel                           longitude latitude\n",
       "818 HR043    Krapinsko-zagorska županija         15.920217 46.07827\n",
       "36  AT314    Steyr-Kirchdorf                     14.324103 47.85302\n",
       "37  AT315    Traunviertel                        13.690190 47.82881\n",
       "322 DE600    Hamburg                              9.506859 53.67060\n",
       "323 DE711    Darmstadt, Kreisfreie Stadt          8.680591 49.90291\n",
       "324 DE712    Frankfurt am Main, Kreisfreie Stadt  8.660673 50.11875"
      ]
     },
     "metadata": {},
     "output_type": "display_data"
    }
   ],
   "source": [
    "head(nuts3_data)"
   ]
  },
  {
   "cell_type": "code",
   "execution_count": 19,
   "metadata": {
    "vscode": {
     "languageId": "r"
    }
   },
   "outputs": [],
   "source": [
    "# # Merge the data\n",
    "regions <- regions |> \n",
    "  left_join(nuts3_data, by = c(\"nodeCode\" = \"nodeCode\"), suffix = c(\"_x\", \"_y\")) |>\n",
    "  mutate(nodeLabel = coalesce(nodeLabel_x, nodeLabel_y)) |>\n",
    "  select(-nodeLabel_x, -nodeLabel_y) |>\n",
    "  mutate(longitude = coalesce(longitude_x, longitude_y)) |>\n",
    "  mutate(latitude = coalesce(latitude_x, latitude_y)) |>\n",
    "  select(-longitude_x, -longitude_y, -latitude_x, -latitude_y)\n",
    "\n",
    "rm(nuts3_data)"
   ]
  },
  {
   "cell_type": "code",
   "execution_count": 22,
   "metadata": {
    "vscode": {
     "languageId": "r"
    }
   },
   "outputs": [
    {
     "name": "stdout",
     "output_type": "stream",
     "text": [
      "  |======================================================================| 100%\n"
     ]
    }
   ],
   "source": [
    "# Get the USA data\n",
    "usa_regions <- regions[regions$country_ISO3 == \"USA\", ]\n",
    "state_fips <- substr(usa_regions$nodeCode, 4, 5)\n",
    "usa_shapefile <- counties(state = state_fips, year = 2015, cb = TRUE, class = \"sf\")\n",
    "usa_shapefile$code <- paste0(\"USA\", usa_shapefile$STATEFP, usa_shapefile$COUNTYFP)\n",
    "usa_data <- usa_shapefile[match(usa_regions$nodeCode, usa_shapefile$code), ]\n",
    "\n",
    "centroids <- st_centroid(usa_data$geometry)\n",
    "coords <- st_coordinates(centroids)\n",
    "usa_data$longitude <- coords[, 1]\n",
    "usa_data$latitude <- coords[, 2]\n"
   ]
  },
  {
   "cell_type": "code",
   "execution_count": 23,
   "metadata": {
    "vscode": {
     "languageId": "r"
    }
   },
   "outputs": [
    {
     "name": "stderr",
     "output_type": "stream",
     "text": [
      "ERROR while rich displaying an object: Error in loadNamespace(x): there is no package called ‘geojsonio’\n",
      "\n",
      "Traceback:\n",
      "1. tryCatch(withCallingHandlers({\n",
      " .     if (!mime %in% names(repr::mime2repr)) \n",
      " .         stop(\"No repr_* for mimetype \", mime, \" in repr::mime2repr\")\n",
      " .     rpr <- repr::mime2repr[[mime]](obj)\n",
      " .     if (is.null(rpr)) \n",
      " .         return(NULL)\n",
      " .     prepare_content(is.raw(rpr), rpr)\n",
      " . }, error = error_handler), error = outer_handler)\n",
      "2. tryCatchList(expr, classes, parentenv, handlers)\n",
      "3. tryCatchOne(expr, names, parentenv, handlers[[1L]])\n",
      "4. doTryCatch(return(expr), name, parentenv, handler)\n",
      "5. withCallingHandlers({\n",
      " .     if (!mime %in% names(repr::mime2repr)) \n",
      " .         stop(\"No repr_* for mimetype \", mime, \" in repr::mime2repr\")\n",
      " .     rpr <- repr::mime2repr[[mime]](obj)\n",
      " .     if (is.null(rpr)) \n",
      " .         return(NULL)\n",
      " .     prepare_content(is.raw(rpr), rpr)\n",
      " . }, error = error_handler)\n",
      "6. repr::mime2repr[[mime]](obj)\n",
      "7. repr_geojson.sf(obj)\n",
      "8. repr_geojson(geojsonio::geojson_list(obj), ...)\n",
      "9. loadNamespace(x)\n",
      "10. withRestarts(stop(cond), retry_loadNamespace = function() NULL)\n",
      "11. withOneRestart(expr, restarts[[1L]])\n",
      "12. doWithOneRestart(return(expr), restart)\n"
     ]
    },
    {
     "data": {
      "text/html": [
       "<table class=\"dataframe\">\n",
       "<caption>A sf: 6 × 13</caption>\n",
       "<thead>\n",
       "\t<tr><th></th><th scope=col>STATEFP</th><th scope=col>COUNTYFP</th><th scope=col>COUNTYNS</th><th scope=col>AFFGEOID</th><th scope=col>GEOID</th><th scope=col>NAME</th><th scope=col>LSAD</th><th scope=col>ALAND</th><th scope=col>AWATER</th><th scope=col>geometry</th><th scope=col>code</th><th scope=col>longitude</th><th scope=col>latitude</th></tr>\n",
       "\t<tr><th></th><th scope=col>&lt;chr&gt;</th><th scope=col>&lt;chr&gt;</th><th scope=col>&lt;chr&gt;</th><th scope=col>&lt;chr&gt;</th><th scope=col>&lt;chr&gt;</th><th scope=col>&lt;chr&gt;</th><th scope=col>&lt;chr&gt;</th><th scope=col>&lt;dbl&gt;</th><th scope=col>&lt;dbl&gt;</th><th scope=col>&lt;MULTIPOLYGON [°]&gt;</th><th scope=col>&lt;chr&gt;</th><th scope=col>&lt;dbl&gt;</th><th scope=col>&lt;dbl&gt;</th></tr>\n",
       "</thead>\n",
       "<tbody>\n",
       "\t<tr><th scope=row>1426</th><td>31</td><td>039</td><td>00835841</td><td>0500000US31039</td><td>31039</td><td>Cuming     </td><td>06</td><td>1477895811</td><td>10447360</td><td>MULTIPOLYGON (((-97.01989 4...</td><td>USA31039</td><td> -96.78738</td><td>41.91632</td></tr>\n",
       "\t<tr><th scope=row>2809</th><td>53</td><td>069</td><td>01513275</td><td>0500000US53069</td><td>53069</td><td>Wahkiakum  </td><td>06</td><td> 682138871</td><td>61658258</td><td>MULTIPOLYGON (((-123.7261 4...</td><td>USA53069</td><td>-123.42400</td><td>46.29194</td></tr>\n",
       "\t<tr><th scope=row>3140</th><td>35</td><td>011</td><td>00933054</td><td>0500000US35011</td><td>35011</td><td>De Baca    </td><td>06</td><td>6015539696</td><td>29159492</td><td>MULTIPOLYGON (((-104.8915 3...</td><td>USA35011</td><td>-104.41210</td><td>34.34231</td></tr>\n",
       "\t<tr><th scope=row>1275</th><td>31</td><td>109</td><td>00835876</td><td>0500000US31109</td><td>31109</td><td>Lancaster  </td><td>06</td><td>2169240202</td><td>22877180</td><td>MULTIPOLYGON (((-96.91393 4...</td><td>USA31109</td><td> -96.68776</td><td>40.78390</td></tr>\n",
       "\t<tr><th scope=row>2715</th><td>31</td><td>129</td><td>00835886</td><td>0500000US31129</td><td>31129</td><td>Nuckolls   </td><td>06</td><td>1489645187</td><td> 1718484</td><td>MULTIPOLYGON (((-98.27405 4...</td><td>USA31129</td><td> -98.04719</td><td>40.17631</td></tr>\n",
       "\t<tr><th scope=row>1763</th><td>72</td><td>085</td><td>01804523</td><td>0500000US72085</td><td>72085</td><td>Las Piedras</td><td>13</td><td>  87748363</td><td>   32509</td><td>MULTIPOLYGON (((-65.92834 1...</td><td>USA72085</td><td> -65.86931</td><td>18.18757</td></tr>\n",
       "</tbody>\n",
       "</table>\n"
      ],
      "text/latex": [
       "A sf: 6 × 13\n",
       "\\begin{tabular}{r|lllllllllllll}\n",
       "  & STATEFP & COUNTYFP & COUNTYNS & AFFGEOID & GEOID & NAME & LSAD & ALAND & AWATER & geometry & code & longitude & latitude\\\\\n",
       "  & <chr> & <chr> & <chr> & <chr> & <chr> & <chr> & <chr> & <dbl> & <dbl> & <MULTIPOLYGON {[}°{]}> & <chr> & <dbl> & <dbl>\\\\\n",
       "\\hline\n",
       "\t1426 & 31 & 039 & 00835841 & 0500000US31039 & 31039 & Cuming      & 06 & 1477895811 & 10447360 & MULTIPOLYGON (((-97.01989 4... & USA31039 &  -96.78738 & 41.91632\\\\\n",
       "\t2809 & 53 & 069 & 01513275 & 0500000US53069 & 53069 & Wahkiakum   & 06 &  682138871 & 61658258 & MULTIPOLYGON (((-123.7261 4... & USA53069 & -123.42400 & 46.29194\\\\\n",
       "\t3140 & 35 & 011 & 00933054 & 0500000US35011 & 35011 & De Baca     & 06 & 6015539696 & 29159492 & MULTIPOLYGON (((-104.8915 3... & USA35011 & -104.41210 & 34.34231\\\\\n",
       "\t1275 & 31 & 109 & 00835876 & 0500000US31109 & 31109 & Lancaster   & 06 & 2169240202 & 22877180 & MULTIPOLYGON (((-96.91393 4... & USA31109 &  -96.68776 & 40.78390\\\\\n",
       "\t2715 & 31 & 129 & 00835886 & 0500000US31129 & 31129 & Nuckolls    & 06 & 1489645187 &  1718484 & MULTIPOLYGON (((-98.27405 4... & USA31129 &  -98.04719 & 40.17631\\\\\n",
       "\t1763 & 72 & 085 & 01804523 & 0500000US72085 & 72085 & Las Piedras & 13 &   87748363 &    32509 & MULTIPOLYGON (((-65.92834 1... & USA72085 &  -65.86931 & 18.18757\\\\\n",
       "\\end{tabular}\n"
      ],
      "text/markdown": [
       "\n",
       "A sf: 6 × 13\n",
       "\n",
       "| <!--/--> | STATEFP &lt;chr&gt; | COUNTYFP &lt;chr&gt; | COUNTYNS &lt;chr&gt; | AFFGEOID &lt;chr&gt; | GEOID &lt;chr&gt; | NAME &lt;chr&gt; | LSAD &lt;chr&gt; | ALAND &lt;dbl&gt; | AWATER &lt;dbl&gt; | geometry &lt;MULTIPOLYGON [°]&gt; | code &lt;chr&gt; | longitude &lt;dbl&gt; | latitude &lt;dbl&gt; |\n",
       "|---|---|---|---|---|---|---|---|---|---|---|---|---|---|\n",
       "| 1426 | 31 | 039 | 00835841 | 0500000US31039 | 31039 | Cuming      | 06 | 1477895811 | 10447360 | MULTIPOLYGON (((-97.01989 4... | USA31039 |  -96.78738 | 41.91632 |\n",
       "| 2809 | 53 | 069 | 01513275 | 0500000US53069 | 53069 | Wahkiakum   | 06 |  682138871 | 61658258 | MULTIPOLYGON (((-123.7261 4... | USA53069 | -123.42400 | 46.29194 |\n",
       "| 3140 | 35 | 011 | 00933054 | 0500000US35011 | 35011 | De Baca     | 06 | 6015539696 | 29159492 | MULTIPOLYGON (((-104.8915 3... | USA35011 | -104.41210 | 34.34231 |\n",
       "| 1275 | 31 | 109 | 00835876 | 0500000US31109 | 31109 | Lancaster   | 06 | 2169240202 | 22877180 | MULTIPOLYGON (((-96.91393 4... | USA31109 |  -96.68776 | 40.78390 |\n",
       "| 2715 | 31 | 129 | 00835886 | 0500000US31129 | 31129 | Nuckolls    | 06 | 1489645187 |  1718484 | MULTIPOLYGON (((-98.27405 4... | USA31129 |  -98.04719 | 40.17631 |\n",
       "| 1763 | 72 | 085 | 01804523 | 0500000US72085 | 72085 | Las Piedras | 13 |   87748363 |    32509 | MULTIPOLYGON (((-65.92834 1... | USA72085 |  -65.86931 | 18.18757 |\n",
       "\n"
      ],
      "text/plain": [
       "     STATEFP COUNTYFP COUNTYNS AFFGEOID       GEOID NAME        LSAD ALAND     \n",
       "1426 31      039      00835841 0500000US31039 31039 Cuming      06   1477895811\n",
       "2809 53      069      01513275 0500000US53069 53069 Wahkiakum   06    682138871\n",
       "3140 35      011      00933054 0500000US35011 35011 De Baca     06   6015539696\n",
       "1275 31      109      00835876 0500000US31109 31109 Lancaster   06   2169240202\n",
       "2715 31      129      00835886 0500000US31129 31129 Nuckolls    06   1489645187\n",
       "1763 72      085      01804523 0500000US72085 72085 Las Piedras 13     87748363\n",
       "     AWATER   geometry                       code     longitude  latitude\n",
       "1426 10447360 MULTIPOLYGON (((-97.01989 4... USA31039  -96.78738 41.91632\n",
       "2809 61658258 MULTIPOLYGON (((-123.7261 4... USA53069 -123.42400 46.29194\n",
       "3140 29159492 MULTIPOLYGON (((-104.8915 3... USA35011 -104.41210 34.34231\n",
       "1275 22877180 MULTIPOLYGON (((-96.91393 4... USA31109  -96.68776 40.78390\n",
       "2715  1718484 MULTIPOLYGON (((-98.27405 4... USA31129  -98.04719 40.17631\n",
       "1763    32509 MULTIPOLYGON (((-65.92834 1... USA72085  -65.86931 18.18757"
      ]
     },
     "metadata": {},
     "output_type": "display_data"
    }
   ],
   "source": [
    "head(usa_data)"
   ]
  },
  {
   "cell_type": "code",
   "execution_count": 24,
   "metadata": {
    "vscode": {
     "languageId": "r"
    }
   },
   "outputs": [],
   "source": [
    "usa_data <- as.data.frame(usa_data)\n",
    "\n",
    "usa_data <- usa_data |>\n",
    "  rename(nodeLabel = NAME) |>\n",
    "  rename(nodeCode = code) |>\n",
    "  select(c(\"nodeCode\", \"nodeLabel\", \"longitude\", \"latitude\"))\n"
   ]
  },
  {
   "cell_type": "code",
   "execution_count": 25,
   "metadata": {
    "vscode": {
     "languageId": "r"
    }
   },
   "outputs": [],
   "source": [
    "# # Merge the data\n",
    "regions <- regions |> \n",
    "  left_join(usa_data, by = c(\"nodeCode\" = \"nodeCode\"), suffix = c(\"_x\", \"_y\")) |>\n",
    "  mutate(nodeLabel = coalesce(nodeLabel_x, nodeLabel_y)) |>\n",
    "  select(-nodeLabel_x, -nodeLabel_y) |>\n",
    "  mutate(longitude = coalesce(longitude_x, longitude_y)) |>\n",
    "  mutate(latitude = coalesce(latitude_x, latitude_y)) |>\n",
    "  select(-longitude_x, -longitude_y, -latitude_x, -latitude_y)\n",
    "\n",
    "rm(usa_data)"
   ]
  },
  {
   "cell_type": "code",
   "execution_count": 26,
   "metadata": {
    "vscode": {
     "languageId": "r"
    }
   },
   "outputs": [],
   "source": [
    "# Clear regions from NA values\n",
    "regions <- regions[!is.na(regions$nodeLabel), ]"
   ]
  },
  {
   "cell_type": "code",
   "execution_count": 27,
   "metadata": {
    "vscode": {
     "languageId": "r"
    }
   },
   "outputs": [
    {
     "data": {
      "text/html": [
       "<table class=\"dataframe\">\n",
       "<caption>A data.frame: 6 × 6</caption>\n",
       "<thead>\n",
       "\t<tr><th></th><th scope=col>nodeCode</th><th scope=col>level</th><th scope=col>country_ISO3</th><th scope=col>nodeLabel</th><th scope=col>longitude</th><th scope=col>latitude</th></tr>\n",
       "\t<tr><th></th><th scope=col>&lt;chr&gt;</th><th scope=col>&lt;chr&gt;</th><th scope=col>&lt;chr&gt;</th><th scope=col>&lt;chr&gt;</th><th scope=col>&lt;dbl&gt;</th><th scope=col>&lt;dbl&gt;</th></tr>\n",
       "</thead>\n",
       "<tbody>\n",
       "\t<tr><th scope=row>49</th><td>DZA1</td><td>gadm1</td><td>DZA</td><td>Adrar         </td><td>-0.6198861</td><td>26.01378</td></tr>\n",
       "\t<tr><th scope=row>50</th><td>DZA2</td><td>gadm1</td><td>DZA</td><td>Aïn Defla     </td><td> 2.0669765</td><td>36.18434</td></tr>\n",
       "\t<tr><th scope=row>51</th><td>DZA3</td><td>gadm1</td><td>DZA</td><td>Aïn Témouchent</td><td>-1.0554878</td><td>35.35085</td></tr>\n",
       "\t<tr><th scope=row>52</th><td>DZA4</td><td>gadm1</td><td>DZA</td><td>Alger         </td><td> 3.0566231</td><td>36.70560</td></tr>\n",
       "\t<tr><th scope=row>53</th><td>DZA5</td><td>gadm1</td><td>DZA</td><td>Annaba        </td><td> 7.5429461</td><td>36.83824</td></tr>\n",
       "\t<tr><th scope=row>54</th><td>DZA6</td><td>gadm1</td><td>DZA</td><td>Batna         </td><td> 5.8745511</td><td>35.41969</td></tr>\n",
       "</tbody>\n",
       "</table>\n"
      ],
      "text/latex": [
       "A data.frame: 6 × 6\n",
       "\\begin{tabular}{r|llllll}\n",
       "  & nodeCode & level & country\\_ISO3 & nodeLabel & longitude & latitude\\\\\n",
       "  & <chr> & <chr> & <chr> & <chr> & <dbl> & <dbl>\\\\\n",
       "\\hline\n",
       "\t49 & DZA1 & gadm1 & DZA & Adrar          & -0.6198861 & 26.01378\\\\\n",
       "\t50 & DZA2 & gadm1 & DZA & Aïn Defla      &  2.0669765 & 36.18434\\\\\n",
       "\t51 & DZA3 & gadm1 & DZA & Aïn Témouchent & -1.0554878 & 35.35085\\\\\n",
       "\t52 & DZA4 & gadm1 & DZA & Alger          &  3.0566231 & 36.70560\\\\\n",
       "\t53 & DZA5 & gadm1 & DZA & Annaba         &  7.5429461 & 36.83824\\\\\n",
       "\t54 & DZA6 & gadm1 & DZA & Batna          &  5.8745511 & 35.41969\\\\\n",
       "\\end{tabular}\n"
      ],
      "text/markdown": [
       "\n",
       "A data.frame: 6 × 6\n",
       "\n",
       "| <!--/--> | nodeCode &lt;chr&gt; | level &lt;chr&gt; | country_ISO3 &lt;chr&gt; | nodeLabel &lt;chr&gt; | longitude &lt;dbl&gt; | latitude &lt;dbl&gt; |\n",
       "|---|---|---|---|---|---|---|\n",
       "| 49 | DZA1 | gadm1 | DZA | Adrar          | -0.6198861 | 26.01378 |\n",
       "| 50 | DZA2 | gadm1 | DZA | Aïn Defla      |  2.0669765 | 36.18434 |\n",
       "| 51 | DZA3 | gadm1 | DZA | Aïn Témouchent | -1.0554878 | 35.35085 |\n",
       "| 52 | DZA4 | gadm1 | DZA | Alger          |  3.0566231 | 36.70560 |\n",
       "| 53 | DZA5 | gadm1 | DZA | Annaba         |  7.5429461 | 36.83824 |\n",
       "| 54 | DZA6 | gadm1 | DZA | Batna          |  5.8745511 | 35.41969 |\n",
       "\n"
      ],
      "text/plain": [
       "   nodeCode level country_ISO3 nodeLabel      longitude  latitude\n",
       "49 DZA1     gadm1 DZA          Adrar          -0.6198861 26.01378\n",
       "50 DZA2     gadm1 DZA          Aïn Defla       2.0669765 36.18434\n",
       "51 DZA3     gadm1 DZA          Aïn Témouchent -1.0554878 35.35085\n",
       "52 DZA4     gadm1 DZA          Alger           3.0566231 36.70560\n",
       "53 DZA5     gadm1 DZA          Annaba          7.5429461 36.83824\n",
       "54 DZA6     gadm1 DZA          Batna           5.8745511 35.41969"
      ]
     },
     "metadata": {},
     "output_type": "display_data"
    }
   ],
   "source": [
    "head(regions)"
   ]
  },
  {
   "cell_type": "code",
   "execution_count": 28,
   "metadata": {
    "vscode": {
     "languageId": "r"
    }
   },
   "outputs": [],
   "source": [
    "# Add the nodeID\n",
    "regions <- regions |>\n",
    "  mutate(nodeID = row_number()) |>\n",
    "  select(nodeID, everything())"
   ]
  },
  {
   "cell_type": "code",
   "execution_count": 29,
   "metadata": {
    "vscode": {
     "languageId": "r"
    }
   },
   "outputs": [],
   "source": [
    "# Save the data\n",
    "write.csv(regions, \"../../data/task_44/networks/full_world_nodes.csv\", row.names = FALSE)"
   ]
  },
  {
   "cell_type": "markdown",
   "metadata": {},
   "source": [
    "## Edges"
   ]
  },
  {
   "cell_type": "code",
   "execution_count": 30,
   "metadata": {
    "vscode": {
     "languageId": "r"
    }
   },
   "outputs": [],
   "source": [
    "# Load the data\n",
    "regions <- read.csv(\"../../data/task_44/networks/full_world_nodes.csv\")"
   ]
  },
  {
   "cell_type": "code",
   "execution_count": 31,
   "metadata": {
    "vscode": {
     "languageId": "r"
    }
   },
   "outputs": [
    {
     "data": {
      "text/html": [
       "<table class=\"dataframe\">\n",
       "<caption>A data.frame: 6 × 7</caption>\n",
       "<thead>\n",
       "\t<tr><th></th><th scope=col>nodeID</th><th scope=col>nodeCode</th><th scope=col>level</th><th scope=col>country_ISO3</th><th scope=col>nodeLabel</th><th scope=col>longitude</th><th scope=col>latitude</th></tr>\n",
       "\t<tr><th></th><th scope=col>&lt;int&gt;</th><th scope=col>&lt;chr&gt;</th><th scope=col>&lt;chr&gt;</th><th scope=col>&lt;chr&gt;</th><th scope=col>&lt;chr&gt;</th><th scope=col>&lt;dbl&gt;</th><th scope=col>&lt;dbl&gt;</th></tr>\n",
       "</thead>\n",
       "<tbody>\n",
       "\t<tr><th scope=row>1</th><td>1</td><td>DZA1</td><td>gadm1</td><td>DZA</td><td>Adrar         </td><td>-0.6198861</td><td>26.01378</td></tr>\n",
       "\t<tr><th scope=row>2</th><td>2</td><td>DZA2</td><td>gadm1</td><td>DZA</td><td>Aïn Defla     </td><td> 2.0669765</td><td>36.18434</td></tr>\n",
       "\t<tr><th scope=row>3</th><td>3</td><td>DZA3</td><td>gadm1</td><td>DZA</td><td>Aïn Témouchent</td><td>-1.0554878</td><td>35.35085</td></tr>\n",
       "\t<tr><th scope=row>4</th><td>4</td><td>DZA4</td><td>gadm1</td><td>DZA</td><td>Alger         </td><td> 3.0566231</td><td>36.70560</td></tr>\n",
       "\t<tr><th scope=row>5</th><td>5</td><td>DZA5</td><td>gadm1</td><td>DZA</td><td>Annaba        </td><td> 7.5429461</td><td>36.83824</td></tr>\n",
       "\t<tr><th scope=row>6</th><td>6</td><td>DZA6</td><td>gadm1</td><td>DZA</td><td>Batna         </td><td> 5.8745511</td><td>35.41969</td></tr>\n",
       "</tbody>\n",
       "</table>\n"
      ],
      "text/latex": [
       "A data.frame: 6 × 7\n",
       "\\begin{tabular}{r|lllllll}\n",
       "  & nodeID & nodeCode & level & country\\_ISO3 & nodeLabel & longitude & latitude\\\\\n",
       "  & <int> & <chr> & <chr> & <chr> & <chr> & <dbl> & <dbl>\\\\\n",
       "\\hline\n",
       "\t1 & 1 & DZA1 & gadm1 & DZA & Adrar          & -0.6198861 & 26.01378\\\\\n",
       "\t2 & 2 & DZA2 & gadm1 & DZA & Aïn Defla      &  2.0669765 & 36.18434\\\\\n",
       "\t3 & 3 & DZA3 & gadm1 & DZA & Aïn Témouchent & -1.0554878 & 35.35085\\\\\n",
       "\t4 & 4 & DZA4 & gadm1 & DZA & Alger          &  3.0566231 & 36.70560\\\\\n",
       "\t5 & 5 & DZA5 & gadm1 & DZA & Annaba         &  7.5429461 & 36.83824\\\\\n",
       "\t6 & 6 & DZA6 & gadm1 & DZA & Batna          &  5.8745511 & 35.41969\\\\\n",
       "\\end{tabular}\n"
      ],
      "text/markdown": [
       "\n",
       "A data.frame: 6 × 7\n",
       "\n",
       "| <!--/--> | nodeID &lt;int&gt; | nodeCode &lt;chr&gt; | level &lt;chr&gt; | country_ISO3 &lt;chr&gt; | nodeLabel &lt;chr&gt; | longitude &lt;dbl&gt; | latitude &lt;dbl&gt; |\n",
       "|---|---|---|---|---|---|---|---|\n",
       "| 1 | 1 | DZA1 | gadm1 | DZA | Adrar          | -0.6198861 | 26.01378 |\n",
       "| 2 | 2 | DZA2 | gadm1 | DZA | Aïn Defla      |  2.0669765 | 36.18434 |\n",
       "| 3 | 3 | DZA3 | gadm1 | DZA | Aïn Témouchent | -1.0554878 | 35.35085 |\n",
       "| 4 | 4 | DZA4 | gadm1 | DZA | Alger          |  3.0566231 | 36.70560 |\n",
       "| 5 | 5 | DZA5 | gadm1 | DZA | Annaba         |  7.5429461 | 36.83824 |\n",
       "| 6 | 6 | DZA6 | gadm1 | DZA | Batna          |  5.8745511 | 35.41969 |\n",
       "\n"
      ],
      "text/plain": [
       "  nodeID nodeCode level country_ISO3 nodeLabel      longitude  latitude\n",
       "1 1      DZA1     gadm1 DZA          Adrar          -0.6198861 26.01378\n",
       "2 2      DZA2     gadm1 DZA          Aïn Defla       2.0669765 36.18434\n",
       "3 3      DZA3     gadm1 DZA          Aïn Témouchent -1.0554878 35.35085\n",
       "4 4      DZA4     gadm1 DZA          Alger           3.0566231 36.70560\n",
       "5 5      DZA5     gadm1 DZA          Annaba          7.5429461 36.83824\n",
       "6 6      DZA6     gadm1 DZA          Batna           5.8745511 35.41969"
      ]
     },
     "metadata": {},
     "output_type": "display_data"
    }
   ],
   "source": [
    "head(regions)"
   ]
  },
  {
   "cell_type": "code",
   "execution_count": 32,
   "metadata": {
    "vscode": {
     "languageId": "r"
    }
   },
   "outputs": [
    {
     "name": "stdout",
     "output_type": "stream",
     "text": [
      "[1] \"Size of df: 1.2 Gb\"\n"
     ]
    }
   ],
   "source": [
    "# Import the data from meta\n",
    "path_data_fb <- \"../../data/task_44/meta/gadm1_nuts3_counties-gadm1_nuts3_counties - FB Social Connectedness Index - October 2021.tsv\"\n",
    "df <- read.table(file = path_data_fb, sep = \"\\t\", header = TRUE)\n",
    "print(paste0(\"Size of df: \", format(object.size(df), units = \"auto\")))"
   ]
  },
  {
   "cell_type": "code",
   "execution_count": 33,
   "metadata": {
    "vscode": {
     "languageId": "r"
    }
   },
   "outputs": [],
   "source": [
    "# Filter out unknown node codes\n",
    "df <- df |>\n",
    "  filter(user_loc %in% regions$nodeCode & fr_loc %in% regions$nodeCode)"
   ]
  },
  {
   "cell_type": "code",
   "execution_count": 34,
   "metadata": {
    "vscode": {
     "languageId": "r"
    }
   },
   "outputs": [],
   "source": [
    "# Add the nodeIDs\n",
    "df <- df |>\n",
    "  # Add the user nodeID\n",
    "  left_join (regions |> select(nodeID, nodeCode), by = c(\"user_loc\" = \"nodeCode\")) |>\n",
    "  rename(nodeID_from = nodeID) |>\n",
    "  # Add the friend nodeID\n",
    "  left_join (regions |> select(nodeID, nodeCode), by = c(\"fr_loc\" = \"nodeCode\")) |>\n",
    "  rename(nodeID_to = nodeID) |>\n",
    "  # Drop the nodeCode columns\n",
    "  select(nodeID_from, nodeID_to, scaled_sci) |>\n",
    "  rename(weight = scaled_sci)"
   ]
  },
  {
   "cell_type": "code",
   "execution_count": 35,
   "metadata": {
    "vscode": {
     "languageId": "r"
    }
   },
   "outputs": [],
   "source": [
    "# Save the data\n",
    "write.csv(df, \"../../data/task_44/networks/full_world_edges.csv\", row.names = FALSE)"
   ]
  },
  {
   "cell_type": "markdown",
   "metadata": {},
   "source": [
    "## Network"
   ]
  },
  {
   "cell_type": "code",
   "execution_count": 2,
   "metadata": {
    "vscode": {
     "languageId": "r"
    }
   },
   "outputs": [],
   "source": [
    "# Read the data\n",
    "edges <- read.csv(\"../../data/task_44/networks/full_world_edges.csv\")\n",
    "nodes <- read.csv(\"../../data/task_44/networks/full_world_nodes.csv\")"
   ]
  },
  {
   "cell_type": "code",
   "execution_count": 4,
   "metadata": {
    "vscode": {
     "languageId": "r"
    }
   },
   "outputs": [
    {
     "data": {
      "text/html": [
       "<table class=\"dataframe\">\n",
       "<caption>A data.frame: 6 × 3</caption>\n",
       "<thead>\n",
       "\t<tr><th></th><th scope=col>nodeID_from</th><th scope=col>nodeID_to</th><th scope=col>weight</th></tr>\n",
       "\t<tr><th></th><th scope=col>&lt;int&gt;</th><th scope=col>&lt;int&gt;</th><th scope=col>&lt;int&gt;</th></tr>\n",
       "</thead>\n",
       "<tbody>\n",
       "\t<tr><th scope=row>62948351</th><td>1836</td><td>1831</td><td>  318504</td></tr>\n",
       "\t<tr><th scope=row>62948352</th><td>1836</td><td>1832</td><td>  305709</td></tr>\n",
       "\t<tr><th scope=row>62948353</th><td>1836</td><td>1833</td><td>  365478</td></tr>\n",
       "\t<tr><th scope=row>62948354</th><td>1836</td><td>1834</td><td>  715880</td></tr>\n",
       "\t<tr><th scope=row>62948355</th><td>1836</td><td>1835</td><td>  722214</td></tr>\n",
       "\t<tr><th scope=row>62948356</th><td>1836</td><td>1836</td><td>15475362</td></tr>\n",
       "</tbody>\n",
       "</table>\n"
      ],
      "text/latex": [
       "A data.frame: 6 × 3\n",
       "\\begin{tabular}{r|lll}\n",
       "  & nodeID\\_from & nodeID\\_to & weight\\\\\n",
       "  & <int> & <int> & <int>\\\\\n",
       "\\hline\n",
       "\t62948351 & 1836 & 1831 &   318504\\\\\n",
       "\t62948352 & 1836 & 1832 &   305709\\\\\n",
       "\t62948353 & 1836 & 1833 &   365478\\\\\n",
       "\t62948354 & 1836 & 1834 &   715880\\\\\n",
       "\t62948355 & 1836 & 1835 &   722214\\\\\n",
       "\t62948356 & 1836 & 1836 & 15475362\\\\\n",
       "\\end{tabular}\n"
      ],
      "text/markdown": [
       "\n",
       "A data.frame: 6 × 3\n",
       "\n",
       "| <!--/--> | nodeID_from &lt;int&gt; | nodeID_to &lt;int&gt; | weight &lt;int&gt; |\n",
       "|---|---|---|---|\n",
       "| 62948351 | 1836 | 1831 |   318504 |\n",
       "| 62948352 | 1836 | 1832 |   305709 |\n",
       "| 62948353 | 1836 | 1833 |   365478 |\n",
       "| 62948354 | 1836 | 1834 |   715880 |\n",
       "| 62948355 | 1836 | 1835 |   722214 |\n",
       "| 62948356 | 1836 | 1836 | 15475362 |\n",
       "\n"
      ],
      "text/plain": [
       "         nodeID_from nodeID_to weight  \n",
       "62948351 1836        1831        318504\n",
       "62948352 1836        1832        305709\n",
       "62948353 1836        1833        365478\n",
       "62948354 1836        1834        715880\n",
       "62948355 1836        1835        722214\n",
       "62948356 1836        1836      15475362"
      ]
     },
     "metadata": {},
     "output_type": "display_data"
    }
   ],
   "source": [
    "tail(edges)"
   ]
  },
  {
   "cell_type": "code",
   "execution_count": 5,
   "metadata": {
    "vscode": {
     "languageId": "r"
    }
   },
   "outputs": [
    {
     "data": {
      "text/html": [
       "<table class=\"dataframe\">\n",
       "<caption>A data.frame: 6 × 7</caption>\n",
       "<thead>\n",
       "\t<tr><th></th><th scope=col>nodeID</th><th scope=col>nodeCode</th><th scope=col>level</th><th scope=col>country_ISO3</th><th scope=col>nodeLabel</th><th scope=col>longitude</th><th scope=col>latitude</th></tr>\n",
       "\t<tr><th></th><th scope=col>&lt;int&gt;</th><th scope=col>&lt;chr&gt;</th><th scope=col>&lt;chr&gt;</th><th scope=col>&lt;chr&gt;</th><th scope=col>&lt;chr&gt;</th><th scope=col>&lt;dbl&gt;</th><th scope=col>&lt;dbl&gt;</th></tr>\n",
       "</thead>\n",
       "<tbody>\n",
       "\t<tr><th scope=row>7953</th><td>7953</td><td>LKA24_318</td><td>gadm2</td><td>LKA</td><td>Trincomalee Town and Gravets</td><td>81.17728</td><td>8.580559</td></tr>\n",
       "\t<tr><th scope=row>7954</th><td>7954</td><td>LKA24_319</td><td>gadm2</td><td>LKA</td><td>Verugal                     </td><td>81.34639</td><td>8.317492</td></tr>\n",
       "\t<tr><th scope=row>7955</th><td>7955</td><td>LKA25_320</td><td>gadm2</td><td>LKA</td><td>Vavuniya                    </td><td>80.45494</td><td>8.816894</td></tr>\n",
       "\t<tr><th scope=row>7956</th><td>7956</td><td>LKA25_321</td><td>gadm2</td><td>LKA</td><td>Vavuniya North              </td><td>80.59240</td><td>9.002291</td></tr>\n",
       "\t<tr><th scope=row>7957</th><td>7957</td><td>LKA25_322</td><td>gadm2</td><td>LKA</td><td>Vavuniya South              </td><td>80.57399</td><td>8.769015</td></tr>\n",
       "\t<tr><th scope=row>7958</th><td>7958</td><td>LKA25_323</td><td>gadm2</td><td>LKA</td><td>Vengalacheddiculam          </td><td>80.29340</td><td>8.688173</td></tr>\n",
       "</tbody>\n",
       "</table>\n"
      ],
      "text/latex": [
       "A data.frame: 6 × 7\n",
       "\\begin{tabular}{r|lllllll}\n",
       "  & nodeID & nodeCode & level & country\\_ISO3 & nodeLabel & longitude & latitude\\\\\n",
       "  & <int> & <chr> & <chr> & <chr> & <chr> & <dbl> & <dbl>\\\\\n",
       "\\hline\n",
       "\t7953 & 7953 & LKA24\\_318 & gadm2 & LKA & Trincomalee Town and Gravets & 81.17728 & 8.580559\\\\\n",
       "\t7954 & 7954 & LKA24\\_319 & gadm2 & LKA & Verugal                      & 81.34639 & 8.317492\\\\\n",
       "\t7955 & 7955 & LKA25\\_320 & gadm2 & LKA & Vavuniya                     & 80.45494 & 8.816894\\\\\n",
       "\t7956 & 7956 & LKA25\\_321 & gadm2 & LKA & Vavuniya North               & 80.59240 & 9.002291\\\\\n",
       "\t7957 & 7957 & LKA25\\_322 & gadm2 & LKA & Vavuniya South               & 80.57399 & 8.769015\\\\\n",
       "\t7958 & 7958 & LKA25\\_323 & gadm2 & LKA & Vengalacheddiculam           & 80.29340 & 8.688173\\\\\n",
       "\\end{tabular}\n"
      ],
      "text/markdown": [
       "\n",
       "A data.frame: 6 × 7\n",
       "\n",
       "| <!--/--> | nodeID &lt;int&gt; | nodeCode &lt;chr&gt; | level &lt;chr&gt; | country_ISO3 &lt;chr&gt; | nodeLabel &lt;chr&gt; | longitude &lt;dbl&gt; | latitude &lt;dbl&gt; |\n",
       "|---|---|---|---|---|---|---|---|\n",
       "| 7953 | 7953 | LKA24_318 | gadm2 | LKA | Trincomalee Town and Gravets | 81.17728 | 8.580559 |\n",
       "| 7954 | 7954 | LKA24_319 | gadm2 | LKA | Verugal                      | 81.34639 | 8.317492 |\n",
       "| 7955 | 7955 | LKA25_320 | gadm2 | LKA | Vavuniya                     | 80.45494 | 8.816894 |\n",
       "| 7956 | 7956 | LKA25_321 | gadm2 | LKA | Vavuniya North               | 80.59240 | 9.002291 |\n",
       "| 7957 | 7957 | LKA25_322 | gadm2 | LKA | Vavuniya South               | 80.57399 | 8.769015 |\n",
       "| 7958 | 7958 | LKA25_323 | gadm2 | LKA | Vengalacheddiculam           | 80.29340 | 8.688173 |\n",
       "\n"
      ],
      "text/plain": [
       "     nodeID nodeCode  level country_ISO3 nodeLabel                    longitude\n",
       "7953 7953   LKA24_318 gadm2 LKA          Trincomalee Town and Gravets 81.17728 \n",
       "7954 7954   LKA24_319 gadm2 LKA          Verugal                      81.34639 \n",
       "7955 7955   LKA25_320 gadm2 LKA          Vavuniya                     80.45494 \n",
       "7956 7956   LKA25_321 gadm2 LKA          Vavuniya North               80.59240 \n",
       "7957 7957   LKA25_322 gadm2 LKA          Vavuniya South               80.57399 \n",
       "7958 7958   LKA25_323 gadm2 LKA          Vengalacheddiculam           80.29340 \n",
       "     latitude\n",
       "7953 8.580559\n",
       "7954 8.317492\n",
       "7955 8.816894\n",
       "7956 9.002291\n",
       "7957 8.769015\n",
       "7958 8.688173"
      ]
     },
     "metadata": {},
     "output_type": "display_data"
    }
   ],
   "source": [
    "tail(nodes)"
   ]
  },
  {
   "cell_type": "code",
   "execution_count": 6,
   "metadata": {
    "vscode": {
     "languageId": "r"
    }
   },
   "outputs": [],
   "source": [
    "## Let's start with a simple network\n",
    "edges <- read.csv(\"../../data/task_44/networks/ITA_edges.csv\")\n",
    "nodes <- read.csv(\"../../data/task_44/networks/ITA_nodes.csv\")"
   ]
  },
  {
   "cell_type": "code",
   "execution_count": 4,
   "metadata": {
    "vscode": {
     "languageId": "r"
    }
   },
   "outputs": [
    {
     "data": {
      "text/html": [
       "<table class=\"dataframe\">\n",
       "<caption>A data.frame: 6 × 5</caption>\n",
       "<thead>\n",
       "\t<tr><th></th><th scope=col>nodeID_from</th><th scope=col>nodeID_to</th><th scope=col>weight</th><th scope=col>country_name</th><th scope=col>country_ISO3</th></tr>\n",
       "\t<tr><th></th><th scope=col>&lt;int&gt;</th><th scope=col>&lt;int&gt;</th><th scope=col>&lt;int&gt;</th><th scope=col>&lt;chr&gt;</th><th scope=col>&lt;chr&gt;</th></tr>\n",
       "</thead>\n",
       "<tbody>\n",
       "\t<tr><th scope=row>1</th><td>1</td><td>1</td><td>655329</td><td>Italy</td><td>ITA</td></tr>\n",
       "\t<tr><th scope=row>2</th><td>1</td><td>2</td><td>107245</td><td>Italy</td><td>ITA</td></tr>\n",
       "\t<tr><th scope=row>3</th><td>1</td><td>3</td><td> 90814</td><td>Italy</td><td>ITA</td></tr>\n",
       "\t<tr><th scope=row>4</th><td>1</td><td>4</td><td> 27940</td><td>Italy</td><td>ITA</td></tr>\n",
       "\t<tr><th scope=row>5</th><td>1</td><td>5</td><td> 31055</td><td>Italy</td><td>ITA</td></tr>\n",
       "\t<tr><th scope=row>6</th><td>1</td><td>6</td><td>142410</td><td>Italy</td><td>ITA</td></tr>\n",
       "</tbody>\n",
       "</table>\n"
      ],
      "text/latex": [
       "A data.frame: 6 × 5\n",
       "\\begin{tabular}{r|lllll}\n",
       "  & nodeID\\_from & nodeID\\_to & weight & country\\_name & country\\_ISO3\\\\\n",
       "  & <int> & <int> & <int> & <chr> & <chr>\\\\\n",
       "\\hline\n",
       "\t1 & 1 & 1 & 655329 & Italy & ITA\\\\\n",
       "\t2 & 1 & 2 & 107245 & Italy & ITA\\\\\n",
       "\t3 & 1 & 3 &  90814 & Italy & ITA\\\\\n",
       "\t4 & 1 & 4 &  27940 & Italy & ITA\\\\\n",
       "\t5 & 1 & 5 &  31055 & Italy & ITA\\\\\n",
       "\t6 & 1 & 6 & 142410 & Italy & ITA\\\\\n",
       "\\end{tabular}\n"
      ],
      "text/markdown": [
       "\n",
       "A data.frame: 6 × 5\n",
       "\n",
       "| <!--/--> | nodeID_from &lt;int&gt; | nodeID_to &lt;int&gt; | weight &lt;int&gt; | country_name &lt;chr&gt; | country_ISO3 &lt;chr&gt; |\n",
       "|---|---|---|---|---|---|\n",
       "| 1 | 1 | 1 | 655329 | Italy | ITA |\n",
       "| 2 | 1 | 2 | 107245 | Italy | ITA |\n",
       "| 3 | 1 | 3 |  90814 | Italy | ITA |\n",
       "| 4 | 1 | 4 |  27940 | Italy | ITA |\n",
       "| 5 | 1 | 5 |  31055 | Italy | ITA |\n",
       "| 6 | 1 | 6 | 142410 | Italy | ITA |\n",
       "\n"
      ],
      "text/plain": [
       "  nodeID_from nodeID_to weight country_name country_ISO3\n",
       "1 1           1         655329 Italy        ITA         \n",
       "2 1           2         107245 Italy        ITA         \n",
       "3 1           3          90814 Italy        ITA         \n",
       "4 1           4          27940 Italy        ITA         \n",
       "5 1           5          31055 Italy        ITA         \n",
       "6 1           6         142410 Italy        ITA         "
      ]
     },
     "metadata": {},
     "output_type": "display_data"
    }
   ],
   "source": [
    "head(edges)"
   ]
  },
  {
   "cell_type": "code",
   "execution_count": 5,
   "metadata": {
    "vscode": {
     "languageId": "r"
    }
   },
   "outputs": [
    {
     "data": {
      "text/html": [
       "<table class=\"dataframe\">\n",
       "<caption>A data.frame: 6 × 5</caption>\n",
       "<thead>\n",
       "\t<tr><th></th><th scope=col>nodeCode</th><th scope=col>nodeID</th><th scope=col>name</th><th scope=col>longitude</th><th scope=col>latitude</th></tr>\n",
       "\t<tr><th></th><th scope=col>&lt;chr&gt;</th><th scope=col>&lt;int&gt;</th><th scope=col>&lt;chr&gt;</th><th scope=col>&lt;dbl&gt;</th><th scope=col>&lt;dbl&gt;</th></tr>\n",
       "</thead>\n",
       "<tbody>\n",
       "\t<tr><th scope=row>105</th><td>ITI35</td><td>105</td><td>Fermo    </td><td>13.61369</td><td>43.08577</td></tr>\n",
       "\t<tr><th scope=row>106</th><td>ITI41</td><td>106</td><td>Viterbo  </td><td>11.95749</td><td>42.43790</td></tr>\n",
       "\t<tr><th scope=row>107</th><td>ITI42</td><td>107</td><td>Rieti    </td><td>12.97034</td><td>42.41547</td></tr>\n",
       "\t<tr><th scope=row>108</th><td>ITI43</td><td>108</td><td>Roma     </td><td>12.60482</td><td>41.91576</td></tr>\n",
       "\t<tr><th scope=row>109</th><td>ITI44</td><td>109</td><td>Latina   </td><td>13.28777</td><td>41.42200</td></tr>\n",
       "\t<tr><th scope=row>110</th><td>ITI45</td><td>110</td><td>Frosinone</td><td>13.54847</td><td>41.64476</td></tr>\n",
       "</tbody>\n",
       "</table>\n"
      ],
      "text/latex": [
       "A data.frame: 6 × 5\n",
       "\\begin{tabular}{r|lllll}\n",
       "  & nodeCode & nodeID & name & longitude & latitude\\\\\n",
       "  & <chr> & <int> & <chr> & <dbl> & <dbl>\\\\\n",
       "\\hline\n",
       "\t105 & ITI35 & 105 & Fermo     & 13.61369 & 43.08577\\\\\n",
       "\t106 & ITI41 & 106 & Viterbo   & 11.95749 & 42.43790\\\\\n",
       "\t107 & ITI42 & 107 & Rieti     & 12.97034 & 42.41547\\\\\n",
       "\t108 & ITI43 & 108 & Roma      & 12.60482 & 41.91576\\\\\n",
       "\t109 & ITI44 & 109 & Latina    & 13.28777 & 41.42200\\\\\n",
       "\t110 & ITI45 & 110 & Frosinone & 13.54847 & 41.64476\\\\\n",
       "\\end{tabular}\n"
      ],
      "text/markdown": [
       "\n",
       "A data.frame: 6 × 5\n",
       "\n",
       "| <!--/--> | nodeCode &lt;chr&gt; | nodeID &lt;int&gt; | name &lt;chr&gt; | longitude &lt;dbl&gt; | latitude &lt;dbl&gt; |\n",
       "|---|---|---|---|---|---|\n",
       "| 105 | ITI35 | 105 | Fermo     | 13.61369 | 43.08577 |\n",
       "| 106 | ITI41 | 106 | Viterbo   | 11.95749 | 42.43790 |\n",
       "| 107 | ITI42 | 107 | Rieti     | 12.97034 | 42.41547 |\n",
       "| 108 | ITI43 | 108 | Roma      | 12.60482 | 41.91576 |\n",
       "| 109 | ITI44 | 109 | Latina    | 13.28777 | 41.42200 |\n",
       "| 110 | ITI45 | 110 | Frosinone | 13.54847 | 41.64476 |\n",
       "\n"
      ],
      "text/plain": [
       "    nodeCode nodeID name      longitude latitude\n",
       "105 ITI35    105    Fermo     13.61369  43.08577\n",
       "106 ITI41    106    Viterbo   11.95749  42.43790\n",
       "107 ITI42    107    Rieti     12.97034  42.41547\n",
       "108 ITI43    108    Roma      12.60482  41.91576\n",
       "109 ITI44    109    Latina    13.28777  41.42200\n",
       "110 ITI45    110    Frosinone 13.54847  41.64476"
      ]
     },
     "metadata": {},
     "output_type": "display_data"
    }
   ],
   "source": [
    "tail(nodes)"
   ]
  },
  {
   "cell_type": "code",
   "execution_count": 3,
   "metadata": {
    "vscode": {
     "languageId": "r"
    }
   },
   "outputs": [],
   "source": [
    "# Subselect the data\n",
    "nodes <- nodes |>\n",
    "  select(nodeID, longitude, latitude)\n",
    "\n",
    "edges <- edges |>\n",
    "  #select(nodeID_from, nodeID_to, weight)\n",
    "  select(nodeID_from, nodeID_to)"
   ]
  },
  {
   "cell_type": "code",
   "execution_count": 4,
   "metadata": {
    "vscode": {
     "languageId": "r"
    }
   },
   "outputs": [],
   "source": [
    "# Create the graph\n",
    "g <- graph_from_data_frame(edges, directed = TRUE, vertices = nodes)"
   ]
  },
  {
   "cell_type": "code",
   "execution_count": 5,
   "metadata": {
    "vscode": {
     "languageId": "r"
    }
   },
   "outputs": [
    {
     "data": {
      "text/html": [
       "<table class=\"dataframe\">\n",
       "<caption>A matrix: 2 × 6 of type dbl</caption>\n",
       "<thead>\n",
       "\t<tr><th></th><th scope=col>used</th><th scope=col>(Mb)</th><th scope=col>gc trigger</th><th scope=col>(Mb)</th><th scope=col>max used</th><th scope=col>(Mb)</th></tr>\n",
       "</thead>\n",
       "<tbody>\n",
       "\t<tr><th scope=row>Ncells</th><td>  1684648</td><td>  90.0</td><td>  3116251</td><td> 166.5</td><td>  3116251</td><td> 166.5</td></tr>\n",
       "\t<tr><th scope=row>Vcells</th><td>160013252</td><td>1220.9</td><td>608534152</td><td>4642.8</td><td>632292198</td><td>4824.1</td></tr>\n",
       "</tbody>\n",
       "</table>\n"
      ],
      "text/latex": [
       "A matrix: 2 × 6 of type dbl\n",
       "\\begin{tabular}{r|llllll}\n",
       "  & used & (Mb) & gc trigger & (Mb) & max used & (Mb)\\\\\n",
       "\\hline\n",
       "\tNcells &   1684648 &   90.0 &   3116251 &  166.5 &   3116251 &  166.5\\\\\n",
       "\tVcells & 160013252 & 1220.9 & 608534152 & 4642.8 & 632292198 & 4824.1\\\\\n",
       "\\end{tabular}\n"
      ],
      "text/markdown": [
       "\n",
       "A matrix: 2 × 6 of type dbl\n",
       "\n",
       "| <!--/--> | used | (Mb) | gc trigger | (Mb) | max used | (Mb) |\n",
       "|---|---|---|---|---|---|---|\n",
       "| Ncells |   1684648 |   90.0 |   3116251 |  166.5 |   3116251 |  166.5 |\n",
       "| Vcells | 160013252 | 1220.9 | 608534152 | 4642.8 | 632292198 | 4824.1 |\n",
       "\n"
      ],
      "text/plain": [
       "       used      (Mb)   gc trigger (Mb)   max used  (Mb)  \n",
       "Ncells   1684648   90.0   3116251   166.5   3116251  166.5\n",
       "Vcells 160013252 1220.9 608534152  4642.8 632292198 4824.1"
      ]
     },
     "metadata": {},
     "output_type": "display_data"
    }
   ],
   "source": [
    "# Layout the graph according to the geographic coordinates\n",
    "layout <- matrix(c(nodes$longitude, nodes$latitude), ncol = 2, byrow = FALSE)\n",
    "rm(nodes, edges)\n",
    "gc()\n"
   ]
  },
  {
   "cell_type": "code",
   "execution_count": null,
   "metadata": {
    "vscode": {
     "languageId": "r"
    }
   },
   "outputs": [],
   "source": [
    "V(g)$latitude <- NULL\n",
    "V(g)$longitude <- NULL"
   ]
  },
  {
   "cell_type": "code",
   "execution_count": 10,
   "metadata": {
    "vscode": {
     "languageId": "r"
    }
   },
   "outputs": [
    {
     "ename": "",
     "evalue": "",
     "output_type": "error",
     "traceback": [
      "\u001b[1;31mThe Kernel crashed while executing code in the current cell or a previous cell. \n",
      "\u001b[1;31mPlease review the code in the cell(s) to identify a possible cause of the failure. \n",
      "\u001b[1;31mClick <a href='https://aka.ms/vscodeJupyterKernelCrash'>here</a> for more info. \n",
      "\u001b[1;31mView Jupyter <a href='command:jupyter.viewOutput'>log</a> for further details."
     ]
    }
   ],
   "source": [
    "# Edge weights\n",
    "# color_ramp <- colorRampPalette(c(\"grey\", \"red\"))\n",
    "# normalized_weights <- (E(g)$weight - min(E(g)$weight)) / (max(E(g)$weight) - min(E(g)$weight))\n",
    "# edge_colors <- color_ramp(5)[as.numeric(cut(normalized_weights, 5))]"
   ]
  },
  {
   "cell_type": "code",
   "execution_count": 6,
   "metadata": {
    "vscode": {
     "languageId": "r"
    }
   },
   "outputs": [],
   "source": [
    "plot(g, layout = layout, vertex.label = NA, edge.width = 0.3,\n",
    "     vertex.size = 2, vertex.color = \"skyblue\", edge.color = \"lightgrey\",\n",
    "     edge.arrow.size = 0, arrow.width = 0,\n",
    "     main = \"Network Graph with Geographic Layout\")"
   ]
  },
  {
   "cell_type": "code",
   "execution_count": null,
   "metadata": {
    "vscode": {
     "languageId": "r"
    }
   },
   "outputs": [],
   "source": []
  }
 ],
 "metadata": {
  "kernelspec": {
   "display_name": "R",
   "language": "R",
   "name": "ir"
  },
  "language_info": {
   "codemirror_mode": "r",
   "file_extension": ".r",
   "mimetype": "text/x-r-source",
   "name": "R",
   "pygments_lexer": "r",
   "version": "4.1.2"
  }
 },
 "nbformat": 4,
 "nbformat_minor": 2
}
