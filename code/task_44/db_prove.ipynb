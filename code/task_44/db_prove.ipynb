{
 "cells": [
  {
   "cell_type": "code",
   "execution_count": 1,
   "metadata": {
    "vscode": {
     "languageId": "r"
    }
   },
   "outputs": [
    {
     "name": "stderr",
     "output_type": "stream",
     "text": [
      "terra 1.7.78\n",
      "\n"
     ]
    }
   ],
   "source": [
    "library(terra)\n",
    "library(geodata)\n",
    "library(eurostat)\n",
    "library(giscoR)\n",
    "#library(geojsonio)"
   ]
  },
  {
   "cell_type": "code",
   "execution_count": 9,
   "metadata": {
    "vscode": {
     "languageId": "r"
    }
   },
   "outputs": [],
   "source": [
    "#install.packages(\"geojsonio\")"
   ]
  },
  {
   "cell_type": "code",
   "execution_count": 6,
   "metadata": {
    "vscode": {
     "languageId": "r"
    }
   },
   "outputs": [
    {
     "name": "stderr",
     "output_type": "stream",
     "text": [
      "Removing package from ‘/home/lapo/R/x86_64-pc-linux-gnu-library/4.3’\n",
      "(as ‘lib’ is unspecified)\n",
      "\n"
     ]
    }
   ],
   "source": [
    "remove.packages(\"geojsonio\")"
   ]
  },
  {
   "cell_type": "code",
   "execution_count": 2,
   "metadata": {
    "vscode": {
     "languageId": "r"
    }
   },
   "outputs": [],
   "source": [
    "data <- vect(\"./gadm_410-levels.gpkg\", layer=\"ADM_1\")"
   ]
  },
  {
   "cell_type": "code",
   "execution_count": 3,
   "metadata": {
    "vscode": {
     "languageId": "r"
    }
   },
   "outputs": [
    {
     "data": {
      "text/html": [
       "<table class=\"dataframe\">\n",
       "<caption>A data.frame: 6 × 11</caption>\n",
       "<thead>\n",
       "\t<tr><th scope=col>GID_0</th><th scope=col>COUNTRY</th><th scope=col>GID_1</th><th scope=col>NAME_1</th><th scope=col>VARNAME_1</th><th scope=col>NL_NAME_1</th><th scope=col>TYPE_1</th><th scope=col>ENGTYPE_1</th><th scope=col>CC_1</th><th scope=col>HASC_1</th><th scope=col>ISO_1</th></tr>\n",
       "\t<tr><th scope=col>&lt;chr&gt;</th><th scope=col>&lt;chr&gt;</th><th scope=col>&lt;chr&gt;</th><th scope=col>&lt;chr&gt;</th><th scope=col>&lt;chr&gt;</th><th scope=col>&lt;chr&gt;</th><th scope=col>&lt;chr&gt;</th><th scope=col>&lt;chr&gt;</th><th scope=col>&lt;chr&gt;</th><th scope=col>&lt;chr&gt;</th><th scope=col>&lt;chr&gt;</th></tr>\n",
       "</thead>\n",
       "<tbody>\n",
       "\t<tr><td>AFG</td><td>Afghanistan</td><td>AFG.1_1</td><td>Badakhshan</td><td>Badahšan                 </td><td>NA</td><td>Velayat</td><td>Province</td><td>NA</td><td>AF.BD</td><td>NA    </td></tr>\n",
       "\t<tr><td>AFG</td><td>Afghanistan</td><td>AFG.2_1</td><td>Badghis   </td><td>Badghes|Badghisat|Badgis </td><td>NA</td><td>Velayat</td><td>Province</td><td>NA</td><td>AF.BG</td><td>AF-BDG</td></tr>\n",
       "\t<tr><td>AFG</td><td>Afghanistan</td><td>AFG.3_1</td><td>Baghlan   </td><td>Baglan|Bughlan           </td><td>NA</td><td>Velayat</td><td>Province</td><td>NA</td><td>AF.BL</td><td>AF-BGL</td></tr>\n",
       "\t<tr><td>AFG</td><td>Afghanistan</td><td>AFG.4_1</td><td>Balkh     </td><td>Balh|Mazar-i-Sharif|Mazar</td><td>NA</td><td>Velayat</td><td>Province</td><td>NA</td><td>AF.BK</td><td>AF-BAL</td></tr>\n",
       "\t<tr><td>AFG</td><td>Afghanistan</td><td>AFG.5_1</td><td>Bamyan    </td><td>NA                       </td><td>NA</td><td>Velayat</td><td>Province</td><td>NA</td><td>AF.BM</td><td>AF-BAM</td></tr>\n",
       "\t<tr><td>AFG</td><td>Afghanistan</td><td>AFG.6_1</td><td>Daykundi  </td><td>NA                       </td><td>NA</td><td>Velayat</td><td>Province</td><td>NA</td><td>AF.DK</td><td>AF-DAY</td></tr>\n",
       "</tbody>\n",
       "</table>\n"
      ],
      "text/latex": [
       "A data.frame: 6 × 11\n",
       "\\begin{tabular}{lllllllllll}\n",
       " GID\\_0 & COUNTRY & GID\\_1 & NAME\\_1 & VARNAME\\_1 & NL\\_NAME\\_1 & TYPE\\_1 & ENGTYPE\\_1 & CC\\_1 & HASC\\_1 & ISO\\_1\\\\\n",
       " <chr> & <chr> & <chr> & <chr> & <chr> & <chr> & <chr> & <chr> & <chr> & <chr> & <chr>\\\\\n",
       "\\hline\n",
       "\t AFG & Afghanistan & AFG.1\\_1 & Badakhshan & Badahšan                  & NA & Velayat & Province & NA & AF.BD & NA    \\\\\n",
       "\t AFG & Afghanistan & AFG.2\\_1 & Badghis    & Badghes\\textbar{}Badghisat\\textbar{}Badgis  & NA & Velayat & Province & NA & AF.BG & AF-BDG\\\\\n",
       "\t AFG & Afghanistan & AFG.3\\_1 & Baghlan    & Baglan\\textbar{}Bughlan            & NA & Velayat & Province & NA & AF.BL & AF-BGL\\\\\n",
       "\t AFG & Afghanistan & AFG.4\\_1 & Balkh      & Balh\\textbar{}Mazar-i-Sharif\\textbar{}Mazar & NA & Velayat & Province & NA & AF.BK & AF-BAL\\\\\n",
       "\t AFG & Afghanistan & AFG.5\\_1 & Bamyan     & NA                        & NA & Velayat & Province & NA & AF.BM & AF-BAM\\\\\n",
       "\t AFG & Afghanistan & AFG.6\\_1 & Daykundi   & NA                        & NA & Velayat & Province & NA & AF.DK & AF-DAY\\\\\n",
       "\\end{tabular}\n"
      ],
      "text/markdown": [
       "\n",
       "A data.frame: 6 × 11\n",
       "\n",
       "| GID_0 &lt;chr&gt; | COUNTRY &lt;chr&gt; | GID_1 &lt;chr&gt; | NAME_1 &lt;chr&gt; | VARNAME_1 &lt;chr&gt; | NL_NAME_1 &lt;chr&gt; | TYPE_1 &lt;chr&gt; | ENGTYPE_1 &lt;chr&gt; | CC_1 &lt;chr&gt; | HASC_1 &lt;chr&gt; | ISO_1 &lt;chr&gt; |\n",
       "|---|---|---|---|---|---|---|---|---|---|---|\n",
       "| AFG | Afghanistan | AFG.1_1 | Badakhshan | Badahšan                  | NA | Velayat | Province | NA | AF.BD | NA     |\n",
       "| AFG | Afghanistan | AFG.2_1 | Badghis    | Badghes|Badghisat|Badgis  | NA | Velayat | Province | NA | AF.BG | AF-BDG |\n",
       "| AFG | Afghanistan | AFG.3_1 | Baghlan    | Baglan|Bughlan            | NA | Velayat | Province | NA | AF.BL | AF-BGL |\n",
       "| AFG | Afghanistan | AFG.4_1 | Balkh      | Balh|Mazar-i-Sharif|Mazar | NA | Velayat | Province | NA | AF.BK | AF-BAL |\n",
       "| AFG | Afghanistan | AFG.5_1 | Bamyan     | NA                        | NA | Velayat | Province | NA | AF.BM | AF-BAM |\n",
       "| AFG | Afghanistan | AFG.6_1 | Daykundi   | NA                        | NA | Velayat | Province | NA | AF.DK | AF-DAY |\n",
       "\n"
      ],
      "text/plain": [
       "  GID_0 COUNTRY     GID_1   NAME_1     VARNAME_1                 NL_NAME_1\n",
       "1 AFG   Afghanistan AFG.1_1 Badakhshan Badahšan                  NA       \n",
       "2 AFG   Afghanistan AFG.2_1 Badghis    Badghes|Badghisat|Badgis  NA       \n",
       "3 AFG   Afghanistan AFG.3_1 Baghlan    Baglan|Bughlan            NA       \n",
       "4 AFG   Afghanistan AFG.4_1 Balkh      Balh|Mazar-i-Sharif|Mazar NA       \n",
       "5 AFG   Afghanistan AFG.5_1 Bamyan     NA                        NA       \n",
       "6 AFG   Afghanistan AFG.6_1 Daykundi   NA                        NA       \n",
       "  TYPE_1  ENGTYPE_1 CC_1 HASC_1 ISO_1 \n",
       "1 Velayat Province  NA   AF.BD  NA    \n",
       "2 Velayat Province  NA   AF.BG  AF-BDG\n",
       "3 Velayat Province  NA   AF.BL  AF-BGL\n",
       "4 Velayat Province  NA   AF.BK  AF-BAL\n",
       "5 Velayat Province  NA   AF.BM  AF-BAM\n",
       "6 Velayat Province  NA   AF.DK  AF-DAY"
      ]
     },
     "metadata": {},
     "output_type": "display_data"
    }
   ],
   "source": [
    "head(data)"
   ]
  },
  {
   "cell_type": "code",
   "execution_count": 4,
   "metadata": {
    "vscode": {
     "languageId": "r"
    }
   },
   "outputs": [],
   "source": [
    "df <- data[data$GID_0 ==  \"AGO\"]"
   ]
  },
  {
   "cell_type": "code",
   "execution_count": 8,
   "metadata": {
    "vscode": {
     "languageId": "r"
    }
   },
   "outputs": [
    {
     "data": {
      "text/html": [
       "<table class=\"dataframe\">\n",
       "<caption>A data.frame: 10 × 11</caption>\n",
       "<thead>\n",
       "\t<tr><th></th><th scope=col>GID_0</th><th scope=col>COUNTRY</th><th scope=col>GID_1</th><th scope=col>NAME_1</th><th scope=col>VARNAME_1</th><th scope=col>NL_NAME_1</th><th scope=col>TYPE_1</th><th scope=col>ENGTYPE_1</th><th scope=col>CC_1</th><th scope=col>HASC_1</th><th scope=col>ISO_1</th></tr>\n",
       "\t<tr><th></th><th scope=col>&lt;chr&gt;</th><th scope=col>&lt;chr&gt;</th><th scope=col>&lt;chr&gt;</th><th scope=col>&lt;chr&gt;</th><th scope=col>&lt;chr&gt;</th><th scope=col>&lt;chr&gt;</th><th scope=col>&lt;chr&gt;</th><th scope=col>&lt;chr&gt;</th><th scope=col>&lt;chr&gt;</th><th scope=col>&lt;chr&gt;</th><th scope=col>&lt;chr&gt;</th></tr>\n",
       "</thead>\n",
       "<tbody>\n",
       "\t<tr><th scope=row>9</th><td>AGO</td><td>Angola</td><td>AGO.9_1 </td><td>Huambo     </td><td>NA                  </td><td>NA</td><td>Província</td><td>Province</td><td>9 </td><td>AO.HM</td><td>AO-HUA</td></tr>\n",
       "\t<tr><th scope=row>10</th><td>AGO</td><td>Angola</td><td>AGO.10_1</td><td>Huíla      </td><td>NA                  </td><td>NA</td><td>Província</td><td>Province</td><td>10</td><td>AO.HL</td><td>NA    </td></tr>\n",
       "\t<tr><th scope=row>11</th><td>AGO</td><td>Angola</td><td>AGO.11_1</td><td>Luanda     </td><td>Loanda              </td><td>NA</td><td>Província</td><td>Province</td><td>11</td><td>AO.LU</td><td>AO-LUA</td></tr>\n",
       "\t<tr><th scope=row>12</th><td>AGO</td><td>Angola</td><td>AGO.12_1</td><td>Lunda Norte</td><td>NA                  </td><td>NA</td><td>Província</td><td>Province</td><td>12</td><td>AO.LN</td><td>NA    </td></tr>\n",
       "\t<tr><th scope=row>13</th><td>AGO</td><td>Angola</td><td>AGO.13_1</td><td>Lunda Sul  </td><td>NA                  </td><td>NA</td><td>Província</td><td>Province</td><td>13</td><td>AO.LS</td><td>NA    </td></tr>\n",
       "\t<tr><th scope=row>14</th><td>AGO</td><td>Angola</td><td>AGO.14_1</td><td>Malanje    </td><td>Malange             </td><td>NA</td><td>Província</td><td>Province</td><td>14</td><td>AO.ML</td><td>NA    </td></tr>\n",
       "\t<tr><th scope=row>15</th><td>AGO</td><td>Angola</td><td>AGO.15_1</td><td>Moxico     </td><td>NA                  </td><td>NA</td><td>Província</td><td>Province</td><td>15</td><td>AO.MX</td><td>AO-MOX</td></tr>\n",
       "\t<tr><th scope=row>16</th><td>AGO</td><td>Angola</td><td>AGO.16_1</td><td>Namibe     </td><td>Moçâmedes|Mossamedes</td><td>NA</td><td>Província</td><td>Province</td><td>16</td><td>AO.NA</td><td>AO-NAM</td></tr>\n",
       "\t<tr><th scope=row>17</th><td>AGO</td><td>Angola</td><td>AGO.17_1</td><td>Uíge       </td><td>NA                  </td><td>NA</td><td>Província</td><td>Province</td><td>17</td><td>AO.UI</td><td>NA    </td></tr>\n",
       "\t<tr><th scope=row>18</th><td>AGO</td><td>Angola</td><td>AGO.18_1</td><td>Zaire      </td><td>NA                  </td><td>NA</td><td>Província</td><td>Province</td><td>18</td><td>AO.ZA</td><td>AO-ZAI</td></tr>\n",
       "</tbody>\n",
       "</table>\n"
      ],
      "text/latex": [
       "A data.frame: 10 × 11\n",
       "\\begin{tabular}{r|lllllllllll}\n",
       "  & GID\\_0 & COUNTRY & GID\\_1 & NAME\\_1 & VARNAME\\_1 & NL\\_NAME\\_1 & TYPE\\_1 & ENGTYPE\\_1 & CC\\_1 & HASC\\_1 & ISO\\_1\\\\\n",
       "  & <chr> & <chr> & <chr> & <chr> & <chr> & <chr> & <chr> & <chr> & <chr> & <chr> & <chr>\\\\\n",
       "\\hline\n",
       "\t9 & AGO & Angola & AGO.9\\_1  & Huambo      & NA                   & NA & Província & Province & 9  & AO.HM & AO-HUA\\\\\n",
       "\t10 & AGO & Angola & AGO.10\\_1 & Huíla       & NA                   & NA & Província & Province & 10 & AO.HL & NA    \\\\\n",
       "\t11 & AGO & Angola & AGO.11\\_1 & Luanda      & Loanda               & NA & Província & Province & 11 & AO.LU & AO-LUA\\\\\n",
       "\t12 & AGO & Angola & AGO.12\\_1 & Lunda Norte & NA                   & NA & Província & Province & 12 & AO.LN & NA    \\\\\n",
       "\t13 & AGO & Angola & AGO.13\\_1 & Lunda Sul   & NA                   & NA & Província & Province & 13 & AO.LS & NA    \\\\\n",
       "\t14 & AGO & Angola & AGO.14\\_1 & Malanje     & Malange              & NA & Província & Province & 14 & AO.ML & NA    \\\\\n",
       "\t15 & AGO & Angola & AGO.15\\_1 & Moxico      & NA                   & NA & Província & Province & 15 & AO.MX & AO-MOX\\\\\n",
       "\t16 & AGO & Angola & AGO.16\\_1 & Namibe      & Moçâmedes\\textbar{}Mossamedes & NA & Província & Province & 16 & AO.NA & AO-NAM\\\\\n",
       "\t17 & AGO & Angola & AGO.17\\_1 & Uíge        & NA                   & NA & Província & Province & 17 & AO.UI & NA    \\\\\n",
       "\t18 & AGO & Angola & AGO.18\\_1 & Zaire       & NA                   & NA & Província & Province & 18 & AO.ZA & AO-ZAI\\\\\n",
       "\\end{tabular}\n"
      ],
      "text/markdown": [
       "\n",
       "A data.frame: 10 × 11\n",
       "\n",
       "| <!--/--> | GID_0 &lt;chr&gt; | COUNTRY &lt;chr&gt; | GID_1 &lt;chr&gt; | NAME_1 &lt;chr&gt; | VARNAME_1 &lt;chr&gt; | NL_NAME_1 &lt;chr&gt; | TYPE_1 &lt;chr&gt; | ENGTYPE_1 &lt;chr&gt; | CC_1 &lt;chr&gt; | HASC_1 &lt;chr&gt; | ISO_1 &lt;chr&gt; |\n",
       "|---|---|---|---|---|---|---|---|---|---|---|---|\n",
       "| 9 | AGO | Angola | AGO.9_1  | Huambo      | NA                   | NA | Província | Province | 9  | AO.HM | AO-HUA |\n",
       "| 10 | AGO | Angola | AGO.10_1 | Huíla       | NA                   | NA | Província | Province | 10 | AO.HL | NA     |\n",
       "| 11 | AGO | Angola | AGO.11_1 | Luanda      | Loanda               | NA | Província | Province | 11 | AO.LU | AO-LUA |\n",
       "| 12 | AGO | Angola | AGO.12_1 | Lunda Norte | NA                   | NA | Província | Province | 12 | AO.LN | NA     |\n",
       "| 13 | AGO | Angola | AGO.13_1 | Lunda Sul   | NA                   | NA | Província | Province | 13 | AO.LS | NA     |\n",
       "| 14 | AGO | Angola | AGO.14_1 | Malanje     | Malange              | NA | Província | Province | 14 | AO.ML | NA     |\n",
       "| 15 | AGO | Angola | AGO.15_1 | Moxico      | NA                   | NA | Província | Province | 15 | AO.MX | AO-MOX |\n",
       "| 16 | AGO | Angola | AGO.16_1 | Namibe      | Moçâmedes|Mossamedes | NA | Província | Province | 16 | AO.NA | AO-NAM |\n",
       "| 17 | AGO | Angola | AGO.17_1 | Uíge        | NA                   | NA | Província | Province | 17 | AO.UI | NA     |\n",
       "| 18 | AGO | Angola | AGO.18_1 | Zaire       | NA                   | NA | Província | Province | 18 | AO.ZA | AO-ZAI |\n",
       "\n"
      ],
      "text/plain": [
       "   GID_0 COUNTRY GID_1    NAME_1      VARNAME_1            NL_NAME_1 TYPE_1   \n",
       "9  AGO   Angola  AGO.9_1  Huambo      NA                   NA        Província\n",
       "10 AGO   Angola  AGO.10_1 Huíla       NA                   NA        Província\n",
       "11 AGO   Angola  AGO.11_1 Luanda      Loanda               NA        Província\n",
       "12 AGO   Angola  AGO.12_1 Lunda Norte NA                   NA        Província\n",
       "13 AGO   Angola  AGO.13_1 Lunda Sul   NA                   NA        Província\n",
       "14 AGO   Angola  AGO.14_1 Malanje     Malange              NA        Província\n",
       "15 AGO   Angola  AGO.15_1 Moxico      NA                   NA        Província\n",
       "16 AGO   Angola  AGO.16_1 Namibe      Moçâmedes|Mossamedes NA        Província\n",
       "17 AGO   Angola  AGO.17_1 Uíge        NA                   NA        Província\n",
       "18 AGO   Angola  AGO.18_1 Zaire       NA                   NA        Província\n",
       "   ENGTYPE_1 CC_1 HASC_1 ISO_1 \n",
       "9  Province  9    AO.HM  AO-HUA\n",
       "10 Province  10   AO.HL  NA    \n",
       "11 Province  11   AO.LU  AO-LUA\n",
       "12 Province  12   AO.LN  NA    \n",
       "13 Province  13   AO.LS  NA    \n",
       "14 Province  14   AO.ML  NA    \n",
       "15 Province  15   AO.MX  AO-MOX\n",
       "16 Province  16   AO.NA  AO-NAM\n",
       "17 Province  17   AO.UI  NA    \n",
       "18 Province  18   AO.ZA  AO-ZAI"
      ]
     },
     "metadata": {},
     "output_type": "display_data"
    }
   ],
   "source": [
    "tail(df, 10)"
   ]
  },
  {
   "cell_type": "code",
   "execution_count": null,
   "metadata": {
    "vscode": {
     "languageId": "r"
    }
   },
   "outputs": [],
   "source": []
  },
  {
   "cell_type": "code",
   "execution_count": 1,
   "metadata": {
    "vscode": {
     "languageId": "r"
    }
   },
   "outputs": [
    {
     "name": "stderr",
     "output_type": "stream",
     "text": [
      "Loading required package: terra\n",
      "\n",
      "terra 1.7.78\n",
      "\n"
     ]
    }
   ],
   "source": []
  },
  {
   "cell_type": "markdown",
   "metadata": {},
   "source": [
    "## Gadm"
   ]
  },
  {
   "cell_type": "code",
   "execution_count": 6,
   "metadata": {
    "vscode": {
     "languageId": "r"
    }
   },
   "outputs": [
    {
     "data": {
      "text/plain": [
       " class       : SpatVector \n",
       " geometry    : polygons \n",
       " dimensions  : 18, 11  (geometries, attributes)\n",
       " extent      : 11.6687, 24.08007, -18.04208, -4.372591  (xmin, xmax, ymin, ymax)\n",
       " coord. ref. : lon/lat WGS 84 (EPSG:4326) \n",
       " names       : GID_0 COUNTRY   GID_1   NAME_1 VARNAME_1 NL_NAME_1    TYPE_1\n",
       " type        : <chr>   <chr>   <chr>    <chr>     <chr>     <chr>     <chr>\n",
       " values      :   AGO  Angola AGO.1_1    Bengo        NA        NA Província\n",
       "                 AGO  Angola AGO.2_1 Benguela Benguella        NA Província\n",
       "                 AGO  Angola AGO.3_1      Bié        NA        NA Província\n",
       " ENGTYPE_1  CC_1 HASC_1  ISO_1\n",
       "     <chr> <chr>  <chr>  <chr>\n",
       "  Province     1  AO.BO AO-BGO\n",
       "  Province     2  AO.BG AO-BGU\n",
       "  Province     3  AO.BI     NA"
      ]
     },
     "metadata": {},
     "output_type": "display_data"
    }
   ],
   "source": [
    "ago <- gadm(\"AGO\", level = 1, path = \"./data/\")\n",
    "ago"
   ]
  },
  {
   "cell_type": "code",
   "execution_count": 8,
   "metadata": {
    "vscode": {
     "languageId": "r"
    }
   },
   "outputs": [
    {
     "data": {
      "text/html": [
       "<table class=\"dataframe\">\n",
       "<caption>A data.frame: 6 × 11</caption>\n",
       "<thead>\n",
       "\t<tr><th></th><th scope=col>GID_0</th><th scope=col>COUNTRY</th><th scope=col>GID_1</th><th scope=col>NAME_1</th><th scope=col>VARNAME_1</th><th scope=col>NL_NAME_1</th><th scope=col>TYPE_1</th><th scope=col>ENGTYPE_1</th><th scope=col>CC_1</th><th scope=col>HASC_1</th><th scope=col>ISO_1</th></tr>\n",
       "\t<tr><th></th><th scope=col>&lt;chr&gt;</th><th scope=col>&lt;chr&gt;</th><th scope=col>&lt;chr&gt;</th><th scope=col>&lt;chr&gt;</th><th scope=col>&lt;chr&gt;</th><th scope=col>&lt;chr&gt;</th><th scope=col>&lt;chr&gt;</th><th scope=col>&lt;chr&gt;</th><th scope=col>&lt;chr&gt;</th><th scope=col>&lt;chr&gt;</th><th scope=col>&lt;chr&gt;</th></tr>\n",
       "</thead>\n",
       "<tbody>\n",
       "\t<tr><th scope=row>13</th><td>AGO</td><td>Angola</td><td>AGO.13_1</td><td>Lunda Sul</td><td>NA                  </td><td>NA</td><td>Província</td><td>Province</td><td>13</td><td>AO.LS</td><td>NA    </td></tr>\n",
       "\t<tr><th scope=row>14</th><td>AGO</td><td>Angola</td><td>AGO.14_1</td><td>Malanje  </td><td>Malange             </td><td>NA</td><td>Província</td><td>Province</td><td>14</td><td>AO.ML</td><td>NA    </td></tr>\n",
       "\t<tr><th scope=row>15</th><td>AGO</td><td>Angola</td><td>AGO.15_1</td><td>Moxico   </td><td>NA                  </td><td>NA</td><td>Província</td><td>Province</td><td>15</td><td>AO.MX</td><td>AO-MOX</td></tr>\n",
       "\t<tr><th scope=row>16</th><td>AGO</td><td>Angola</td><td>AGO.16_1</td><td>Namibe   </td><td>Moçâmedes|Mossamedes</td><td>NA</td><td>Província</td><td>Province</td><td>16</td><td>AO.NA</td><td>AO-NAM</td></tr>\n",
       "\t<tr><th scope=row>17</th><td>AGO</td><td>Angola</td><td>AGO.17_1</td><td>Uíge     </td><td>NA                  </td><td>NA</td><td>Província</td><td>Province</td><td>17</td><td>AO.UI</td><td>NA    </td></tr>\n",
       "\t<tr><th scope=row>18</th><td>AGO</td><td>Angola</td><td>AGO.18_1</td><td>Zaire    </td><td>NA                  </td><td>NA</td><td>Província</td><td>Province</td><td>18</td><td>AO.ZA</td><td>AO-ZAI</td></tr>\n",
       "</tbody>\n",
       "</table>\n"
      ],
      "text/latex": [
       "A data.frame: 6 × 11\n",
       "\\begin{tabular}{r|lllllllllll}\n",
       "  & GID\\_0 & COUNTRY & GID\\_1 & NAME\\_1 & VARNAME\\_1 & NL\\_NAME\\_1 & TYPE\\_1 & ENGTYPE\\_1 & CC\\_1 & HASC\\_1 & ISO\\_1\\\\\n",
       "  & <chr> & <chr> & <chr> & <chr> & <chr> & <chr> & <chr> & <chr> & <chr> & <chr> & <chr>\\\\\n",
       "\\hline\n",
       "\t13 & AGO & Angola & AGO.13\\_1 & Lunda Sul & NA                   & NA & Província & Province & 13 & AO.LS & NA    \\\\\n",
       "\t14 & AGO & Angola & AGO.14\\_1 & Malanje   & Malange              & NA & Província & Province & 14 & AO.ML & NA    \\\\\n",
       "\t15 & AGO & Angola & AGO.15\\_1 & Moxico    & NA                   & NA & Província & Province & 15 & AO.MX & AO-MOX\\\\\n",
       "\t16 & AGO & Angola & AGO.16\\_1 & Namibe    & Moçâmedes\\textbar{}Mossamedes & NA & Província & Province & 16 & AO.NA & AO-NAM\\\\\n",
       "\t17 & AGO & Angola & AGO.17\\_1 & Uíge      & NA                   & NA & Província & Province & 17 & AO.UI & NA    \\\\\n",
       "\t18 & AGO & Angola & AGO.18\\_1 & Zaire     & NA                   & NA & Província & Province & 18 & AO.ZA & AO-ZAI\\\\\n",
       "\\end{tabular}\n"
      ],
      "text/markdown": [
       "\n",
       "A data.frame: 6 × 11\n",
       "\n",
       "| <!--/--> | GID_0 &lt;chr&gt; | COUNTRY &lt;chr&gt; | GID_1 &lt;chr&gt; | NAME_1 &lt;chr&gt; | VARNAME_1 &lt;chr&gt; | NL_NAME_1 &lt;chr&gt; | TYPE_1 &lt;chr&gt; | ENGTYPE_1 &lt;chr&gt; | CC_1 &lt;chr&gt; | HASC_1 &lt;chr&gt; | ISO_1 &lt;chr&gt; |\n",
       "|---|---|---|---|---|---|---|---|---|---|---|---|\n",
       "| 13 | AGO | Angola | AGO.13_1 | Lunda Sul | NA                   | NA | Província | Province | 13 | AO.LS | NA     |\n",
       "| 14 | AGO | Angola | AGO.14_1 | Malanje   | Malange              | NA | Província | Province | 14 | AO.ML | NA     |\n",
       "| 15 | AGO | Angola | AGO.15_1 | Moxico    | NA                   | NA | Província | Province | 15 | AO.MX | AO-MOX |\n",
       "| 16 | AGO | Angola | AGO.16_1 | Namibe    | Moçâmedes|Mossamedes | NA | Província | Province | 16 | AO.NA | AO-NAM |\n",
       "| 17 | AGO | Angola | AGO.17_1 | Uíge      | NA                   | NA | Província | Province | 17 | AO.UI | NA     |\n",
       "| 18 | AGO | Angola | AGO.18_1 | Zaire     | NA                   | NA | Província | Province | 18 | AO.ZA | AO-ZAI |\n",
       "\n"
      ],
      "text/plain": [
       "   GID_0 COUNTRY GID_1    NAME_1    VARNAME_1            NL_NAME_1 TYPE_1   \n",
       "13 AGO   Angola  AGO.13_1 Lunda Sul NA                   NA        Província\n",
       "14 AGO   Angola  AGO.14_1 Malanje   Malange              NA        Província\n",
       "15 AGO   Angola  AGO.15_1 Moxico    NA                   NA        Província\n",
       "16 AGO   Angola  AGO.16_1 Namibe    Moçâmedes|Mossamedes NA        Província\n",
       "17 AGO   Angola  AGO.17_1 Uíge      NA                   NA        Província\n",
       "18 AGO   Angola  AGO.18_1 Zaire     NA                   NA        Província\n",
       "   ENGTYPE_1 CC_1 HASC_1 ISO_1 \n",
       "13 Province  13   AO.LS  NA    \n",
       "14 Province  14   AO.ML  NA    \n",
       "15 Province  15   AO.MX  AO-MOX\n",
       "16 Province  16   AO.NA  AO-NAM\n",
       "17 Province  17   AO.UI  NA    \n",
       "18 Province  18   AO.ZA  AO-ZAI"
      ]
     },
     "metadata": {},
     "output_type": "display_data"
    }
   ],
   "source": [
    "tail(ago)"
   ]
  },
  {
   "cell_type": "code",
   "execution_count": 11,
   "metadata": {
    "vscode": {
     "languageId": "r"
    }
   },
   "outputs": [
    {
     "data": {
      "text/plain": [
       " class       : SpatVector \n",
       " geometry    : points \n",
       " dimensions  : 18, 11  (geometries, attributes)\n",
       " extent      : 12.4757, 21.03601, -16.50349, -5.039151  (xmin, xmax, ymin, ymax)\n",
       " coord. ref. : lon/lat WGS 84 (EPSG:4326) \n",
       " names       : GID_0 COUNTRY   GID_1   NAME_1 VARNAME_1 NL_NAME_1    TYPE_1\n",
       " type        : <chr>   <chr>   <chr>    <chr>     <chr>     <chr>     <chr>\n",
       " values      :   AGO  Angola AGO.1_1    Bengo        NA        NA Província\n",
       "                 AGO  Angola AGO.2_1 Benguela Benguella        NA Província\n",
       "                 AGO  Angola AGO.3_1      Bié        NA        NA Província\n",
       " ENGTYPE_1  CC_1 HASC_1  ISO_1\n",
       "     <chr> <chr>  <chr>  <chr>\n",
       "  Province     1  AO.BO AO-BGO\n",
       "  Province     2  AO.BG AO-BGU\n",
       "  Province     3  AO.BI     NA"
      ]
     },
     "metadata": {},
     "output_type": "display_data"
    }
   ],
   "source": [
    "centroids <- terra::centroids(ago)\n",
    "centroids"
   ]
  },
  {
   "cell_type": "code",
   "execution_count": 13,
   "metadata": {
    "vscode": {
     "languageId": "r"
    }
   },
   "outputs": [],
   "source": [
    "centroid_df <- as.data.frame(centroids)"
   ]
  },
  {
   "cell_type": "code",
   "execution_count": 16,
   "metadata": {
    "vscode": {
     "languageId": "r"
    }
   },
   "outputs": [
    {
     "data": {
      "text/html": [
       "<table class=\"dataframe\">\n",
       "<caption>A matrix: 18 × 2 of type dbl</caption>\n",
       "<thead>\n",
       "\t<tr><th scope=col>x</th><th scope=col>y</th></tr>\n",
       "</thead>\n",
       "<tbody>\n",
       "\t<tr><td>13.88139</td><td> -8.977738</td></tr>\n",
       "\t<tr><td>13.98972</td><td>-12.933527</td></tr>\n",
       "\t<tr><td>17.36258</td><td>-12.324940</td></tr>\n",
       "\t<tr><td>12.47570</td><td> -5.039151</td></tr>\n",
       "\t<tr><td>19.51790</td><td>-16.119023</td></tr>\n",
       "\t<tr><td>14.94594</td><td> -8.898696</td></tr>\n",
       "\t<tr><td>15.04485</td><td>-10.825961</td></tr>\n",
       "\t<tr><td>15.57851</td><td>-16.503494</td></tr>\n",
       "\t<tr><td>15.74566</td><td>-12.569180</td></tr>\n",
       "\t<tr><td>14.95008</td><td>-14.742893</td></tr>\n",
       "\t<tr><td>13.31067</td><td> -8.980243</td></tr>\n",
       "\t<tr><td>19.49290</td><td> -8.652134</td></tr>\n",
       "\t<tr><td>20.65537</td><td>-10.176176</td></tr>\n",
       "\t<tr><td>16.95822</td><td> -9.490076</td></tr>\n",
       "\t<tr><td>21.03601</td><td>-12.877405</td></tr>\n",
       "\t<tr><td>12.72715</td><td>-15.493099</td></tr>\n",
       "\t<tr><td>15.47734</td><td> -7.024084</td></tr>\n",
       "\t<tr><td>13.56173</td><td> -6.608486</td></tr>\n",
       "</tbody>\n",
       "</table>\n"
      ],
      "text/latex": [
       "A matrix: 18 × 2 of type dbl\n",
       "\\begin{tabular}{ll}\n",
       " x & y\\\\\n",
       "\\hline\n",
       "\t 13.88139 &  -8.977738\\\\\n",
       "\t 13.98972 & -12.933527\\\\\n",
       "\t 17.36258 & -12.324940\\\\\n",
       "\t 12.47570 &  -5.039151\\\\\n",
       "\t 19.51790 & -16.119023\\\\\n",
       "\t 14.94594 &  -8.898696\\\\\n",
       "\t 15.04485 & -10.825961\\\\\n",
       "\t 15.57851 & -16.503494\\\\\n",
       "\t 15.74566 & -12.569180\\\\\n",
       "\t 14.95008 & -14.742893\\\\\n",
       "\t 13.31067 &  -8.980243\\\\\n",
       "\t 19.49290 &  -8.652134\\\\\n",
       "\t 20.65537 & -10.176176\\\\\n",
       "\t 16.95822 &  -9.490076\\\\\n",
       "\t 21.03601 & -12.877405\\\\\n",
       "\t 12.72715 & -15.493099\\\\\n",
       "\t 15.47734 &  -7.024084\\\\\n",
       "\t 13.56173 &  -6.608486\\\\\n",
       "\\end{tabular}\n"
      ],
      "text/markdown": [
       "\n",
       "A matrix: 18 × 2 of type dbl\n",
       "\n",
       "| x | y |\n",
       "|---|---|\n",
       "| 13.88139 |  -8.977738 |\n",
       "| 13.98972 | -12.933527 |\n",
       "| 17.36258 | -12.324940 |\n",
       "| 12.47570 |  -5.039151 |\n",
       "| 19.51790 | -16.119023 |\n",
       "| 14.94594 |  -8.898696 |\n",
       "| 15.04485 | -10.825961 |\n",
       "| 15.57851 | -16.503494 |\n",
       "| 15.74566 | -12.569180 |\n",
       "| 14.95008 | -14.742893 |\n",
       "| 13.31067 |  -8.980243 |\n",
       "| 19.49290 |  -8.652134 |\n",
       "| 20.65537 | -10.176176 |\n",
       "| 16.95822 |  -9.490076 |\n",
       "| 21.03601 | -12.877405 |\n",
       "| 12.72715 | -15.493099 |\n",
       "| 15.47734 |  -7.024084 |\n",
       "| 13.56173 |  -6.608486 |\n",
       "\n"
      ],
      "text/plain": [
       "      x        y         \n",
       " [1,] 13.88139  -8.977738\n",
       " [2,] 13.98972 -12.933527\n",
       " [3,] 17.36258 -12.324940\n",
       " [4,] 12.47570  -5.039151\n",
       " [5,] 19.51790 -16.119023\n",
       " [6,] 14.94594  -8.898696\n",
       " [7,] 15.04485 -10.825961\n",
       " [8,] 15.57851 -16.503494\n",
       " [9,] 15.74566 -12.569180\n",
       "[10,] 14.95008 -14.742893\n",
       "[11,] 13.31067  -8.980243\n",
       "[12,] 19.49290  -8.652134\n",
       "[13,] 20.65537 -10.176176\n",
       "[14,] 16.95822  -9.490076\n",
       "[15,] 21.03601 -12.877405\n",
       "[16,] 12.72715 -15.493099\n",
       "[17,] 15.47734  -7.024084\n",
       "[18,] 13.56173  -6.608486"
      ]
     },
     "metadata": {},
     "output_type": "display_data"
    }
   ],
   "source": [
    "coords <- terra::crds(centroids)\n",
    "coords"
   ]
  },
  {
   "cell_type": "code",
   "execution_count": null,
   "metadata": {
    "vscode": {
     "languageId": "r"
    }
   },
   "outputs": [],
   "source": []
  },
  {
   "cell_type": "code",
   "execution_count": null,
   "metadata": {
    "vscode": {
     "languageId": "r"
    }
   },
   "outputs": [],
   "source": []
  },
  {
   "cell_type": "code",
   "execution_count": null,
   "metadata": {
    "vscode": {
     "languageId": "r"
    }
   },
   "outputs": [],
   "source": []
  },
  {
   "cell_type": "markdown",
   "metadata": {},
   "source": [
    "## Nuts3"
   ]
  },
  {
   "cell_type": "code",
   "execution_count": 2,
   "metadata": {
    "vscode": {
     "languageId": "r"
    }
   },
   "outputs": [
    {
     "name": "stderr",
     "output_type": "stream",
     "text": [
      "Loading required namespace: sf\n",
      "\n",
      "Extracting data from eurostat::eurostat_geodata_60_2016\n",
      "\n"
     ]
    }
   ],
   "source": [
    "nuts3_shapefile <- eurostat::get_eurostat_geospatial(nuts_level = 3, year = 2016, output_class = \"sf\")"
   ]
  },
  {
   "cell_type": "code",
   "execution_count": 11,
   "metadata": {
    "vscode": {
     "languageId": "r"
    }
   },
   "outputs": [
    {
     "name": "stderr",
     "output_type": "stream",
     "text": [
      "ERROR while rich displaying an object: Error in loadNamespace(x): there is no package called ‘geojsonio’\n",
      "\n",
      "Traceback:\n",
      "1. tryCatch(withCallingHandlers({\n",
      " .     if (!mime %in% names(repr::mime2repr)) \n",
      " .         stop(\"No repr_* for mimetype \", mime, \" in repr::mime2repr\")\n",
      " .     rpr <- repr::mime2repr[[mime]](obj)\n",
      " .     if (is.null(rpr)) \n",
      " .         return(NULL)\n",
      " .     prepare_content(is.raw(rpr), rpr)\n",
      " . }, error = error_handler), error = outer_handler)\n",
      "2. tryCatchList(expr, classes, parentenv, handlers)\n",
      "3. tryCatchOne(expr, names, parentenv, handlers[[1L]])\n",
      "4. doTryCatch(return(expr), name, parentenv, handler)\n",
      "5. withCallingHandlers({\n",
      " .     if (!mime %in% names(repr::mime2repr)) \n",
      " .         stop(\"No repr_* for mimetype \", mime, \" in repr::mime2repr\")\n",
      " .     rpr <- repr::mime2repr[[mime]](obj)\n",
      " .     if (is.null(rpr)) \n",
      " .         return(NULL)\n",
      " .     prepare_content(is.raw(rpr), rpr)\n",
      " . }, error = error_handler)\n",
      "6. repr::mime2repr[[mime]](obj)\n",
      "7. repr_geojson.sf(obj)\n",
      "8. repr_geojson(geojsonio::geojson_list(obj), ...)\n",
      "9. loadNamespace(x)\n",
      "10. withRestarts(stop(cond), retry_loadNamespace = function() NULL)\n",
      "11. withOneRestart(expr, restarts[[1L]])\n",
      "12. doWithOneRestart(return(expr), restart)\n"
     ]
    },
    {
     "data": {
      "text/html": [
       "<table class=\"dataframe\">\n",
       "<caption>A sf: 6 × 12</caption>\n",
       "<thead>\n",
       "\t<tr><th></th><th scope=col>id</th><th scope=col>LEVL_CODE</th><th scope=col>NUTS_ID</th><th scope=col>CNTR_CODE</th><th scope=col>NAME_LATN</th><th scope=col>NUTS_NAME</th><th scope=col>MOUNT_TYPE</th><th scope=col>URBN_TYPE</th><th scope=col>COAST_TYPE</th><th scope=col>FID</th><th scope=col>geo</th><th scope=col>geometry</th></tr>\n",
       "\t<tr><th></th><th scope=col>&lt;chr&gt;</th><th scope=col>&lt;dbl&gt;</th><th scope=col>&lt;chr&gt;</th><th scope=col>&lt;chr&gt;</th><th scope=col>&lt;chr&gt;</th><th scope=col>&lt;chr&gt;</th><th scope=col>&lt;dbl&gt;</th><th scope=col>&lt;dbl&gt;</th><th scope=col>&lt;dbl&gt;</th><th scope=col>&lt;chr&gt;</th><th scope=col>&lt;chr&gt;</th><th scope=col>&lt;MULTIPOLYGON [°]&gt;</th></tr>\n",
       "</thead>\n",
       "<tbody>\n",
       "\t<tr><th scope=row>1517</th><td>UKN11</td><td>3</td><td>UKN11</td><td>UK</td><td>Mid Ulster              </td><td>Mid Ulster              </td><td>4</td><td>3</td><td>2</td><td>UKN11</td><td>UKN11</td><td>MULTIPOLYGON (((-6.5 54.919...</td></tr>\n",
       "\t<tr><th scope=row>1518</th><td>UKN12</td><td>3</td><td>UKN12</td><td>UK</td><td>Causeway Coast and Glens</td><td>Causeway Coast and Glens</td><td>4</td><td>3</td><td>1</td><td>UKN12</td><td>UKN12</td><td>MULTIPOLYGON (((-6.209 55.2...</td></tr>\n",
       "\t<tr><th scope=row>1519</th><td>UKN13</td><td>3</td><td>UKN13</td><td>UK</td><td>Antrim and Newtownabbey </td><td>Antrim and Newtownabbey </td><td>4</td><td>2</td><td>1</td><td>UKN13</td><td>UKN13</td><td>MULTIPOLYGON (((-5.968 54.7...</td></tr>\n",
       "\t<tr><th scope=row>1520</th><td>UKN14</td><td>3</td><td>UKN14</td><td>UK</td><td>Lisburn and Castlereagh </td><td>Lisburn and Castlereagh </td><td>4</td><td>1</td><td>2</td><td>UKN14</td><td>UKN14</td><td>MULTIPOLYGON (((-5.809 54.6...</td></tr>\n",
       "\t<tr><th scope=row>1521</th><td>UKN15</td><td>3</td><td>UKN15</td><td>UK</td><td>Mid and East Antrim     </td><td>Mid and East Antrim     </td><td>4</td><td>2</td><td>1</td><td>UKN15</td><td>UKN15</td><td>MULTIPOLYGON (((-5.977 55.0...</td></tr>\n",
       "\t<tr><th scope=row>1522</th><td>UKN16</td><td>3</td><td>UKN16</td><td>UK</td><td>Fermanagh and Omagh     </td><td>Fermanagh and Omagh     </td><td>4</td><td>3</td><td>2</td><td>UKN16</td><td>UKN16</td><td>MULTIPOLYGON (((-6.984 54.6...</td></tr>\n",
       "</tbody>\n",
       "</table>\n"
      ],
      "text/latex": [
       "A sf: 6 × 12\n",
       "\\begin{tabular}{r|llllllllllll}\n",
       "  & id & LEVL\\_CODE & NUTS\\_ID & CNTR\\_CODE & NAME\\_LATN & NUTS\\_NAME & MOUNT\\_TYPE & URBN\\_TYPE & COAST\\_TYPE & FID & geo & geometry\\\\\n",
       "  & <chr> & <dbl> & <chr> & <chr> & <chr> & <chr> & <dbl> & <dbl> & <dbl> & <chr> & <chr> & <MULTIPOLYGON {[}°{]}>\\\\\n",
       "\\hline\n",
       "\t1517 & UKN11 & 3 & UKN11 & UK & Mid Ulster               & Mid Ulster               & 4 & 3 & 2 & UKN11 & UKN11 & MULTIPOLYGON (((-6.5 54.919...\\\\\n",
       "\t1518 & UKN12 & 3 & UKN12 & UK & Causeway Coast and Glens & Causeway Coast and Glens & 4 & 3 & 1 & UKN12 & UKN12 & MULTIPOLYGON (((-6.209 55.2...\\\\\n",
       "\t1519 & UKN13 & 3 & UKN13 & UK & Antrim and Newtownabbey  & Antrim and Newtownabbey  & 4 & 2 & 1 & UKN13 & UKN13 & MULTIPOLYGON (((-5.968 54.7...\\\\\n",
       "\t1520 & UKN14 & 3 & UKN14 & UK & Lisburn and Castlereagh  & Lisburn and Castlereagh  & 4 & 1 & 2 & UKN14 & UKN14 & MULTIPOLYGON (((-5.809 54.6...\\\\\n",
       "\t1521 & UKN15 & 3 & UKN15 & UK & Mid and East Antrim      & Mid and East Antrim      & 4 & 2 & 1 & UKN15 & UKN15 & MULTIPOLYGON (((-5.977 55.0...\\\\\n",
       "\t1522 & UKN16 & 3 & UKN16 & UK & Fermanagh and Omagh      & Fermanagh and Omagh      & 4 & 3 & 2 & UKN16 & UKN16 & MULTIPOLYGON (((-6.984 54.6...\\\\\n",
       "\\end{tabular}\n"
      ],
      "text/markdown": [
       "\n",
       "A sf: 6 × 12\n",
       "\n",
       "| <!--/--> | id &lt;chr&gt; | LEVL_CODE &lt;dbl&gt; | NUTS_ID &lt;chr&gt; | CNTR_CODE &lt;chr&gt; | NAME_LATN &lt;chr&gt; | NUTS_NAME &lt;chr&gt; | MOUNT_TYPE &lt;dbl&gt; | URBN_TYPE &lt;dbl&gt; | COAST_TYPE &lt;dbl&gt; | FID &lt;chr&gt; | geo &lt;chr&gt; | geometry &lt;MULTIPOLYGON [°]&gt; |\n",
       "|---|---|---|---|---|---|---|---|---|---|---|---|---|\n",
       "| 1517 | UKN11 | 3 | UKN11 | UK | Mid Ulster               | Mid Ulster               | 4 | 3 | 2 | UKN11 | UKN11 | MULTIPOLYGON (((-6.5 54.919... |\n",
       "| 1518 | UKN12 | 3 | UKN12 | UK | Causeway Coast and Glens | Causeway Coast and Glens | 4 | 3 | 1 | UKN12 | UKN12 | MULTIPOLYGON (((-6.209 55.2... |\n",
       "| 1519 | UKN13 | 3 | UKN13 | UK | Antrim and Newtownabbey  | Antrim and Newtownabbey  | 4 | 2 | 1 | UKN13 | UKN13 | MULTIPOLYGON (((-5.968 54.7... |\n",
       "| 1520 | UKN14 | 3 | UKN14 | UK | Lisburn and Castlereagh  | Lisburn and Castlereagh  | 4 | 1 | 2 | UKN14 | UKN14 | MULTIPOLYGON (((-5.809 54.6... |\n",
       "| 1521 | UKN15 | 3 | UKN15 | UK | Mid and East Antrim      | Mid and East Antrim      | 4 | 2 | 1 | UKN15 | UKN15 | MULTIPOLYGON (((-5.977 55.0... |\n",
       "| 1522 | UKN16 | 3 | UKN16 | UK | Fermanagh and Omagh      | Fermanagh and Omagh      | 4 | 3 | 2 | UKN16 | UKN16 | MULTIPOLYGON (((-6.984 54.6... |\n",
       "\n"
      ],
      "text/plain": [
       "     id    LEVL_CODE NUTS_ID CNTR_CODE NAME_LATN               \n",
       "1517 UKN11 3         UKN11   UK        Mid Ulster              \n",
       "1518 UKN12 3         UKN12   UK        Causeway Coast and Glens\n",
       "1519 UKN13 3         UKN13   UK        Antrim and Newtownabbey \n",
       "1520 UKN14 3         UKN14   UK        Lisburn and Castlereagh \n",
       "1521 UKN15 3         UKN15   UK        Mid and East Antrim     \n",
       "1522 UKN16 3         UKN16   UK        Fermanagh and Omagh     \n",
       "     NUTS_NAME                MOUNT_TYPE URBN_TYPE COAST_TYPE FID   geo  \n",
       "1517 Mid Ulster               4          3         2          UKN11 UKN11\n",
       "1518 Causeway Coast and Glens 4          3         1          UKN12 UKN12\n",
       "1519 Antrim and Newtownabbey  4          2         1          UKN13 UKN13\n",
       "1520 Lisburn and Castlereagh  4          1         2          UKN14 UKN14\n",
       "1521 Mid and East Antrim      4          2         1          UKN15 UKN15\n",
       "1522 Fermanagh and Omagh      4          3         2          UKN16 UKN16\n",
       "     geometry                      \n",
       "1517 MULTIPOLYGON (((-6.5 54.919...\n",
       "1518 MULTIPOLYGON (((-6.209 55.2...\n",
       "1519 MULTIPOLYGON (((-5.968 54.7...\n",
       "1520 MULTIPOLYGON (((-5.809 54.6...\n",
       "1521 MULTIPOLYGON (((-5.977 55.0...\n",
       "1522 MULTIPOLYGON (((-6.984 54.6..."
      ]
     },
     "metadata": {},
     "output_type": "display_data"
    }
   ],
   "source": [
    "tail(nuts3_shapefile)"
   ]
  },
  {
   "cell_type": "code",
   "execution_count": 4,
   "metadata": {
    "vscode": {
     "languageId": "r"
    }
   },
   "outputs": [],
   "source": [
    "nuts3_region <- nuts3_shapefile[nuts3_shapefile$id == \"ITC13\", ]"
   ]
  },
  {
   "cell_type": "code",
   "execution_count": 5,
   "metadata": {
    "vscode": {
     "languageId": "r"
    }
   },
   "outputs": [
    {
     "name": "stderr",
     "output_type": "stream",
     "text": [
      "ERROR while rich displaying an object: Error in loadNamespace(x): there is no package called ‘geojsonio’\n",
      "\n",
      "Traceback:\n",
      "1. tryCatch(withCallingHandlers({\n",
      " .     if (!mime %in% names(repr::mime2repr)) \n",
      " .         stop(\"No repr_* for mimetype \", mime, \" in repr::mime2repr\")\n",
      " .     rpr <- repr::mime2repr[[mime]](obj)\n",
      " .     if (is.null(rpr)) \n",
      " .         return(NULL)\n",
      " .     prepare_content(is.raw(rpr), rpr)\n",
      " . }, error = error_handler), error = outer_handler)\n",
      "2. tryCatchList(expr, classes, parentenv, handlers)\n",
      "3. tryCatchOne(expr, names, parentenv, handlers[[1L]])\n",
      "4. doTryCatch(return(expr), name, parentenv, handler)\n",
      "5. withCallingHandlers({\n",
      " .     if (!mime %in% names(repr::mime2repr)) \n",
      " .         stop(\"No repr_* for mimetype \", mime, \" in repr::mime2repr\")\n",
      " .     rpr <- repr::mime2repr[[mime]](obj)\n",
      " .     if (is.null(rpr)) \n",
      " .         return(NULL)\n",
      " .     prepare_content(is.raw(rpr), rpr)\n",
      " . }, error = error_handler)\n",
      "6. repr::mime2repr[[mime]](obj)\n",
      "7. repr_geojson.sf(obj)\n",
      "8. repr_geojson(geojsonio::geojson_list(obj), ...)\n",
      "9. loadNamespace(x)\n",
      "10. withRestarts(stop(cond), retry_loadNamespace = function() NULL)\n",
      "11. withOneRestart(expr, restarts[[1L]])\n",
      "12. doWithOneRestart(return(expr), restart)\n"
     ]
    },
    {
     "data": {
      "text/html": [
       "<table class=\"dataframe\">\n",
       "<caption>A sf: 1 × 12</caption>\n",
       "<thead>\n",
       "\t<tr><th></th><th scope=col>id</th><th scope=col>LEVL_CODE</th><th scope=col>NUTS_ID</th><th scope=col>CNTR_CODE</th><th scope=col>NAME_LATN</th><th scope=col>NUTS_NAME</th><th scope=col>MOUNT_TYPE</th><th scope=col>URBN_TYPE</th><th scope=col>COAST_TYPE</th><th scope=col>FID</th><th scope=col>geo</th><th scope=col>geometry</th></tr>\n",
       "\t<tr><th></th><th scope=col>&lt;chr&gt;</th><th scope=col>&lt;dbl&gt;</th><th scope=col>&lt;chr&gt;</th><th scope=col>&lt;chr&gt;</th><th scope=col>&lt;chr&gt;</th><th scope=col>&lt;chr&gt;</th><th scope=col>&lt;dbl&gt;</th><th scope=col>&lt;dbl&gt;</th><th scope=col>&lt;dbl&gt;</th><th scope=col>&lt;chr&gt;</th><th scope=col>&lt;chr&gt;</th><th scope=col>&lt;MULTIPOLYGON [°]&gt;</th></tr>\n",
       "</thead>\n",
       "<tbody>\n",
       "\t<tr><th scope=row>862</th><td>ITC13</td><td>3</td><td>ITC13</td><td>IT</td><td>Biella</td><td>Biella</td><td>3</td><td>2</td><td>3</td><td>ITC13</td><td>ITC13</td><td>MULTIPOLYGON (((8.188 45.44...</td></tr>\n",
       "</tbody>\n",
       "</table>\n"
      ],
      "text/latex": [
       "A sf: 1 × 12\n",
       "\\begin{tabular}{r|llllllllllll}\n",
       "  & id & LEVL\\_CODE & NUTS\\_ID & CNTR\\_CODE & NAME\\_LATN & NUTS\\_NAME & MOUNT\\_TYPE & URBN\\_TYPE & COAST\\_TYPE & FID & geo & geometry\\\\\n",
       "  & <chr> & <dbl> & <chr> & <chr> & <chr> & <chr> & <dbl> & <dbl> & <dbl> & <chr> & <chr> & <MULTIPOLYGON {[}°{]}>\\\\\n",
       "\\hline\n",
       "\t862 & ITC13 & 3 & ITC13 & IT & Biella & Biella & 3 & 2 & 3 & ITC13 & ITC13 & MULTIPOLYGON (((8.188 45.44...\\\\\n",
       "\\end{tabular}\n"
      ],
      "text/markdown": [
       "\n",
       "A sf: 1 × 12\n",
       "\n",
       "| <!--/--> | id &lt;chr&gt; | LEVL_CODE &lt;dbl&gt; | NUTS_ID &lt;chr&gt; | CNTR_CODE &lt;chr&gt; | NAME_LATN &lt;chr&gt; | NUTS_NAME &lt;chr&gt; | MOUNT_TYPE &lt;dbl&gt; | URBN_TYPE &lt;dbl&gt; | COAST_TYPE &lt;dbl&gt; | FID &lt;chr&gt; | geo &lt;chr&gt; | geometry &lt;MULTIPOLYGON [°]&gt; |\n",
       "|---|---|---|---|---|---|---|---|---|---|---|---|---|\n",
       "| 862 | ITC13 | 3 | ITC13 | IT | Biella | Biella | 3 | 2 | 3 | ITC13 | ITC13 | MULTIPOLYGON (((8.188 45.44... |\n",
       "\n"
      ],
      "text/plain": [
       "    id    LEVL_CODE NUTS_ID CNTR_CODE NAME_LATN NUTS_NAME MOUNT_TYPE URBN_TYPE\n",
       "862 ITC13 3         ITC13   IT        Biella    Biella    3          2        \n",
       "    COAST_TYPE FID   geo   geometry                      \n",
       "862 3          ITC13 ITC13 MULTIPOLYGON (((8.188 45.44..."
      ]
     },
     "metadata": {},
     "output_type": "display_data"
    }
   ],
   "source": [
    "head(nuts3_region)"
   ]
  },
  {
   "cell_type": "code",
   "execution_count": 6,
   "metadata": {
    "vscode": {
     "languageId": "r"
    }
   },
   "outputs": [],
   "source": [
    "country_iso3 <- countrycode::countrycode(nuts3_region$CNTR_CODE, origin = \"iso2c\", destination = \"iso3c\")"
   ]
  },
  {
   "cell_type": "code",
   "execution_count": 7,
   "metadata": {
    "vscode": {
     "languageId": "r"
    }
   },
   "outputs": [
    {
     "data": {
      "text/html": [
       "'ITA'"
      ],
      "text/latex": [
       "'ITA'"
      ],
      "text/markdown": [
       "'ITA'"
      ],
      "text/plain": [
       "[1] \"ITA\""
      ]
     },
     "metadata": {},
     "output_type": "display_data"
    }
   ],
   "source": [
    "country_iso3"
   ]
  },
  {
   "cell_type": "code",
   "execution_count": 13,
   "metadata": {
    "vscode": {
     "languageId": "r"
    }
   },
   "outputs": [
    {
     "name": "stderr",
     "output_type": "stream",
     "text": [
      "Warning message in st_centroid.sf(nuts3_region):\n",
      "“st_centroid assumes attributes are constant over geometries of x”\n"
     ]
    },
    {
     "name": "stderr",
     "output_type": "stream",
     "text": [
      "ERROR while rich displaying an object: Error in loadNamespace(x): there is no package called ‘geojsonio’\n",
      "\n",
      "Traceback:\n",
      "1. tryCatch(withCallingHandlers({\n",
      " .     if (!mime %in% names(repr::mime2repr)) \n",
      " .         stop(\"No repr_* for mimetype \", mime, \" in repr::mime2repr\")\n",
      " .     rpr <- repr::mime2repr[[mime]](obj)\n",
      " .     if (is.null(rpr)) \n",
      " .         return(NULL)\n",
      " .     prepare_content(is.raw(rpr), rpr)\n",
      " . }, error = error_handler), error = outer_handler)\n",
      "2. tryCatchList(expr, classes, parentenv, handlers)\n",
      "3. tryCatchOne(expr, names, parentenv, handlers[[1L]])\n",
      "4. doTryCatch(return(expr), name, parentenv, handler)\n",
      "5. withCallingHandlers({\n",
      " .     if (!mime %in% names(repr::mime2repr)) \n",
      " .         stop(\"No repr_* for mimetype \", mime, \" in repr::mime2repr\")\n",
      " .     rpr <- repr::mime2repr[[mime]](obj)\n",
      " .     if (is.null(rpr)) \n",
      " .         return(NULL)\n",
      " .     prepare_content(is.raw(rpr), rpr)\n",
      " . }, error = error_handler)\n",
      "6. repr::mime2repr[[mime]](obj)\n",
      "7. repr_geojson.sf(obj)\n",
      "8. repr_geojson(geojsonio::geojson_list(obj), ...)\n",
      "9. loadNamespace(x)\n",
      "10. withRestarts(stop(cond), retry_loadNamespace = function() NULL)\n",
      "11. withOneRestart(expr, restarts[[1L]])\n",
      "12. doWithOneRestart(return(expr), restart)\n"
     ]
    },
    {
     "data": {
      "text/html": [
       "<table class=\"dataframe\">\n",
       "<caption>A sf: 1 × 12</caption>\n",
       "<thead>\n",
       "\t<tr><th></th><th scope=col>id</th><th scope=col>LEVL_CODE</th><th scope=col>NUTS_ID</th><th scope=col>CNTR_CODE</th><th scope=col>NAME_LATN</th><th scope=col>NUTS_NAME</th><th scope=col>MOUNT_TYPE</th><th scope=col>URBN_TYPE</th><th scope=col>COAST_TYPE</th><th scope=col>FID</th><th scope=col>geo</th><th scope=col>geometry</th></tr>\n",
       "\t<tr><th></th><th scope=col>&lt;chr&gt;</th><th scope=col>&lt;dbl&gt;</th><th scope=col>&lt;chr&gt;</th><th scope=col>&lt;chr&gt;</th><th scope=col>&lt;chr&gt;</th><th scope=col>&lt;chr&gt;</th><th scope=col>&lt;dbl&gt;</th><th scope=col>&lt;dbl&gt;</th><th scope=col>&lt;dbl&gt;</th><th scope=col>&lt;chr&gt;</th><th scope=col>&lt;chr&gt;</th><th scope=col>&lt;POINT [°]&gt;</th></tr>\n",
       "</thead>\n",
       "<tbody>\n",
       "\t<tr><th scope=row>862</th><td>ITC13</td><td>3</td><td>ITC13</td><td>IT</td><td>Biella</td><td>Biella</td><td>3</td><td>2</td><td>3</td><td>ITC13</td><td>ITC13</td><td>POINT (8.082098 45.58516)</td></tr>\n",
       "</tbody>\n",
       "</table>\n"
      ],
      "text/latex": [
       "A sf: 1 × 12\n",
       "\\begin{tabular}{r|llllllllllll}\n",
       "  & id & LEVL\\_CODE & NUTS\\_ID & CNTR\\_CODE & NAME\\_LATN & NUTS\\_NAME & MOUNT\\_TYPE & URBN\\_TYPE & COAST\\_TYPE & FID & geo & geometry\\\\\n",
       "  & <chr> & <dbl> & <chr> & <chr> & <chr> & <chr> & <dbl> & <dbl> & <dbl> & <chr> & <chr> & <POINT {[}°{]}>\\\\\n",
       "\\hline\n",
       "\t862 & ITC13 & 3 & ITC13 & IT & Biella & Biella & 3 & 2 & 3 & ITC13 & ITC13 & POINT (8.082098 45.58516)\\\\\n",
       "\\end{tabular}\n"
      ],
      "text/markdown": [
       "\n",
       "A sf: 1 × 12\n",
       "\n",
       "| <!--/--> | id &lt;chr&gt; | LEVL_CODE &lt;dbl&gt; | NUTS_ID &lt;chr&gt; | CNTR_CODE &lt;chr&gt; | NAME_LATN &lt;chr&gt; | NUTS_NAME &lt;chr&gt; | MOUNT_TYPE &lt;dbl&gt; | URBN_TYPE &lt;dbl&gt; | COAST_TYPE &lt;dbl&gt; | FID &lt;chr&gt; | geo &lt;chr&gt; | geometry &lt;POINT [°]&gt; |\n",
       "|---|---|---|---|---|---|---|---|---|---|---|---|---|\n",
       "| 862 | ITC13 | 3 | ITC13 | IT | Biella | Biella | 3 | 2 | 3 | ITC13 | ITC13 | POINT (8.082098 45.58516) |\n",
       "\n"
      ],
      "text/plain": [
       "    id    LEVL_CODE NUTS_ID CNTR_CODE NAME_LATN NUTS_NAME MOUNT_TYPE URBN_TYPE\n",
       "862 ITC13 3         ITC13   IT        Biella    Biella    3          2        \n",
       "    COAST_TYPE FID   geo   geometry                 \n",
       "862 3          ITC13 ITC13 POINT (8.082098 45.58516)"
      ]
     },
     "metadata": {},
     "output_type": "display_data"
    }
   ],
   "source": [
    "library(sf)\n",
    "st_centroid(nuts3_region)"
   ]
  },
  {
   "cell_type": "code",
   "execution_count": 14,
   "metadata": {
    "vscode": {
     "languageId": "r"
    }
   },
   "outputs": [
    {
     "data": {
      "text/html": [
       "<table class=\"dataframe\">\n",
       "<caption>A matrix: 1 × 2 of type dbl</caption>\n",
       "<thead>\n",
       "\t<tr><th></th><th scope=col>X</th><th scope=col>Y</th></tr>\n",
       "</thead>\n",
       "<tbody>\n",
       "\t<tr><th scope=row>1</th><td>8.082098</td><td>45.58516</td></tr>\n",
       "</tbody>\n",
       "</table>\n"
      ],
      "text/latex": [
       "A matrix: 1 × 2 of type dbl\n",
       "\\begin{tabular}{r|ll}\n",
       "  & X & Y\\\\\n",
       "\\hline\n",
       "\t1 & 8.082098 & 45.58516\\\\\n",
       "\\end{tabular}\n"
      ],
      "text/markdown": [
       "\n",
       "A matrix: 1 × 2 of type dbl\n",
       "\n",
       "| <!--/--> | X | Y |\n",
       "|---|---|---|\n",
       "| 1 | 8.082098 | 45.58516 |\n",
       "\n"
      ],
      "text/plain": [
       "  X        Y       \n",
       "1 8.082098 45.58516"
      ]
     },
     "metadata": {},
     "output_type": "display_data"
    }
   ],
   "source": [
    "# Calculate the centroids of each region's geometry\n",
    "centroids <- st_centroid(nuts3_region$geometry)\n",
    "\n",
    "# Extract coordinates of the centroids\n",
    "coords <- st_coordinates(centroids)\n",
    "\n",
    "\n",
    "coords"
   ]
  },
  {
   "cell_type": "code",
   "execution_count": null,
   "metadata": {
    "vscode": {
     "languageId": "r"
    }
   },
   "outputs": [],
   "source": []
  }
 ],
 "metadata": {
  "kernelspec": {
   "display_name": "R",
   "language": "R",
   "name": "ir"
  },
  "language_info": {
   "codemirror_mode": "r",
   "file_extension": ".r",
   "mimetype": "text/x-r-source",
   "name": "R",
   "pygments_lexer": "r",
   "version": "4.3.3"
  }
 },
 "nbformat": 4,
 "nbformat_minor": 2
}
