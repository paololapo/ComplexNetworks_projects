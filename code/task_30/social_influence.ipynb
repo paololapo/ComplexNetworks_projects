{
 "cells": [
  {
   "cell_type": "code",
   "execution_count": null,
   "metadata": {
    "vscode": {
     "languageId": "r"
    }
   },
   "outputs": [],
   "source": [
    "library(ggplot2)\n",
    "library(igraph)\n",
    "library(dplyr)\n",
    "library(RColorBrewer)\n",
    "library(progress)\n",
    "library(purrr)\n",
    "library(cowplot)\n",
    "\n",
    "library(foreach)\n",
    "library(doParallel)\n",
    "\n",
    "source(\"simpleDynamics.R\")"
   ]
  },
  {
   "cell_type": "markdown",
   "metadata": {},
   "source": [
    "## Single shot dynamics"
   ]
  },
  {
   "cell_type": "code",
   "execution_count": 2,
   "metadata": {
    "vscode": {
     "languageId": "r"
    }
   },
   "outputs": [],
   "source": [
    "edge_cmap <- colorRampPalette(c(\"darkblue\", \"white\"))"
   ]
  },
  {
   "cell_type": "code",
   "execution_count": 3,
   "metadata": {
    "vscode": {
     "languageId": "r"
    }
   },
   "outputs": [],
   "source": [
    "# Create the (lattice) graph\n",
    "L <- 10\n",
    "d <- 2\n",
    "g <- make_lattice(length = L, dim = d)\n",
    "\n",
    "# Hyperparameters and initialization\n",
    "F <- 10 # Number of features\n",
    "q <- 4 # Disorder parameter\n",
    "mode <- \"pois\"\n",
    "\n",
    "g <- initialize_features(g, F, q, mode)"
   ]
  },
  {
   "cell_type": "code",
   "execution_count": null,
   "metadata": {
    "vscode": {
     "languageId": "r"
    }
   },
   "outputs": [],
   "source": [
    "## Dynamics ##\n",
    "snapshots <- c(1, 1000, 10000, 100000)\n",
    "\n",
    "# Initialize the progress bar\n",
    "total_steps <- max(snapshots)\n",
    "pb <- txtProgressBar(min = 1, max = total_steps, style = 3)\n",
    "\n",
    "# Loop\n",
    "for (i in 1:total_steps) {\n",
    "  if (i %in% snapshots) {\n",
    "    plotState(g, edge_cmap, i)\n",
    "  }\n",
    "  # Perform a single step of the dynamics\n",
    "  g <- single_step(g)\n",
    "  \n",
    "  setTxtProgressBar(pb, i)\n",
    "}\n",
    "\n",
    "close(pb) # Close the progress bar"
   ]
  },
  {
   "cell_type": "markdown",
   "metadata": {},
   "source": [
    "## Analysis"
   ]
  },
  {
   "cell_type": "code",
   "execution_count": null,
   "metadata": {
    "vscode": {
     "languageId": "r"
    }
   },
   "outputs": [],
   "source": [
    "# Plot dynamics (main report)\n",
    "ba <- plotDynamics(\"BA_1\", \"BA m=1 | F = 10\", 10, show=FALSE)\n",
    "er <- plotDynamics(\"ER_0-002\", \"ER p=0.002 | F = 10\", 10, show=FALSE)\n",
    "\n",
    "legend <- get_legend(ba[[1]] + \n",
    "  theme(legend.text = element_text(size = 24), legend.title = element_text(size = 24)))\n",
    "\n",
    "combined_plot <- plot_grid(\n",
    "  ba[[1]] + theme(legend.position = \"none\"), \n",
    "  ba[[2]] + theme(legend.position = \"none\"), \n",
    "  er[[1]] + theme(legend.position = \"none\"), \n",
    "  er[[2]] + theme(legend.position = \"none\"), \n",
    "  ncol = 2\n",
    ")\n",
    "\n",
    "final_plot <- plot_grid(\n",
    "  legend, combined_plot,\n",
    "  ncol = 2,\n",
    "  rel_heights = c(1, 1), rel_widths = c(0.03, 1)\n",
    ")\n",
    "\n",
    "ggsave(\"./temp_data/ba-er.png\", final_plot, width = 30, height = 10)"
   ]
  },
  {
   "cell_type": "code",
   "execution_count": null,
   "metadata": {
    "vscode": {
     "languageId": "r"
    }
   },
   "outputs": [],
   "source": [
    "# Plot dynamics (supplementary material)\n",
    "labels <- c(\"resultsLattice\", \"BA_1\", \"BA_5\", \"ER_0-002\", \"ER_0-007\", \"ER_0-012\")\n",
    "labels2 <- c(\"Lattice\", \"BA m=1\", \"BA m=5\", \"ER p=0.002\", \"ER p=0.007\", \"ER p=0.012\")\n",
    "F_values <- c(2, 10)\n",
    "\n",
    "for(i in 1:length(labels)){\n",
    "  label <- labels[i]\n",
    "  label2 <- labels2[i]\n",
    "\n",
    "  \n",
    "  for (F_value in F_values){\n",
    "    title <- paste0(label2, \" | F = \", F_value)\n",
    "    p <- plotDynamics(label, title, F_value, show=FALSE)\n",
    "    \n",
    "    legend <- get_legend(ba[[1]] + \n",
    "      theme(legend.text = element_text(size = 24), legend.title = element_text(size = 24)))\n",
    "\n",
    "    combined_plot <- plot_grid(\n",
    "      p[[1]] + theme(legend.position = \"none\"), \n",
    "      p[[2]] + theme(legend.position = \"none\"), \n",
    "      ncol = 2\n",
    "    )\n",
    "\n",
    "    final_plot <- plot_grid(\n",
    "      legend, combined_plot,\n",
    "      ncol = 2,\n",
    "      rel_heights = c(1, 1), rel_widths = c(0.03, 1)\n",
    "    )\n",
    "\n",
    "    ggsave(paste0(\"./temp_data/\", label, \"_\", F_value, \".png\"), final_plot, width = 30, height = 8)\n",
    "  }\n",
    "}"
   ]
  },
  {
   "cell_type": "code",
   "execution_count": null,
   "metadata": {
    "vscode": {
     "languageId": "r"
    }
   },
   "outputs": [],
   "source": [
    "# Plot phase transition\n",
    "labels <- c(\"resultsLattice\", \"BA_1\", \"BA_5\", \"ER_0-002\", \"ER_0-007\", \"ER_0-012\")\n",
    "labels2 <- c(\"Lattice\", \"BA m=1\", \"BA m=5\", \"ER p=0.002\", \"ER p=0.007\", \"ER p=0.012\")\n",
    "\n",
    "for (i in 1:length(labels)){\n",
    "  label <- labels[i]\n",
    "  label2 <- labels2[i]\n",
    "  \n",
    "  plotTransition(label, label2, show=TRUE)\n",
    "}"
   ]
  },
  {
   "cell_type": "code",
   "execution_count": 3,
   "metadata": {
    "vscode": {
     "languageId": "r"
    }
   },
   "outputs": [],
   "source": [
    "# Plot convergence\n",
    "labels <- c(\"BA_1\", \"BA_5\", \"ER_0-002\", \"ER_0-007\", \"ER_0-012\")\n",
    "q_values <- c(1, 10, 100, 200)\n",
    "F_value <- 10\n",
    "labels2 <- c(\"BA m=1\", \"BA m=5\", \"ER p=0.002\", \"ER p=0.007\", \"ER p=0.012\")\n",
    "\n",
    "final_plot <- plotCulturalConvergence(labels, labels2, q_values, F_value)\n",
    "\n",
    "ggsave(\"./temp_data/culturalconvergence.png\", plot = final_plot, width = 16, height = 6, units = \"in\")\n"
   ]
  }
 ],
 "metadata": {
  "kernelspec": {
   "display_name": "R",
   "language": "R",
   "name": "ir"
  },
  "language_info": {
   "codemirror_mode": "r",
   "file_extension": ".r",
   "mimetype": "text/x-r-source",
   "name": "R",
   "pygments_lexer": "r",
   "version": "4.1.2"
  }
 },
 "nbformat": 4,
 "nbformat_minor": 2
}
